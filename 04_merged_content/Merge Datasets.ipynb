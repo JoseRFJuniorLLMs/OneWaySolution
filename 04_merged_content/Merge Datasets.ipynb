{
 "cells": [
  {
   "cell_type": "code",
   "execution_count": 1,
   "metadata": {},
   "outputs": [],
   "source": [
    "import pandas as pd\n"
   ]
  },
  {
   "cell_type": "code",
   "execution_count": 2,
   "metadata": {},
   "outputs": [
    {
     "data": {
      "text/html": [
       "<div>\n",
       "<style scoped>\n",
       "    .dataframe tbody tr th:only-of-type {\n",
       "        vertical-align: middle;\n",
       "    }\n",
       "\n",
       "    .dataframe tbody tr th {\n",
       "        vertical-align: top;\n",
       "    }\n",
       "\n",
       "    .dataframe thead th {\n",
       "        text-align: right;\n",
       "    }\n",
       "</style>\n",
       "<table border=\"1\" class=\"dataframe\">\n",
       "  <thead>\n",
       "    <tr style=\"text-align: right;\">\n",
       "      <th></th>\n",
       "      <th>Nome do Arquivo</th>\n",
       "      <th>iCodDocumento</th>\n",
       "    </tr>\n",
       "  </thead>\n",
       "  <tbody>\n",
       "    <tr>\n",
       "      <th>0</th>\n",
       "      <td>03000000012017_6622932_inicial_lorena.pdf</td>\n",
       "      <td>5070</td>\n",
       "    </tr>\n",
       "    <tr>\n",
       "      <th>1</th>\n",
       "      <td>16000000032017_6626319_p.i..pdf</td>\n",
       "      <td>5070</td>\n",
       "    </tr>\n",
       "    <tr>\n",
       "      <th>2</th>\n",
       "      <td>16000000042017_6626401_p.i..pdf</td>\n",
       "      <td>5070</td>\n",
       "    </tr>\n",
       "    <tr>\n",
       "      <th>3</th>\n",
       "      <td>11000000012017_6626489_00122055920165030077.pdf</td>\n",
       "      <td>5070</td>\n",
       "    </tr>\n",
       "    <tr>\n",
       "      <th>4</th>\n",
       "      <td>04000000012017_6627051_NP00017480420165100002G...</td>\n",
       "      <td>5083</td>\n",
       "    </tr>\n",
       "  </tbody>\n",
       "</table>\n",
       "</div>"
      ],
      "text/plain": [
       "                                     Nome do Arquivo  iCodDocumento\n",
       "0         03000000012017_6622932_inicial_lorena.pdf            5070\n",
       "1                   16000000032017_6626319_p.i..pdf            5070\n",
       "2                   16000000042017_6626401_p.i..pdf            5070\n",
       "3   11000000012017_6626489_00122055920165030077.pdf            5070\n",
       "4  04000000012017_6627051_NP00017480420165100002G...           5083"
      ]
     },
     "execution_count": 2,
     "metadata": {},
     "output_type": "execute_result"
    }
   ],
   "source": [
    "cols = ['Nome do Arquivo', 'iCodDocumento']\n",
    "xls = pd.read_csv('../03_spreadsheets/xls-dataset.csv', sep = ';', usecols=cols)\n",
    "xls.head()"
   ]
  },
  {
   "cell_type": "code",
   "execution_count": 3,
   "metadata": {},
   "outputs": [
    {
     "data": {
      "text/html": [
       "<div>\n",
       "<style scoped>\n",
       "    .dataframe tbody tr th:only-of-type {\n",
       "        vertical-align: middle;\n",
       "    }\n",
       "\n",
       "    .dataframe tbody tr th {\n",
       "        vertical-align: top;\n",
       "    }\n",
       "\n",
       "    .dataframe thead th {\n",
       "        text-align: right;\n",
       "    }\n",
       "</style>\n",
       "<table border=\"1\" class=\"dataframe\">\n",
       "  <thead>\n",
       "    <tr style=\"text-align: right;\">\n",
       "      <th></th>\n",
       "      <th>Palavras-chave</th>\n",
       "      <th>Nome do Arquivo</th>\n",
       "    </tr>\n",
       "  </thead>\n",
       "  <tbody>\n",
       "    <tr>\n",
       "      <th>0</th>\n",
       "      <td>e o Palace e pior circunstancias e e sobre Mut...</td>\n",
       "      <td>02000008202017_7611299_20170413_FEDERAL_SEGURO...</td>\n",
       "    </tr>\n",
       "    <tr>\n",
       "      <th>1</th>\n",
       "      <td>opal op op ap orminr ap of ap nuvo op e sueuly...</td>\n",
       "      <td>02000008202017_7611303_20170413_FEDERAL_SEGURO...</td>\n",
       "    </tr>\n",
       "    <tr>\n",
       "      <th>2</th>\n",
       "      <td>para que que alterou o horas que os consideran...</td>\n",
       "      <td>02000000722017_6983943_PETICAO_INICIAL_ANA_LUC...</td>\n",
       "    </tr>\n",
       "    <tr>\n",
       "      <th>3</th>\n",
       "      <td>DA CLT e o funcionamento DA SÚMULA FEDERAL DA ...</td>\n",
       "      <td>02000001342017_6874716_PI.pdf</td>\n",
       "    </tr>\n",
       "    <tr>\n",
       "      <th>4</th>\n",
       "      <td>lotacao e eleicoes e bancos e Mercado e CAIXA ...</td>\n",
       "      <td>02001001382017_6873843_Documento(15).pdf</td>\n",
       "    </tr>\n",
       "  </tbody>\n",
       "</table>\n",
       "</div>"
      ],
      "text/plain": [
       "                                      Palavras-chave  \\\n",
       "0  e o Palace e pior circunstancias e e sobre Mut...   \n",
       "1  opal op op ap orminr ap of ap nuvo op e sueuly...   \n",
       "2  para que que alterou o horas que os consideran...   \n",
       "3  DA CLT e o funcionamento DA SÚMULA FEDERAL DA ...   \n",
       "4  lotacao e eleicoes e bancos e Mercado e CAIXA ...   \n",
       "\n",
       "                                     Nome do Arquivo  \n",
       "0  02000008202017_7611299_20170413_FEDERAL_SEGURO...  \n",
       "1  02000008202017_7611303_20170413_FEDERAL_SEGURO...  \n",
       "2  02000000722017_6983943_PETICAO_INICIAL_ANA_LUC...  \n",
       "3                      02000001342017_6874716_PI.pdf  \n",
       "4           02001001382017_6873843_Documento(15).pdf  "
      ]
     },
     "execution_count": 3,
     "metadata": {},
     "output_type": "execute_result"
    }
   ],
   "source": [
    "cols=['Nome do Arquivo','Palavras-chave']\n",
    "api = pd.read_csv('../02_azure_search/api-dataset.csv', sep = ';', usecols=cols)\n",
    "api.head()"
   ]
  },
  {
   "cell_type": "code",
   "execution_count": 4,
   "metadata": {},
   "outputs": [],
   "source": [
    "xls.set_index('Nome do Arquivo', inplace=True)\n",
    "api.set_index('Nome do Arquivo', inplace=True)"
   ]
  },
  {
   "cell_type": "code",
   "execution_count": 5,
   "metadata": {},
   "outputs": [
    {
     "name": "stdout",
     "output_type": "stream",
     "text": [
      "(2126, 1)\n",
      "(570, 1)\n"
     ]
    }
   ],
   "source": [
    "print(xls.shape)\n",
    "print(api.shape)"
   ]
  },
  {
   "cell_type": "code",
   "execution_count": 6,
   "metadata": {},
   "outputs": [
    {
     "data": {
      "text/plain": [
       "Index(['02000000122017_7284093_PETICAO_INICIAL_00023054620165110007.pdf',\n",
       "       '02000000182017_6739022_RT_00009552320165110201_DAYANA_DE_SOUZA_CARVALHO.pdf',\n",
       "       '02000000212017_6758941_PETICAO_INICIAL_RENATA.pdf',\n",
       "       '02000000222017_6758570_PETICAO_INICIAL__ROGERIO_PESSOA_DE_MELO.pdf',\n",
       "       '02000000302017_6761978_Mandado_de_Intimacao_-_Proc_16374-70.2016.4.01.3200.pdf',\n",
       "       '02000000312017_6778931_PETICAO_INICIAL_MARCOS_ROBERTO_DA_CUNHA.pdf',\n",
       "       '02000000312017_7201808_1.INICIAL.zip',\n",
       "       '02000000352017_6774071_20170119_MANDADO_DE_CITACAO_-_181890520164013200.pdf',\n",
       "       '02000000452017_6798683_RT_00023236120165110009_ADRIANA_SAID_NEGREIROS_MASCARENHAS_PONTES.pdf',\n",
       "       '02000000532017_6809593_20170125_-_PROCESSO_INTEGRAL_-_OSVANDO_REIS_QUEIROZ_0002532-03.2016.5.11.0018.pdf',\n",
       "       ...\n",
       "       '02001001532017_6963182_1000062-72.2017.4.01.4200.pdf',\n",
       "       '02001001532017_7595030_20170412_1000062-72.2017.4.01.4200.pdf',\n",
       "       '02001002032017_7101142_anexo2024475.pdf',\n",
       "       '02001002032017_7101143_anexo2024476.pdf',\n",
       "       '02001002032017_7101144_anexo2024477.pdf',\n",
       "       '02001002032017_7101145_anexo2024478.pdf',\n",
       "       '02001002032017_7101146_anexo2024479.pdf',\n",
       "       '02001002032017_7101147_anexo2024480(1).pdf',\n",
       "       '02001002052017_7064028_20170213__PETICAO_INICIAL.pdf',\n",
       "       '02001002052017_7134575_DOCUMENTACAO_INICIAL.pdf'],\n",
       "      dtype='object', name='Nome do Arquivo', length=570)"
      ]
     },
     "execution_count": 6,
     "metadata": {},
     "output_type": "execute_result"
    }
   ],
   "source": [
    "api.index.difference(xls.index)"
   ]
  },
  {
   "cell_type": "code",
   "execution_count": 7,
   "metadata": {},
   "outputs": [
    {
     "data": {
      "text/plain": [
       "Index(['02000000532017_6809593_20170125_-_PROCESSO_INTEGRAL_-_OSVANDO_REIS_QUEIROZ_0002532-03.2016.5.11.0018.pdf',\n",
       "       '02000005792017_7294356_PETICAO_INICIAL_JURANDIR_BARBOSA_DA_MOTA_-_0000332-83.2017.5.11.0019.pdf',\n",
       "       '02000005802017_7295032_20170316_PETICAO_INICIAL_LEOMAR_SOUZA_DE_LISBOA_-_0000581-86.2016.5.11.0401.pdf',\n",
       "       '02000008202017_7611300_20170413_FEDERAL_SEGUROS_-_00820_2017_-_0224726-83.2011.8.04.0001_18.pdf',\n",
       "       '02000008202017_7611301_20170413_FEDERAL_SEGUROS_-_00820_2017_-_0224726-83.2011.8.04.0001_17.pdf',\n",
       "       '02000008202017_7611302_20170413_FEDERAL_SEGUROS_-_00820_2017_-_0224726-83.2011.8.04.0001_16.pdf',\n",
       "       '02000008202017_7611303_20170413_FEDERAL_SEGUROS_-_00820_2017_-_0224726-83.2011.8.04.0001_15.pdf',\n",
       "       '02000008202017_7611304_20170413_FEDERAL_SEGUROS_-_00820_2017_-_0224726-83.2011.8.04.0001_14.pdf',\n",
       "       '02000008202017_7611305_20170413_FEDERAL_SEGUROS_-_00820_2017_-_0224726-83.2011.8.04.0001_13.pdf',\n",
       "       '02000008202017_7611306_20170413_FEDERAL_SEGUROS_-_00820_2017_-_0224726-83.2011.8.04.0001_12.pdf',\n",
       "       '02000008202017_7611307_20170413_FEDERAL_SEGUROS_-_00820_2017_-_0224726-83.2011.8.04.0001_11.pdf',\n",
       "       '02000008202017_7611308_20170413_FEDERAL_SEGUROS_-_00820_2017_-_0224726-83.2011.8.04.0001_10.pdf'],\n",
       "      dtype='object', name='Nome do Arquivo')"
      ]
     },
     "execution_count": 7,
     "metadata": {},
     "output_type": "execute_result"
    }
   ],
   "source": [
    "xls.index = xls.index.str.strip()\n",
    "api.index.difference(xls.index)"
   ]
  },
  {
   "cell_type": "code",
   "execution_count": 8,
   "metadata": {},
   "outputs": [
    {
     "data": {
      "text/plain": [
       "Index(['02000000532017_6809593_20170125_-_PROCESSO_INTEGRAL_-_OSVANDO_REIS_QUEIROZ_0002532-03.2016.5.11.0018.pdf', '02000005802017_7295032_20170316_PETICAO_INICIAL_LEOMAR_SOUZA_DE_LISBOA_-_0000581-86.2016.5.11.0401.pdf'], dtype='object', name='Nome do Arquivo')"
      ]
     },
     "execution_count": 8,
     "metadata": {},
     "output_type": "execute_result"
    }
   ],
   "source": [
    "xls.index = xls.index.str.replace(' /V /', '', regex=False)\n",
    "api.index.difference(xls.index)"
   ]
  },
  {
   "cell_type": "code",
   "execution_count": 9,
   "metadata": {},
   "outputs": [
    {
     "data": {
      "text/plain": [
       "Index([], dtype='object', name='Nome do Arquivo')"
      ]
     },
     "execution_count": 9,
     "metadata": {},
     "output_type": "execute_result"
    }
   ],
   "source": [
    "row = [\n",
    "    '02000000532017_6809593_20170125_-_PROCESSO_INTEGRAL_-_OSVANDO_REIS_QUEIROZ_0002532-03.2016.5.11.0018',\n",
    "    '02000005802017_7295032_20170316_PETICAO_INICIAL_LEOMAR_SOUZA_DE_LISBOA_-_0000581-86.2016.5.11.0401.p'\n",
    "]\n",
    "fix = [\n",
    "    '02000000532017_6809593_20170125_-_PROCESSO_INTEGRAL_-_OSVANDO_REIS_QUEIROZ_0002532-03.2016.5.11.0018.pdf',\n",
    "    '02000005802017_7295032_20170316_PETICAO_INICIAL_LEOMAR_SOUZA_DE_LISBOA_-_0000581-86.2016.5.11.0401.pdf'\n",
    "]\n",
    "xls.rename(index={row[i]: fix[i] for i in range(len(row))}, inplace=True)\n",
    "api.index.difference(xls.index)"
   ]
  },
  {
   "cell_type": "code",
   "execution_count": 10,
   "metadata": {},
   "outputs": [],
   "source": [
    "data = pd.merge(xls, api, left_index=True, right_index=True)"
   ]
  },
  {
   "cell_type": "code",
   "execution_count": 11,
   "metadata": {},
   "outputs": [
    {
     "data": {
      "text/plain": [
       "(570, 2)"
      ]
     },
     "execution_count": 11,
     "metadata": {},
     "output_type": "execute_result"
    }
   ],
   "source": [
    "data.shape"
   ]
  },
  {
   "cell_type": "code",
   "execution_count": 12,
   "metadata": {
    "scrolled": false
   },
   "outputs": [
    {
     "data": {
      "text/html": [
       "<div>\n",
       "<style scoped>\n",
       "    .dataframe tbody tr th:only-of-type {\n",
       "        vertical-align: middle;\n",
       "    }\n",
       "\n",
       "    .dataframe tbody tr th {\n",
       "        vertical-align: top;\n",
       "    }\n",
       "\n",
       "    .dataframe thead th {\n",
       "        text-align: right;\n",
       "    }\n",
       "</style>\n",
       "<table border=\"1\" class=\"dataframe\">\n",
       "  <thead>\n",
       "    <tr style=\"text-align: right;\">\n",
       "      <th></th>\n",
       "      <th>iCodDocumento</th>\n",
       "      <th>Palavras-chave</th>\n",
       "    </tr>\n",
       "    <tr>\n",
       "      <th>Nome do Arquivo</th>\n",
       "      <th></th>\n",
       "      <th></th>\n",
       "    </tr>\n",
       "  </thead>\n",
       "  <tbody>\n",
       "    <tr>\n",
       "      <th>02001000312017_6699679_20160112_MANDADO_DE_CITACAO.pdf</th>\n",
       "      <td>5070</td>\n",
       "      <td>e que pendem Regiao - e Trabalhasta e quitados...</td>\n",
       "    </tr>\n",
       "    <tr>\n",
       "      <th>02000000182017_6739022_RT_00009552320165110201_DAYANA_DE_SOUZA_CARVALHO.pdf</th>\n",
       "      <td>5070</td>\n",
       "      <td>próprio e o DA MULTA o que o fez DA COMPETÊNCI...</td>\n",
       "    </tr>\n",
       "    <tr>\n",
       "      <th>02000000222017_6758570_PETICAO_INICIAL__ROGERIO_PESSOA_DE_MELO.pdf</th>\n",
       "      <td>5070</td>\n",
       "      <td>que quebra caixa não caixa que eram caixa para...</td>\n",
       "    </tr>\n",
       "    <tr>\n",
       "      <th>02000000212017_6758941_PETICAO_INICIAL_RENATA.pdf</th>\n",
       "      <td>5070</td>\n",
       "      <td>e o funcionamento DA CLT gerente e º e que alt...</td>\n",
       "    </tr>\n",
       "    <tr>\n",
       "      <th>02000000302017_6761978_Mandado_de_Intimacao_-_Proc_16374-70.2016.4.01.3200.pdf</th>\n",
       "      <td>5083</td>\n",
       "      <td>Brasil e e Labrea e seguintes regularidade e p...</td>\n",
       "    </tr>\n",
       "  </tbody>\n",
       "</table>\n",
       "</div>"
      ],
      "text/plain": [
       "                                                    iCodDocumento  \\\n",
       "Nome do Arquivo                                                     \n",
       "02001000312017_6699679_20160112_MANDADO_DE_CITA...           5070   \n",
       "02000000182017_6739022_RT_00009552320165110201_...           5070   \n",
       "02000000222017_6758570_PETICAO_INICIAL__ROGERIO...           5070   \n",
       "02000000212017_6758941_PETICAO_INICIAL_RENATA.pdf            5070   \n",
       "02000000302017_6761978_Mandado_de_Intimacao_-_P...           5083   \n",
       "\n",
       "                                                                                       Palavras-chave  \n",
       "Nome do Arquivo                                                                                        \n",
       "02001000312017_6699679_20160112_MANDADO_DE_CITA...  e que pendem Regiao - e Trabalhasta e quitados...  \n",
       "02000000182017_6739022_RT_00009552320165110201_...  próprio e o DA MULTA o que o fez DA COMPETÊNCI...  \n",
       "02000000222017_6758570_PETICAO_INICIAL__ROGERIO...  que quebra caixa não caixa que eram caixa para...  \n",
       "02000000212017_6758941_PETICAO_INICIAL_RENATA.pdf   e o funcionamento DA CLT gerente e º e que alt...  \n",
       "02000000302017_6761978_Mandado_de_Intimacao_-_P...  Brasil e e Labrea e seguintes regularidade e p...  "
      ]
     },
     "execution_count": 12,
     "metadata": {},
     "output_type": "execute_result"
    }
   ],
   "source": [
    "data.head()"
   ]
  },
  {
   "cell_type": "code",
   "execution_count": 13,
   "metadata": {},
   "outputs": [],
   "source": [
    "data.to_csv('dataset.csv', sep = ';')"
   ]
  }
 ],
 "metadata": {
  "kernelspec": {
   "display_name": "Python 3",
   "language": "python",
   "name": "python3"
  },
  "language_info": {
   "codemirror_mode": {
    "name": "ipython",
    "version": 3
   },
   "file_extension": ".py",
   "mimetype": "text/x-python",
   "name": "python",
   "nbconvert_exporter": "python",
   "pygments_lexer": "ipython3",
   "version": "3.6.6"
  }
 },
 "nbformat": 4,
 "nbformat_minor": 2
}
