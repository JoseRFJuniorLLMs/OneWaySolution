{
 "cells": [
  {
   "cell_type": "code",
   "execution_count": 1,
   "metadata": {},
   "outputs": [],
   "source": [
    "import pandas as pd"
   ]
  },
  {
   "cell_type": "code",
   "execution_count": 2,
   "metadata": {},
   "outputs": [
    {
     "data": {
      "text/html": [
       "<div>\n",
       "<style scoped>\n",
       "    .dataframe tbody tr th:only-of-type {\n",
       "        vertical-align: middle;\n",
       "    }\n",
       "\n",
       "    .dataframe tbody tr th {\n",
       "        vertical-align: top;\n",
       "    }\n",
       "\n",
       "    .dataframe thead th {\n",
       "        text-align: right;\n",
       "    }\n",
       "</style>\n",
       "<table border=\"1\" class=\"dataframe\">\n",
       "  <thead>\n",
       "    <tr style=\"text-align: right;\">\n",
       "      <th></th>\n",
       "      <th>expediente</th>\n",
       "      <th>name</th>\n",
       "      <th>acao</th>\n",
       "      <th>grupo_assunto</th>\n",
       "      <th>assunto</th>\n",
       "    </tr>\n",
       "  </thead>\n",
       "  <tbody>\n",
       "    <tr>\n",
       "      <th>0</th>\n",
       "      <td>02.000.00030/2017</td>\n",
       "      <td>02000000302017_6761978_Mandado_de_Intimacao_-_...</td>\n",
       "      <td>9</td>\n",
       "      <td>25</td>\n",
       "      <td>531; 716; 972</td>\n",
       "    </tr>\n",
       "    <tr>\n",
       "      <th>1</th>\n",
       "      <td>02.000.00035/2017</td>\n",
       "      <td>02000000352017_6774071_20170119_MANDADO_DE_CIT...</td>\n",
       "      <td>50</td>\n",
       "      <td>27</td>\n",
       "      <td>50; 254; 531; 558; 613; 620; 780</td>\n",
       "    </tr>\n",
       "    <tr>\n",
       "      <th>2</th>\n",
       "      <td>02.000.00136/2017</td>\n",
       "      <td>02000001362017_6855379_20170127_PROCESSO_INTEG...</td>\n",
       "      <td>47</td>\n",
       "      <td>26</td>\n",
       "      <td>716; 975</td>\n",
       "    </tr>\n",
       "    <tr>\n",
       "      <th>3</th>\n",
       "      <td>02.000.00136/2017</td>\n",
       "      <td>02000001362017_7321216_20170210_PETICAO_INICIA...</td>\n",
       "      <td>47</td>\n",
       "      <td>26</td>\n",
       "      <td>716; 975</td>\n",
       "    </tr>\n",
       "    <tr>\n",
       "      <th>4</th>\n",
       "      <td>02.000.00145/2017</td>\n",
       "      <td>02000001452017_6901508_20170131_MANDADO_INTIMA...</td>\n",
       "      <td>43</td>\n",
       "      <td>11</td>\n",
       "      <td>246</td>\n",
       "    </tr>\n",
       "  </tbody>\n",
       "</table>\n",
       "</div>"
      ],
      "text/plain": [
       "          expediente                                               name  acao  \\\n",
       "0  02.000.00030/2017  02000000302017_6761978_Mandado_de_Intimacao_-_...     9   \n",
       "1  02.000.00035/2017  02000000352017_6774071_20170119_MANDADO_DE_CIT...    50   \n",
       "2  02.000.00136/2017  02000001362017_6855379_20170127_PROCESSO_INTEG...    47   \n",
       "3  02.000.00136/2017  02000001362017_7321216_20170210_PETICAO_INICIA...    47   \n",
       "4  02.000.00145/2017  02000001452017_6901508_20170131_MANDADO_INTIMA...    43   \n",
       "\n",
       "   grupo_assunto                           assunto  \n",
       "0             25                     531; 716; 972  \n",
       "1             27  50; 254; 531; 558; 613; 620; 780  \n",
       "2             26                          716; 975  \n",
       "3             26                          716; 975  \n",
       "4             11                               246  "
      ]
     },
     "execution_count": 2,
     "metadata": {},
     "output_type": "execute_result"
    }
   ],
   "source": [
    "ds0 = pd.read_csv('../01_source/xls-dataset.csv', sep=';')\n",
    "ds0.head()"
   ]
  },
  {
   "cell_type": "code",
   "execution_count": 3,
   "metadata": {},
   "outputs": [
    {
     "name": "stdout",
     "output_type": "stream",
     "text": [
      "<class 'pandas.core.frame.DataFrame'>\n",
      "RangeIndex: 888 entries, 0 to 887\n",
      "Data columns (total 5 columns):\n",
      "expediente       888 non-null object\n",
      "name             888 non-null object\n",
      "acao             888 non-null int64\n",
      "grupo_assunto    888 non-null int64\n",
      "assunto          888 non-null object\n",
      "dtypes: int64(2), object(3)\n",
      "memory usage: 34.8+ KB\n"
     ]
    }
   ],
   "source": [
    "ds0.info()"
   ]
  },
  {
   "cell_type": "code",
   "execution_count": 4,
   "metadata": {},
   "outputs": [
    {
     "data": {
      "text/html": [
       "<div>\n",
       "<style scoped>\n",
       "    .dataframe tbody tr th:only-of-type {\n",
       "        vertical-align: middle;\n",
       "    }\n",
       "\n",
       "    .dataframe tbody tr th {\n",
       "        vertical-align: top;\n",
       "    }\n",
       "\n",
       "    .dataframe thead th {\n",
       "        text-align: right;\n",
       "    }\n",
       "</style>\n",
       "<table border=\"1\" class=\"dataframe\">\n",
       "  <thead>\n",
       "    <tr style=\"text-align: right;\">\n",
       "      <th></th>\n",
       "      <th>Unnamed: 0</th>\n",
       "      <th>name</th>\n",
       "      <th>text</th>\n",
       "    </tr>\n",
       "  </thead>\n",
       "  <tbody>\n",
       "    <tr>\n",
       "      <th>0</th>\n",
       "      <td>0</td>\n",
       "      <td>02000000122017_7284093_PETICAO_INICIAL_0002305...</td>\n",
       "      <td>Enilson Campos de Sousa OAB/AM n°. 1.589 \\nSOU...</td>\n",
       "    </tr>\n",
       "    <tr>\n",
       "      <th>1</th>\n",
       "      <td>1</td>\n",
       "      <td>02000000182017_6739022_RT_00009552320165110201...</td>\n",
       "      <td>\\n\\n\\n\\n\\n\\n\\n\\n\\nEXCELENTÍSSIMO (A) SENHOR (A...</td>\n",
       "    </tr>\n",
       "    <tr>\n",
       "      <th>2</th>\n",
       "      <td>2</td>\n",
       "      <td>02000000212017_6758941_PETICAO_INICIAL_RENATA.pdf</td>\n",
       "      <td>\\n \\n \\n \\n \\nPágina \\n1\\n \\nde \\n16\\n \\n \\nE...</td>\n",
       "    </tr>\n",
       "    <tr>\n",
       "      <th>3</th>\n",
       "      <td>3</td>\n",
       "      <td>02000000222017_6758570_PETICAO_INICIAL__ROGERI...</td>\n",
       "      <td>\\n \\n \\n \\n \\nEXMO(A). SR(A). DR(A). JUIZ(A) ...</td>\n",
       "    </tr>\n",
       "    <tr>\n",
       "      <th>4</th>\n",
       "      <td>4</td>\n",
       "      <td>02000000302017_6761978_Mandado_de_Intimacao_-_...</td>\n",
       "      <td>b'PROCESSO:\\nCLASSE:\\nAUTOR:\\nREU:\\n\\nPCTT: 92...</td>\n",
       "    </tr>\n",
       "  </tbody>\n",
       "</table>\n",
       "</div>"
      ],
      "text/plain": [
       "   Unnamed: 0                                               name  \\\n",
       "0           0  02000000122017_7284093_PETICAO_INICIAL_0002305...   \n",
       "1           1  02000000182017_6739022_RT_00009552320165110201...   \n",
       "2           2  02000000212017_6758941_PETICAO_INICIAL_RENATA.pdf   \n",
       "3           3  02000000222017_6758570_PETICAO_INICIAL__ROGERI...   \n",
       "4           4  02000000302017_6761978_Mandado_de_Intimacao_-_...   \n",
       "\n",
       "                                                text  \n",
       "0  Enilson Campos de Sousa OAB/AM n°. 1.589 \\nSOU...  \n",
       "1  \\n\\n\\n\\n\\n\\n\\n\\n\\nEXCELENTÍSSIMO (A) SENHOR (A...  \n",
       "2   \\n \\n \\n \\n \\nPágina \\n1\\n \\nde \\n16\\n \\n \\nE...  \n",
       "3   \\n \\n \\n \\n \\nEXMO(A). SR(A). DR(A). JUIZ(A) ...  \n",
       "4  b'PROCESSO:\\nCLASSE:\\nAUTOR:\\nREU:\\n\\nPCTT: 92...  "
      ]
     },
     "execution_count": 4,
     "metadata": {},
     "output_type": "execute_result"
    }
   ],
   "source": [
    "#ds1 = pd.read_csv('../02_azure/api-dataset.csv', sep=';')\n",
    "ds1 = pd.read_csv('../02_pdf_extration/pdf-dataset.csv', sep=';')\n",
    "ds1.head()"
   ]
  },
  {
   "cell_type": "code",
   "execution_count": 5,
   "metadata": {},
   "outputs": [
    {
     "data": {
      "text/html": [
       "<div>\n",
       "<style scoped>\n",
       "    .dataframe tbody tr th:only-of-type {\n",
       "        vertical-align: middle;\n",
       "    }\n",
       "\n",
       "    .dataframe tbody tr th {\n",
       "        vertical-align: top;\n",
       "    }\n",
       "\n",
       "    .dataframe thead th {\n",
       "        text-align: right;\n",
       "    }\n",
       "</style>\n",
       "<table border=\"1\" class=\"dataframe\">\n",
       "  <thead>\n",
       "    <tr style=\"text-align: right;\">\n",
       "      <th></th>\n",
       "      <th>name</th>\n",
       "      <th>text</th>\n",
       "    </tr>\n",
       "  </thead>\n",
       "  <tbody>\n",
       "    <tr>\n",
       "      <th>0</th>\n",
       "      <td>02000000122017_7284093_PETICAO_INICIAL_0002305...</td>\n",
       "      <td>Enilson Campos de Sousa OAB/AM n°. 1.589 \\nSOU...</td>\n",
       "    </tr>\n",
       "    <tr>\n",
       "      <th>1</th>\n",
       "      <td>02000000182017_6739022_RT_00009552320165110201...</td>\n",
       "      <td>\\n\\n\\n\\n\\n\\n\\n\\n\\nEXCELENTÍSSIMO (A) SENHOR (A...</td>\n",
       "    </tr>\n",
       "    <tr>\n",
       "      <th>2</th>\n",
       "      <td>02000000212017_6758941_PETICAO_INICIAL_RENATA.pdf</td>\n",
       "      <td>\\n \\n \\n \\n \\nPágina \\n1\\n \\nde \\n16\\n \\n \\nE...</td>\n",
       "    </tr>\n",
       "    <tr>\n",
       "      <th>3</th>\n",
       "      <td>02000000222017_6758570_PETICAO_INICIAL__ROGERI...</td>\n",
       "      <td>\\n \\n \\n \\n \\nEXMO(A). SR(A). DR(A). JUIZ(A) ...</td>\n",
       "    </tr>\n",
       "    <tr>\n",
       "      <th>4</th>\n",
       "      <td>02000000302017_6761978_Mandado_de_Intimacao_-_...</td>\n",
       "      <td>b'PROCESSO:\\nCLASSE:\\nAUTOR:\\nREU:\\n\\nPCTT: 92...</td>\n",
       "    </tr>\n",
       "  </tbody>\n",
       "</table>\n",
       "</div>"
      ],
      "text/plain": [
       "                                                name  \\\n",
       "0  02000000122017_7284093_PETICAO_INICIAL_0002305...   \n",
       "1  02000000182017_6739022_RT_00009552320165110201...   \n",
       "2  02000000212017_6758941_PETICAO_INICIAL_RENATA.pdf   \n",
       "3  02000000222017_6758570_PETICAO_INICIAL__ROGERI...   \n",
       "4  02000000302017_6761978_Mandado_de_Intimacao_-_...   \n",
       "\n",
       "                                                text  \n",
       "0  Enilson Campos de Sousa OAB/AM n°. 1.589 \\nSOU...  \n",
       "1  \\n\\n\\n\\n\\n\\n\\n\\n\\nEXCELENTÍSSIMO (A) SENHOR (A...  \n",
       "2   \\n \\n \\n \\n \\nPágina \\n1\\n \\nde \\n16\\n \\n \\nE...  \n",
       "3   \\n \\n \\n \\n \\nEXMO(A). SR(A). DR(A). JUIZ(A) ...  \n",
       "4  b'PROCESSO:\\nCLASSE:\\nAUTOR:\\nREU:\\n\\nPCTT: 92...  "
      ]
     },
     "execution_count": 5,
     "metadata": {},
     "output_type": "execute_result"
    }
   ],
   "source": [
    "ds1 = ds1.drop(['Unnamed: 0'], axis=1)\n",
    "ds1.head()"
   ]
  },
  {
   "cell_type": "code",
   "execution_count": 6,
   "metadata": {},
   "outputs": [
    {
     "name": "stdout",
     "output_type": "stream",
     "text": [
      "<class 'pandas.core.frame.DataFrame'>\n",
      "RangeIndex: 2070 entries, 0 to 2069\n",
      "Data columns (total 2 columns):\n",
      "name    2070 non-null object\n",
      "text    2070 non-null object\n",
      "dtypes: object(2)\n",
      "memory usage: 32.4+ KB\n"
     ]
    }
   ],
   "source": [
    "ds1.info()"
   ]
  },
  {
   "cell_type": "code",
   "execution_count": 7,
   "metadata": {},
   "outputs": [
    {
     "data": {
      "text/plain": [
       "['03001000132017_6643147_0002142-79.2016.8.05.0105.pdf ',\n",
       " '12000001092017_6760731_INICIAL_-_LIONEL_BARBALHO.pdf ',\n",
       " '03001001092017_6820598_00047022320164013311_PARTE_8.pdf ',\n",
       " '11000005562017_6995233_INICIAL_(3).pdf ',\n",
       " '04000002052017_6752157_NP00644978120164013400GR1_DT03112016.pdf ']"
      ]
     },
     "execution_count": 7,
     "metadata": {},
     "output_type": "execute_result"
    }
   ],
   "source": [
    "list(set(ds0.name) - set(ds1.name))[:5]"
   ]
  },
  {
   "cell_type": "code",
   "execution_count": 8,
   "metadata": {},
   "outputs": [
    {
     "data": {
      "text/plain": [
       "['03001000872017_6771529_MAURA_CARDOSO_DOS_SANTOS________________.zip',\n",
       " '02001000662017_6773455_PETICAO_NP00055730520164014200GR1.zip',\n",
       " '04000007692017_7675564_INICIAL.PDF',\n",
       " '03001002402017_6929290_ATENILSON_OLIVEIRA_SANTOS_______________.zip',\n",
       " '03001000372017_6660874_ANEXO_GINAMERICO_ANDRADE_CRUZ.zip']"
      ]
     },
     "execution_count": 8,
     "metadata": {},
     "output_type": "execute_result"
    }
   ],
   "source": [
    "ds0.name = ds0.name.str.strip()\n",
    "list(set(ds0.name) - set(ds1.name))[:5]"
   ]
  },
  {
   "cell_type": "code",
   "execution_count": 9,
   "metadata": {},
   "outputs": [
    {
     "data": {
      "text/plain": [
       "['08000006432017_6837760_369411.2016.4.01.3505.msg',\n",
       " '08000006422017_6837758_30532320164013505.msg',\n",
       " '08000007422017_6893066_copia_do_processo_-_225386-26.2016.8.09.0175_-_luiza_bella_carvalho_correia.m',\n",
       " '03001002762017_7014222_9459-72.2016.4.01.3307_-_edgar_barreto_dos_santos_(representado_por_angela_ma',\n",
       " '12000001112017_6759742_inicial_-_antonio_pereira_dos_santos.doc']"
      ]
     },
     "execution_count": 9,
     "metadata": {},
     "output_type": "execute_result"
    }
   ],
   "source": [
    "ds0.name = ds0.name.str.lower()\n",
    "ds1.name = ds1.name.str.lower()\n",
    "list([i for i in list(set(ds0.name) - set(ds1.name)) if not i.endswith('.pdf') and not i.endswith('.zip')])"
   ]
  },
  {
   "cell_type": "code",
   "execution_count": 10,
   "metadata": {},
   "outputs": [],
   "source": [
    "ds2 = ds0.merge(ds1)"
   ]
  },
  {
   "cell_type": "code",
   "execution_count": 11,
   "metadata": {},
   "outputs": [
    {
     "name": "stdout",
     "output_type": "stream",
     "text": [
      "<class 'pandas.core.frame.DataFrame'>\n",
      "Int64Index: 846 entries, 0 to 845\n",
      "Data columns (total 6 columns):\n",
      "expediente       846 non-null object\n",
      "name             846 non-null object\n",
      "acao             846 non-null int64\n",
      "grupo_assunto    846 non-null int64\n",
      "assunto          846 non-null object\n",
      "text             846 non-null object\n",
      "dtypes: int64(2), object(4)\n",
      "memory usage: 46.3+ KB\n"
     ]
    }
   ],
   "source": [
    "ds2.info()"
   ]
  },
  {
   "cell_type": "code",
   "execution_count": 12,
   "metadata": {},
   "outputs": [],
   "source": [
    "ds2.to_csv('merged-dataset.csv', sep=';')"
   ]
  }
 ],
 "metadata": {
  "kernelspec": {
   "display_name": "Python 3",
   "language": "python",
   "name": "python3"
  },
  "language_info": {
   "codemirror_mode": {
    "name": "ipython",
    "version": 3
   },
   "file_extension": ".py",
   "mimetype": "text/x-python",
   "name": "python",
   "nbconvert_exporter": "python",
   "pygments_lexer": "ipython3",
   "version": "3.6.5"
  }
 },
 "nbformat": 4,
 "nbformat_minor": 2
}
