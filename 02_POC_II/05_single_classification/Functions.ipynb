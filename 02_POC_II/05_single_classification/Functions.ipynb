{
 "cells": [
  {
   "cell_type": "code",
   "execution_count": 15,
   "metadata": {},
   "outputs": [],
   "source": [
    "import PyPDF2\n",
    "import textract\n",
    "import pickle\n",
    "import pandas as pd\n",
    "import warnings\n",
    "from sklearn.model_selection import train_test_split\n",
    "from sklearn import metrics\n",
    "\n",
    "warnings.filterwarnings(\"ignore\")"
   ]
  },
  {
   "cell_type": "code",
   "execution_count": 16,
   "metadata": {},
   "outputs": [],
   "source": [
    "def readPdf(name):\n",
    "    text = \"\"\n",
    "    \n",
    "    try:\n",
    "        pdf  = PyPDF2.PdfFileReader(open(name, 'rb'))\n",
    "        for i in range(pdf.numPages):\n",
    "            text += pdf.getPage(i).extractText()\n",
    "    except:\n",
    "        print('problem with ' + name)\n",
    "\n",
    "    if text:\n",
    "        return text\n",
    "    else:\n",
    "        return textract.process(name, method='tesseract').decode()"
   ]
  },
  {
   "cell_type": "code",
   "execution_count": 17,
   "metadata": {},
   "outputs": [],
   "source": [
    "def process(x):\n",
    "    return x.lower().translate(str.maketrans('', '', '0123456789_')).encode('ascii',errors='ignore').decode()"
   ]
  },
  {
   "cell_type": "code",
   "execution_count": 18,
   "metadata": {},
   "outputs": [],
   "source": [
    "def classify_document(document, clf, bd = '', expediente=''):\n",
    "    if type(bd) == pd.core.frame.DataFrame and not expediente:\n",
    "        print('Expediente missing!')\n",
    "        return\n",
    "    else:\n",
    "        text = readPdf(document)\n",
    "        acao = clf.predict([text])[0] \n",
    "        print(acao)\n",
    "        if type(bd) == pd.core.frame.DataFrame:\n",
    "            if expediente in bd.index:\n",
    "                bd.loc[expediente].text += text\n",
    "                print('Expediente', expediente, 'updated!')\n",
    "            else:\n",
    "                bd.loc[expediente] = (acao, text)"
   ]
  },
  {
   "cell_type": "code",
   "execution_count": 19,
   "metadata": {},
   "outputs": [],
   "source": [
    "def retrieval_classification(expediente, bd):\n",
    "    print(bd.loc[str(expediente)])"
   ]
  },
  {
   "cell_type": "code",
   "execution_count": 20,
   "metadata": {},
   "outputs": [],
   "source": [
    "def correct_classification(v, column, expediente, bd):\n",
    "    bd.set_value(expediente, column, v)   "
   ]
  },
  {
   "cell_type": "code",
   "execution_count": 21,
   "metadata": {},
   "outputs": [],
   "source": [
    "def retrain_model(clf, bd):\n",
    "    x_train, x_test, y_train, y_test = train_test_split(bd.text, bd.acao, test_size = 0.2, random_state=42)\n",
    "    clf = clf.fit(x_train, y_train)\n",
    "    check_accuracy(clf, bd, True)"
   ]
  },
  {
   "cell_type": "code",
   "execution_count": 22,
   "metadata": {},
   "outputs": [],
   "source": [
    "def check_accuracy(clf, bd, metric=False):\n",
    "    x_train, x_test, y_train, y_test = train_test_split(bd.text, bd.acao, test_size = 0.2, random_state=42)\n",
    "    predictions = clf.predict(x_test)\n",
    "    \n",
    "    if metric:\n",
    "        print(metrics.classification_report(y_test, predictions))\n",
    "        print(metrics.confusion_matrix(y_test, predictions))\n",
    "    else:\n",
    "        print(clf.score(x_test, y_test))"
   ]
  },
  {
   "cell_type": "code",
   "execution_count": 23,
   "metadata": {},
   "outputs": [],
   "source": [
    "with open('../04_machine_learning/model.pkl', \"rb\") as f:\n",
    "    clf = pickle.load(f)\n",
    "\n",
    "with open('../04_machine_learning/dataset.pkl', \"rb\") as f:\n",
    "    bd = pickle.load(f)"
   ]
  },
  {
   "cell_type": "code",
   "execution_count": 24,
   "metadata": {},
   "outputs": [
    {
     "name": "stdout",
     "output_type": "stream",
     "text": [
      "0.7424242424242424\n"
     ]
    }
   ],
   "source": [
    "check_accuracy(clf, bd)"
   ]
  },
  {
   "cell_type": "code",
   "execution_count": 25,
   "metadata": {},
   "outputs": [
    {
     "data": {
      "text/html": [
       "<div>\n",
       "<style scoped>\n",
       "    .dataframe tbody tr th:only-of-type {\n",
       "        vertical-align: middle;\n",
       "    }\n",
       "\n",
       "    .dataframe tbody tr th {\n",
       "        vertical-align: top;\n",
       "    }\n",
       "\n",
       "    .dataframe thead th {\n",
       "        text-align: right;\n",
       "    }\n",
       "</style>\n",
       "<table border=\"1\" class=\"dataframe\">\n",
       "  <thead>\n",
       "    <tr style=\"text-align: right;\">\n",
       "      <th></th>\n",
       "      <th>acao</th>\n",
       "      <th>text</th>\n",
       "    </tr>\n",
       "    <tr>\n",
       "      <th>expediente</th>\n",
       "      <th></th>\n",
       "      <th></th>\n",
       "    </tr>\n",
       "  </thead>\n",
       "  <tbody>\n",
       "    <tr>\n",
       "      <th>02.000.00030/2017</th>\n",
       "      <td>9</td>\n",
       "      <td>PROCESSO:\\nCLASSE:\\nAUTOR:\\nREU:\\n\\nPCTT: 92.1...</td>\n",
       "    </tr>\n",
       "    <tr>\n",
       "      <th>02.000.00035/2017</th>\n",
       "      <td>50</td>\n",
       "      <td>\\n\\n \\n\\n \\n\\nPCTT 92,100.04\\n\\nURGENTE\\n\\n \\...</td>\n",
       "    </tr>\n",
       "    <tr>\n",
       "      <th>02.000.00136/2017</th>\n",
       "      <td>50</td>\n",
       "      <td>\\n\\nPODER JUDICIARIO\\nTRIBUNAL REGIONAL FEDER...</td>\n",
       "    </tr>\n",
       "    <tr>\n",
       "      <th>02.000.00145/2017</th>\n",
       "      <td>43</td>\n",
       "      <td>03/02/2017Número: 1000055-73.2017.4.01.3200  ...</td>\n",
       "    </tr>\n",
       "    <tr>\n",
       "      <th>02.000.00186/2017</th>\n",
       "      <td>50</td>\n",
       "      <td>\\n\\nVara Unica\\nSSJ Tefé\\nFi.\\n\\nRubrica\\n\\n ...</td>\n",
       "    </tr>\n",
       "  </tbody>\n",
       "</table>\n",
       "</div>"
      ],
      "text/plain": [
       "                   acao                                               text\n",
       "expediente                                                                \n",
       "02.000.00030/2017     9  PROCESSO:\\nCLASSE:\\nAUTOR:\\nREU:\\n\\nPCTT: 92.1...\n",
       "02.000.00035/2017    50   \\n\\n \\n\\n \\n\\nPCTT 92,100.04\\n\\nURGENTE\\n\\n \\...\n",
       "02.000.00136/2017    50   \\n\\nPODER JUDICIARIO\\nTRIBUNAL REGIONAL FEDER...\n",
       "02.000.00145/2017    43   03/02/2017Número: 1000055-73.2017.4.01.3200  ...\n",
       "02.000.00186/2017    50   \\n\\nVara Unica\\nSSJ Tefé\\nFi.\\n\\nRubrica\\n\\n ..."
      ]
     },
     "execution_count": 25,
     "metadata": {},
     "output_type": "execute_result"
    }
   ],
   "source": [
    "correct_classification('50', 'acao', '02.000.00136/2017',bd)\n",
    "bd.head()"
   ]
  },
  {
   "cell_type": "code",
   "execution_count": 26,
   "metadata": {},
   "outputs": [
    {
     "name": "stdout",
     "output_type": "stream",
     "text": [
      "             precision    recall  f1-score   support\n",
      "\n",
      "          1       1.00      1.00      1.00         2\n",
      "         10       1.00      0.25      0.40         4\n",
      "         14       0.00      0.00      0.00         5\n",
      "         22       0.00      0.00      0.00         1\n",
      "         28       0.00      0.00      0.00         2\n",
      "         43       0.80      0.67      0.73         6\n",
      "         47       0.44      0.53      0.48        15\n",
      "         50       0.81      0.95      0.87        76\n",
      "         60       0.00      0.00      0.00         1\n",
      "         67       0.78      0.64      0.70        11\n",
      "        227       0.67      1.00      0.80         2\n",
      "        237       0.60      0.43      0.50         7\n",
      "\n",
      "avg / total       0.70      0.75      0.71       132\n",
      "\n",
      "[[ 2  0  0  0  0  0  0  0  0  0  0  0]\n",
      " [ 0  1  0  0  0  0  1  1  0  1  0  0]\n",
      " [ 0  0  0  0  0  0  1  4  0  0  0  0]\n",
      " [ 0  0  0  0  0  0  0  1  0  0  0  0]\n",
      " [ 0  0  0  0  0  0  1  1  0  0  0  0]\n",
      " [ 0  0  0  0  0  4  2  0  0  0  0  0]\n",
      " [ 0  0  0  0  0  1  8  3  0  1  1  1]\n",
      " [ 0  0  0  0  0  0  3 72  0  0  0  1]\n",
      " [ 0  0  0  0  0  0  0  1  0  0  0  0]\n",
      " [ 0  0  0  0  0  0  2  2  0  7  0  0]\n",
      " [ 0  0  0  0  0  0  0  0  0  0  2  0]\n",
      " [ 0  0  0  0  0  0  0  4  0  0  0  3]]\n",
      "CPU times: user 11.1 s, sys: 188 ms, total: 11.3 s\n",
      "Wall time: 11.3 s\n"
     ]
    }
   ],
   "source": [
    "%%time\n",
    "retrain_model(clf, bd)"
   ]
  },
  {
   "cell_type": "code",
   "execution_count": 27,
   "metadata": {},
   "outputs": [
    {
     "name": "stdout",
     "output_type": "stream",
     "text": [
      "PROCESSO:\n",
      "CLASSE:\n",
      "AUTOR:\n",
      "REU:\n",
      "\n",
      "PCTT: 92.100.04\n",
      "\n",
      "    \n",
      "\n",
      "See\n",
      "\n",
      "PODER JUDICIARIO ZONA 2\n",
      "JUSTIGA FEDERAL DE PRIMEIRO GRAU CENTRO\n",
      "SEGAO JUDICIARIA DO ESTADO DO AMAZONAS\n",
      "7? VARA FEDERAL\n",
      "\n",
      "MANDADO DE INTIMAGAO\n",
      "\n",
      "16374-70.2016.4.01.3200 OVAL O00 A AN\n",
      "7100 - ACAO CIVIL PUBLICA\n",
      "\n",
      "MINISTERIO PUBLICO FEDERAL\n",
      "\n",
      "BANCO DO BRASIL S.A. E OUTROS.\n",
      "\n",
      "MANDADO: N°/\n",
      "\n",
      "INTIMAGAO DE :\n",
      "CPFICNPY :\n",
      "ENDEREGO:\n",
      "\n",
      "FINALIDADE:\n",
      "\n",
      "ADVERTENCIA:\n",
      "ANEXO:\n",
      "\n",
      " \n",
      "\n",
      "CAIXA ECONOMICA FEDERAL - CEF\n",
      "00.360.305/0001-04\n",
      "RUA RAMOS FERREIRA, 596, CENTRO, CEP: 69010-120, MANAUS/AM\n",
      "\n",
      "INTIMAGAO PARA SE MANIFESTAR EM 72 (SETENTA E DUAS) HORAS, CONSOANTE\n",
      "DESPACHO DE FLS, 42\n",
      "\n",
      "PETICAO INICIAL E DESPACHO DE FLS, 42\n",
      "\n",
      "SEDE DO JUIZO: 7 vana FEDERAL DA SEGAO JUDICIARIA DO ESTADO DO AMAZONAS\n",
      "\n",
      " \n",
      "\n",
      "AVENIDA ANDRE ARAUJO - N° 25, EDIFICIO RIO NEGRO, 1° ANDAR\n",
      "MANAUS-AM\n",
      "\n",
      "CEP: 69.060-000\n",
      "\n",
      "E-mail: 07vara.am@trf1 jus.br\n",
      "\n",
      "Expedi este mandado por ordem deste Ju(zo Federal.\n",
      "\n",
      "MANAUS, 16 de Janeiro de 2017,\n",
      "\n",
      " \n",
      "     \n",
      " \n",
      "\n",
      "DIEGO DO NAS NTO LIMA\n",
      "Diretor(a) de Secretaria db(a) 7? VAR\n",
      "CPU times: user 332 ms, sys: 213 ms, total: 545 ms\n",
      "Wall time: 1min 1s\n"
     ]
    }
   ],
   "source": [
    "%%time\n",
    "text = readPdf('../01_source/Arquivos/02000000302017_6761978_Mandado_de_Intimacao_-_Proc_16374-70.2016.4.01.3200.pdf')\n",
    "print(text[:1000])"
   ]
  },
  {
   "cell_type": "code",
   "execution_count": 28,
   "metadata": {},
   "outputs": [
    {
     "name": "stdout",
     "output_type": "stream",
     "text": [
      "CPU times: user 15.7 ms, sys: 0 ns, total: 15.7 ms\n",
      "Wall time: 14.8 ms\n"
     ]
    },
    {
     "data": {
      "text/plain": [
       "9"
      ]
     },
     "execution_count": 28,
     "metadata": {},
     "output_type": "execute_result"
    }
   ],
   "source": [
    "%%time\n",
    "clf.predict([text])[0]"
   ]
  }
 ],
 "metadata": {
  "kernelspec": {
   "display_name": "Python 3",
   "language": "python",
   "name": "python3"
  },
  "language_info": {
   "codemirror_mode": {
    "name": "ipython",
    "version": 3
   },
   "file_extension": ".py",
   "mimetype": "text/x-python",
   "name": "python",
   "nbconvert_exporter": "python",
   "pygments_lexer": "ipython3",
   "version": "3.6.5"
  }
 },
 "nbformat": 4,
 "nbformat_minor": 2
}
