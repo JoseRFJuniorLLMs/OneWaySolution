{
 "cells": [
  {
   "cell_type": "code",
   "execution_count": 19,
   "metadata": {},
   "outputs": [],
   "source": [
    "import PyPDF2\n",
    "import textract\n",
    "import pickle\n",
    "import pandas as pd\n",
    "import warnings\n",
    "from sklearn.model_selection import train_test_split\n",
    "from sklearn import metrics\n",
    "\n",
    "warnings.filterwarnings(\"ignore\")"
   ]
  },
  {
   "cell_type": "code",
   "execution_count": 20,
   "metadata": {},
   "outputs": [],
   "source": [
    "def readPdf(name):\n",
    "    text = \"\"\n",
    "    \n",
    "    try:\n",
    "        pdf  = PyPDF2.PdfFileReader(open(name, 'rb'))\n",
    "        for i in range(pdf.numPages):\n",
    "            text += pdf.getPage(i).extractText()\n",
    "    except:\n",
    "        print('problem with ' + name)\n",
    "\n",
    "    if text:\n",
    "        return text\n",
    "    else:\n",
    "        return textract.process(name, method='tesseract').decode()"
   ]
  },
  {
   "cell_type": "code",
   "execution_count": 21,
   "metadata": {},
   "outputs": [],
   "source": [
    "def process(x):\n",
    "    return x.lower().translate(str.maketrans('', '', '0123456789_')).encode('ascii',errors='ignore').decode()"
   ]
  },
  {
   "cell_type": "code",
   "execution_count": 22,
   "metadata": {},
   "outputs": [],
   "source": [
    "def classify_document(document, clf, bd = '', expediente=''):\n",
    "    if type(bd) == pd.core.frame.DataFrame and not expediente:\n",
    "        print('Expediente missing!')\n",
    "        return\n",
    "    else:\n",
    "        text = readPdf(document)\n",
    "        acao = clf.predict([text])[0] \n",
    "        print(acao)\n",
    "        if type(bd) == pd.core.frame.DataFrame:\n",
    "            if expediente in bd.index:\n",
    "                bd.loc[expediente].text += text\n",
    "                print('Expediente', expediente, 'updated!')\n",
    "            else:\n",
    "                bd.loc[expediente] = (acao, text)"
   ]
  },
  {
   "cell_type": "code",
   "execution_count": 23,
   "metadata": {},
   "outputs": [],
   "source": [
    "def retrieval_classification(expediente, bd):\n",
    "    print(bd.loc[str(expediente)])"
   ]
  },
  {
   "cell_type": "code",
   "execution_count": 24,
   "metadata": {},
   "outputs": [],
   "source": [
    "def correct_classification(v, column, expediente, bd):\n",
    "    bd.set_value(expediente, column, v)   "
   ]
  },
  {
   "cell_type": "code",
   "execution_count": 25,
   "metadata": {},
   "outputs": [],
   "source": [
    "def retrain_model(clf, bd):\n",
    "    x_train, x_test, y_train, y_test = train_test_split(bd.text, bd.acao, test_size = 0.2, random_state=42)\n",
    "    clf = clf.fit(x_train, y_train)\n",
    "    check_accuracy(clf, bd, True)"
   ]
  },
  {
   "cell_type": "code",
   "execution_count": 26,
   "metadata": {},
   "outputs": [],
   "source": [
    "def check_accuracy(clf, bd, metric=False):\n",
    "    x_train, x_test, y_train, y_test = train_test_split(bd.text, bd.acao, test_size = 0.2, random_state=42)\n",
    "    predictions = clf.predict(x_test)\n",
    "    \n",
    "    if metric:\n",
    "        print(metrics.classification_report(y_test, predictions))\n",
    "        print(metrics.confusion_matrix(y_test, predictions))\n",
    "    else:\n",
    "        print(clf.score(x_test, y_test))"
   ]
  },
  {
   "cell_type": "code",
   "execution_count": 27,
   "metadata": {},
   "outputs": [],
   "source": [
    "with open('../04_machine_learning/model.pkl', \"rb\") as f:\n",
    "    clf = pickle.load(f)\n",
    "\n",
    "with open('../04_machine_learning/dataset.pkl', \"rb\") as f:\n",
    "    bd = pickle.load(f)"
   ]
  },
  {
   "cell_type": "code",
   "execution_count": 28,
   "metadata": {},
   "outputs": [
    {
     "name": "stdout",
     "output_type": "stream",
     "text": [
      "0.7424242424242424\n"
     ]
    }
   ],
   "source": [
    "check_accuracy(clf, bd)"
   ]
  },
  {
   "cell_type": "code",
   "execution_count": 29,
   "metadata": {},
   "outputs": [
    {
     "data": {
      "text/html": [
       "<div>\n",
       "<style scoped>\n",
       "    .dataframe tbody tr th:only-of-type {\n",
       "        vertical-align: middle;\n",
       "    }\n",
       "\n",
       "    .dataframe tbody tr th {\n",
       "        vertical-align: top;\n",
       "    }\n",
       "\n",
       "    .dataframe thead th {\n",
       "        text-align: right;\n",
       "    }\n",
       "</style>\n",
       "<table border=\"1\" class=\"dataframe\">\n",
       "  <thead>\n",
       "    <tr style=\"text-align: right;\">\n",
       "      <th></th>\n",
       "      <th>acao</th>\n",
       "      <th>text</th>\n",
       "    </tr>\n",
       "    <tr>\n",
       "      <th>expediente</th>\n",
       "      <th></th>\n",
       "      <th></th>\n",
       "    </tr>\n",
       "  </thead>\n",
       "  <tbody>\n",
       "    <tr>\n",
       "      <th>02.000.00030/2017</th>\n",
       "      <td>9</td>\n",
       "      <td>PROCESSO:\\nCLASSE:\\nAUTOR:\\nREU:\\n\\nPCTT: 92.1...</td>\n",
       "    </tr>\n",
       "    <tr>\n",
       "      <th>02.000.00035/2017</th>\n",
       "      <td>50</td>\n",
       "      <td>\\n\\n \\n\\n \\n\\nPCTT 92,100.04\\n\\nURGENTE\\n\\n \\...</td>\n",
       "    </tr>\n",
       "    <tr>\n",
       "      <th>02.000.00136/2017</th>\n",
       "      <td>47</td>\n",
       "      <td>\\n\\nPODER JUDICIARIO\\nTRIBUNAL REGIONAL FEDER...</td>\n",
       "    </tr>\n",
       "    <tr>\n",
       "      <th>02.000.00145/2017</th>\n",
       "      <td>43</td>\n",
       "      <td>03/02/2017Número: 1000055-73.2017.4.01.3200  ...</td>\n",
       "    </tr>\n",
       "    <tr>\n",
       "      <th>02.000.00186/2017</th>\n",
       "      <td>50</td>\n",
       "      <td>\\n\\nVara Unica\\nSSJ Tefé\\nFi.\\n\\nRubrica\\n\\n ...</td>\n",
       "    </tr>\n",
       "  </tbody>\n",
       "</table>\n",
       "</div>"
      ],
      "text/plain": [
       "                   acao                                               text\n",
       "expediente                                                                \n",
       "02.000.00030/2017     9  PROCESSO:\\nCLASSE:\\nAUTOR:\\nREU:\\n\\nPCTT: 92.1...\n",
       "02.000.00035/2017    50   \\n\\n \\n\\n \\n\\nPCTT 92,100.04\\n\\nURGENTE\\n\\n \\...\n",
       "02.000.00136/2017    47   \\n\\nPODER JUDICIARIO\\nTRIBUNAL REGIONAL FEDER...\n",
       "02.000.00145/2017    43   03/02/2017Número: 1000055-73.2017.4.01.3200  ...\n",
       "02.000.00186/2017    50   \\n\\nVara Unica\\nSSJ Tefé\\nFi.\\n\\nRubrica\\n\\n ..."
      ]
     },
     "execution_count": 29,
     "metadata": {},
     "output_type": "execute_result"
    }
   ],
   "source": [
    "bd.head()"
   ]
  },
  {
   "cell_type": "code",
   "execution_count": 30,
   "metadata": {},
   "outputs": [
    {
     "name": "stdout",
     "output_type": "stream",
     "text": [
      ", ae “8,\n",
      "CAIXA ree 625\n",
      "Run eB\n",
      "\n",
      "EXCELENTISSIMO (A) SENHOR (A) DOUTOR (A) JUIZ(A) FEDERAL, DA, 3\"\n",
      "VARA JUIZADO ESPECIAL FEDERAL DO ESTADO DO AMAZONAS\n",
      "\n",
      "PROCESSO: 00009635020174013200\n",
      "AUTOR: AMAZONASTUR EMPRESA ESTADUAL DE TURISMO\n",
      "REU: CAIXA ECONOMICA FEDERAL\n",
      "\n",
      "2/T-ENLOOHEDT-LTOE-42-01T- Wy TR apag eT }Sh—\n",
      "\n",
      "© A CAIXA ECONOMICA FEDERAL - CEF, instituic&o financeira\n",
      "sob a forma de empresa publica, dotada de personalidade juridica de direito\n",
      "privado, criada pelo Decreto-Lei n°. 759, de 12 de Agosto de 1969, regendo-se\n",
      "atualmente pelo Estatuto aprovado e consolidado pelo DECRETO N°. 6.473 de 05\n",
      "de Junho de 2008, com alteragao pelo Decreto n°. 6.796, de 17 de Marco de 2009,\n",
      "inscrita no CGC/MF sob n°. 00.360.305/0001-04, com representagao juridica neste\n",
      "Estado, sito a Av. Djalma Batista n°. 1661 Millennium Center salas 102/103 — Bairro\n",
      "Chapada, CEP 69050-010, Manaus/AM, onde recebe intimagdes e as eletrénicas\n",
      "em jurirmn@caixa.gov.br, vem, por intermédio de seu advogado signatario,\n",
      "conforme instru\n",
      "CPU times: user 112 ms, sys: 60.3 ms, total: 172 ms\n",
      "Wall time: 19.3 s\n"
     ]
    }
   ],
   "source": [
    "%%time\n",
    "text = readPdf('../01_source/Arquivos/02000001362017_7321216_20170210_PETICAO_INICIAL.pdf')\n",
    "print(text[:1000])"
   ]
  },
  {
   "cell_type": "code",
   "execution_count": 31,
   "metadata": {},
   "outputs": [
    {
     "name": "stdout",
     "output_type": "stream",
     "text": [
      "CPU times: user 6.89 ms, sys: 0 ns, total: 6.89 ms\n",
      "Wall time: 6.15 ms\n"
     ]
    },
    {
     "data": {
      "text/plain": [
       "50"
      ]
     },
     "execution_count": 31,
     "metadata": {},
     "output_type": "execute_result"
    }
   ],
   "source": [
    "%%time\n",
    "clf.predict([text])[0]"
   ]
  },
  {
   "cell_type": "code",
   "execution_count": 32,
   "metadata": {},
   "outputs": [
    {
     "data": {
      "text/html": [
       "<div>\n",
       "<style scoped>\n",
       "    .dataframe tbody tr th:only-of-type {\n",
       "        vertical-align: middle;\n",
       "    }\n",
       "\n",
       "    .dataframe tbody tr th {\n",
       "        vertical-align: top;\n",
       "    }\n",
       "\n",
       "    .dataframe thead th {\n",
       "        text-align: right;\n",
       "    }\n",
       "</style>\n",
       "<table border=\"1\" class=\"dataframe\">\n",
       "  <thead>\n",
       "    <tr style=\"text-align: right;\">\n",
       "      <th></th>\n",
       "      <th>acao</th>\n",
       "      <th>text</th>\n",
       "    </tr>\n",
       "    <tr>\n",
       "      <th>expediente</th>\n",
       "      <th></th>\n",
       "      <th></th>\n",
       "    </tr>\n",
       "  </thead>\n",
       "  <tbody>\n",
       "    <tr>\n",
       "      <th>02.000.00030/2017</th>\n",
       "      <td>9</td>\n",
       "      <td>PROCESSO:\\nCLASSE:\\nAUTOR:\\nREU:\\n\\nPCTT: 92.1...</td>\n",
       "    </tr>\n",
       "    <tr>\n",
       "      <th>02.000.00035/2017</th>\n",
       "      <td>50</td>\n",
       "      <td>\\n\\n \\n\\n \\n\\nPCTT 92,100.04\\n\\nURGENTE\\n\\n \\...</td>\n",
       "    </tr>\n",
       "    <tr>\n",
       "      <th>02.000.00136/2017</th>\n",
       "      <td>50</td>\n",
       "      <td>\\n\\nPODER JUDICIARIO\\nTRIBUNAL REGIONAL FEDER...</td>\n",
       "    </tr>\n",
       "    <tr>\n",
       "      <th>02.000.00145/2017</th>\n",
       "      <td>43</td>\n",
       "      <td>03/02/2017Número: 1000055-73.2017.4.01.3200  ...</td>\n",
       "    </tr>\n",
       "    <tr>\n",
       "      <th>02.000.00186/2017</th>\n",
       "      <td>50</td>\n",
       "      <td>\\n\\nVara Unica\\nSSJ Tefé\\nFi.\\n\\nRubrica\\n\\n ...</td>\n",
       "    </tr>\n",
       "  </tbody>\n",
       "</table>\n",
       "</div>"
      ],
      "text/plain": [
       "                   acao                                               text\n",
       "expediente                                                                \n",
       "02.000.00030/2017     9  PROCESSO:\\nCLASSE:\\nAUTOR:\\nREU:\\n\\nPCTT: 92.1...\n",
       "02.000.00035/2017    50   \\n\\n \\n\\n \\n\\nPCTT 92,100.04\\n\\nURGENTE\\n\\n \\...\n",
       "02.000.00136/2017    50   \\n\\nPODER JUDICIARIO\\nTRIBUNAL REGIONAL FEDER...\n",
       "02.000.00145/2017    43   03/02/2017Número: 1000055-73.2017.4.01.3200  ...\n",
       "02.000.00186/2017    50   \\n\\nVara Unica\\nSSJ Tefé\\nFi.\\n\\nRubrica\\n\\n ..."
      ]
     },
     "execution_count": 32,
     "metadata": {},
     "output_type": "execute_result"
    }
   ],
   "source": [
    "correct_classification('50', 'acao', '02.000.00136/2017',bd)\n",
    "bd.head()"
   ]
  },
  {
   "cell_type": "code",
   "execution_count": 33,
   "metadata": {},
   "outputs": [
    {
     "name": "stdout",
     "output_type": "stream",
     "text": [
      "             precision    recall  f1-score   support\n",
      "\n",
      "          1       1.00      1.00      1.00         2\n",
      "         10       1.00      0.25      0.40         4\n",
      "         14       0.00      0.00      0.00         5\n",
      "         22       0.00      0.00      0.00         1\n",
      "         28       0.00      0.00      0.00         2\n",
      "         43       0.80      0.67      0.73         6\n",
      "         47       0.44      0.53      0.48        15\n",
      "         50       0.81      0.95      0.87        76\n",
      "         60       0.00      0.00      0.00         1\n",
      "         67       0.78      0.64      0.70        11\n",
      "        227       0.67      1.00      0.80         2\n",
      "        237       0.60      0.43      0.50         7\n",
      "\n",
      "avg / total       0.70      0.75      0.71       132\n",
      "\n",
      "[[ 2  0  0  0  0  0  0  0  0  0  0  0]\n",
      " [ 0  1  0  0  0  0  1  1  0  1  0  0]\n",
      " [ 0  0  0  0  0  0  1  4  0  0  0  0]\n",
      " [ 0  0  0  0  0  0  0  1  0  0  0  0]\n",
      " [ 0  0  0  0  0  0  1  1  0  0  0  0]\n",
      " [ 0  0  0  0  0  4  2  0  0  0  0  0]\n",
      " [ 0  0  0  0  0  1  8  3  0  1  1  1]\n",
      " [ 0  0  0  0  0  0  3 72  0  0  0  1]\n",
      " [ 0  0  0  0  0  0  0  1  0  0  0  0]\n",
      " [ 0  0  0  0  0  0  2  2  0  7  0  0]\n",
      " [ 0  0  0  0  0  0  0  0  0  0  2  0]\n",
      " [ 0  0  0  0  0  0  0  4  0  0  0  3]]\n",
      "CPU times: user 10 s, sys: 144 ms, total: 10.2 s\n",
      "Wall time: 10.2 s\n"
     ]
    }
   ],
   "source": [
    "%%time\n",
    "retrain_model(clf, bd)"
   ]
  },
  {
   "cell_type": "code",
   "execution_count": null,
   "metadata": {},
   "outputs": [],
   "source": []
  }
 ],
 "metadata": {
  "kernelspec": {
   "display_name": "Python 3",
   "language": "python",
   "name": "python3"
  },
  "language_info": {
   "codemirror_mode": {
    "name": "ipython",
    "version": 3
   },
   "file_extension": ".py",
   "mimetype": "text/x-python",
   "name": "python",
   "nbconvert_exporter": "python",
   "pygments_lexer": "ipython3",
   "version": "3.6.5"
  }
 },
 "nbformat": 4,
 "nbformat_minor": 2
}
