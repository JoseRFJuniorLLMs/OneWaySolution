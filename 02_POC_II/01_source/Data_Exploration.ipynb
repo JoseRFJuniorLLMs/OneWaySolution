{
 "cells": [
  {
   "cell_type": "code",
   "execution_count": 1,
   "metadata": {},
   "outputs": [],
   "source": [
    "import pandas as pd\n",
    "import numpy  as np"
   ]
  },
  {
   "cell_type": "code",
   "execution_count": 2,
   "metadata": {},
   "outputs": [],
   "source": [
    "len_exp  = lambda x: len(str(x)) == 17\n",
    "len_seq  = lambda x: len(str(x)) == 7\n",
    "splitfix = lambda x: int(x.replace(\"'\", '').strip())\n",
    "xls = 'dijurcaixa.xls'"
   ]
  },
  {
   "cell_type": "code",
   "execution_count": 3,
   "metadata": {},
   "outputs": [
    {
     "data": {
      "text/plain": [
       "['REL. EXPEDIENTES ELENCADOS',\n",
       " 'REL. DOCUMENTOS COPIADOS',\n",
       " 'COLUNAS A APRESENTAR',\n",
       " 'Correlação GRUPO_ASSUNTOxASSUNT']"
      ]
     },
     "execution_count": 3,
     "metadata": {},
     "output_type": "execute_result"
    }
   ],
   "source": [
    "sheet = list(pd.read_excel(xls, sheet_name=None).keys())\n",
    "sheet"
   ]
  },
  {
   "cell_type": "code",
   "execution_count": 4,
   "metadata": {},
   "outputs": [
    {
     "data": {
      "text/html": [
       "<div>\n",
       "<style scoped>\n",
       "    .dataframe tbody tr th:only-of-type {\n",
       "        vertical-align: middle;\n",
       "    }\n",
       "\n",
       "    .dataframe tbody tr th {\n",
       "        vertical-align: top;\n",
       "    }\n",
       "\n",
       "    .dataframe thead th {\n",
       "        text-align: right;\n",
       "    }\n",
       "</style>\n",
       "<table border=\"1\" class=\"dataframe\">\n",
       "  <thead>\n",
       "    <tr style=\"text-align: right;\">\n",
       "      <th></th>\n",
       "      <th>04.000.00103/2017</th>\n",
       "    </tr>\n",
       "  </thead>\n",
       "  <tbody>\n",
       "    <tr>\n",
       "      <th>0</th>\n",
       "      <td>04.000.00104/2017</td>\n",
       "    </tr>\n",
       "    <tr>\n",
       "      <th>1</th>\n",
       "      <td>04.000.00105/2017</td>\n",
       "    </tr>\n",
       "    <tr>\n",
       "      <th>2</th>\n",
       "      <td>08.000.00343/2017</td>\n",
       "    </tr>\n",
       "    <tr>\n",
       "      <th>3</th>\n",
       "      <td>03.000.00735/2017</td>\n",
       "    </tr>\n",
       "    <tr>\n",
       "      <th>4</th>\n",
       "      <td>08.000.00395/2017</td>\n",
       "    </tr>\n",
       "  </tbody>\n",
       "</table>\n",
       "</div>"
      ],
      "text/plain": [
       "   04.000.00103/2017\n",
       "0  04.000.00104/2017\n",
       "1  04.000.00105/2017\n",
       "2  08.000.00343/2017\n",
       "3  03.000.00735/2017\n",
       "4  08.000.00395/2017"
      ]
     },
     "execution_count": 4,
     "metadata": {},
     "output_type": "execute_result"
    }
   ],
   "source": [
    "xls0 = pd.read_excel(xls, sheet_name=sheet[0])\n",
    "xls0.head()"
   ]
  },
  {
   "cell_type": "code",
   "execution_count": 5,
   "metadata": {},
   "outputs": [
    {
     "data": {
      "text/html": [
       "<div>\n",
       "<style scoped>\n",
       "    .dataframe tbody tr th:only-of-type {\n",
       "        vertical-align: middle;\n",
       "    }\n",
       "\n",
       "    .dataframe tbody tr th {\n",
       "        vertical-align: top;\n",
       "    }\n",
       "\n",
       "    .dataframe thead th {\n",
       "        text-align: right;\n",
       "    }\n",
       "</style>\n",
       "<table border=\"1\" class=\"dataframe\">\n",
       "  <thead>\n",
       "    <tr style=\"text-align: right;\">\n",
       "      <th></th>\n",
       "      <th>expediente</th>\n",
       "    </tr>\n",
       "  </thead>\n",
       "  <tbody>\n",
       "    <tr>\n",
       "      <th>0</th>\n",
       "      <td>04.000.00103/2017</td>\n",
       "    </tr>\n",
       "    <tr>\n",
       "      <th>1</th>\n",
       "      <td>04.000.00104/2017</td>\n",
       "    </tr>\n",
       "    <tr>\n",
       "      <th>2</th>\n",
       "      <td>04.000.00105/2017</td>\n",
       "    </tr>\n",
       "    <tr>\n",
       "      <th>3</th>\n",
       "      <td>08.000.00343/2017</td>\n",
       "    </tr>\n",
       "    <tr>\n",
       "      <th>4</th>\n",
       "      <td>03.000.00735/2017</td>\n",
       "    </tr>\n",
       "  </tbody>\n",
       "</table>\n",
       "</div>"
      ],
      "text/plain": [
       "          expediente\n",
       "0  04.000.00103/2017\n",
       "1  04.000.00104/2017\n",
       "2  04.000.00105/2017\n",
       "3  08.000.00343/2017\n",
       "4  03.000.00735/2017"
      ]
     },
     "execution_count": 5,
     "metadata": {},
     "output_type": "execute_result"
    }
   ],
   "source": [
    "xls0 = pd.read_excel(xls, sheet_name=sheet[0],header=None)\n",
    "xls0.columns = ['expediente']\n",
    "xls0.head()"
   ]
  },
  {
   "cell_type": "code",
   "execution_count": 6,
   "metadata": {},
   "outputs": [
    {
     "name": "stdout",
     "output_type": "stream",
     "text": [
      "<class 'pandas.core.frame.DataFrame'>\n",
      "RangeIndex: 1238 entries, 0 to 1237\n",
      "Data columns (total 1 columns):\n",
      "expediente    1238 non-null object\n",
      "dtypes: object(1)\n",
      "memory usage: 9.8+ KB\n"
     ]
    }
   ],
   "source": [
    "xls0.info()"
   ]
  },
  {
   "cell_type": "code",
   "execution_count": 7,
   "metadata": {},
   "outputs": [
    {
     "data": {
      "text/plain": [
       "count                  1238\n",
       "unique                 1238\n",
       "top       03.001.00236/2017\n",
       "freq                      1\n",
       "Name: expediente, dtype: object"
      ]
     },
     "execution_count": 7,
     "metadata": {},
     "output_type": "execute_result"
    }
   ],
   "source": [
    "xls0.expediente.describe()"
   ]
  },
  {
   "cell_type": "code",
   "execution_count": 8,
   "metadata": {},
   "outputs": [
    {
     "data": {
      "text/plain": [
       "True"
      ]
     },
     "execution_count": 8,
     "metadata": {},
     "output_type": "execute_result"
    }
   ],
   "source": [
    "all(xls0.expediente.apply(len_exp))"
   ]
  },
  {
   "cell_type": "code",
   "execution_count": 9,
   "metadata": {
    "scrolled": true
   },
   "outputs": [
    {
     "data": {
      "text/html": [
       "<div>\n",
       "<style scoped>\n",
       "    .dataframe tbody tr th:only-of-type {\n",
       "        vertical-align: middle;\n",
       "    }\n",
       "\n",
       "    .dataframe tbody tr th {\n",
       "        vertical-align: top;\n",
       "    }\n",
       "\n",
       "    .dataframe thead th {\n",
       "        text-align: right;\n",
       "    }\n",
       "</style>\n",
       "<table border=\"1\" class=\"dataframe\">\n",
       "  <thead>\n",
       "    <tr style=\"text-align: right;\">\n",
       "      <th></th>\n",
       "      <th>iSequencial GED</th>\n",
       "      <th>Expediente</th>\n",
       "      <th>iCodDocumento</th>\n",
       "      <th>Nome do Arquivo</th>\n",
       "    </tr>\n",
       "  </thead>\n",
       "  <tbody>\n",
       "    <tr>\n",
       "      <th>0</th>\n",
       "      <td>6622932</td>\n",
       "      <td>03.000.00001/2017</td>\n",
       "      <td>5070</td>\n",
       "      <td>03000000012017_6622932_inicial_lorena.pdf</td>\n",
       "    </tr>\n",
       "    <tr>\n",
       "      <th>1</th>\n",
       "      <td>6626319</td>\n",
       "      <td>16.000.00003/2017</td>\n",
       "      <td>5070</td>\n",
       "      <td>16000000032017_6626319_p.i..pdf</td>\n",
       "    </tr>\n",
       "    <tr>\n",
       "      <th>2</th>\n",
       "      <td>6626401</td>\n",
       "      <td>16.000.00004/2017</td>\n",
       "      <td>5070</td>\n",
       "      <td>16000000042017_6626401_p.i..pdf</td>\n",
       "    </tr>\n",
       "    <tr>\n",
       "      <th>3</th>\n",
       "      <td>6626489</td>\n",
       "      <td>11.000.00001/2017</td>\n",
       "      <td>5070</td>\n",
       "      <td>11000000012017_6626489_00122055920165030077.pdf</td>\n",
       "    </tr>\n",
       "    <tr>\n",
       "      <th>4</th>\n",
       "      <td>6627051</td>\n",
       "      <td>04.000.00001/2017</td>\n",
       "      <td>5083</td>\n",
       "      <td>04000000012017_6627051_NP00017480420165100002G...</td>\n",
       "    </tr>\n",
       "  </tbody>\n",
       "</table>\n",
       "</div>"
      ],
      "text/plain": [
       "   iSequencial GED         Expediente  iCodDocumento  \\\n",
       "0          6622932  03.000.00001/2017           5070   \n",
       "1          6626319  16.000.00003/2017           5070   \n",
       "2          6626401  16.000.00004/2017           5070   \n",
       "3          6626489  11.000.00001/2017           5070   \n",
       "4          6627051  04.000.00001/2017           5083   \n",
       "\n",
       "                                     Nome do Arquivo  \n",
       "0         03000000012017_6622932_inicial_lorena.pdf   \n",
       "1                   16000000032017_6626319_p.i..pdf   \n",
       "2                   16000000042017_6626401_p.i..pdf   \n",
       "3   11000000012017_6626489_00122055920165030077.pdf   \n",
       "4  04000000012017_6627051_NP00017480420165100002G...  "
      ]
     },
     "execution_count": 9,
     "metadata": {},
     "output_type": "execute_result"
    }
   ],
   "source": [
    "xls1 = pd.read_excel(xls, sheet_name=sheet[1])\n",
    "xls1.head()"
   ]
  },
  {
   "cell_type": "code",
   "execution_count": 10,
   "metadata": {},
   "outputs": [
    {
     "data": {
      "text/html": [
       "<div>\n",
       "<style scoped>\n",
       "    .dataframe tbody tr th:only-of-type {\n",
       "        vertical-align: middle;\n",
       "    }\n",
       "\n",
       "    .dataframe tbody tr th {\n",
       "        vertical-align: top;\n",
       "    }\n",
       "\n",
       "    .dataframe thead th {\n",
       "        text-align: right;\n",
       "    }\n",
       "</style>\n",
       "<table border=\"1\" class=\"dataframe\">\n",
       "  <thead>\n",
       "    <tr style=\"text-align: right;\">\n",
       "      <th></th>\n",
       "      <th>sequencial</th>\n",
       "      <th>expediente</th>\n",
       "      <th>cod</th>\n",
       "      <th>name</th>\n",
       "    </tr>\n",
       "  </thead>\n",
       "  <tbody>\n",
       "    <tr>\n",
       "      <th>0</th>\n",
       "      <td>6622932</td>\n",
       "      <td>03.000.00001/2017</td>\n",
       "      <td>5070</td>\n",
       "      <td>03000000012017_6622932_inicial_lorena.pdf</td>\n",
       "    </tr>\n",
       "    <tr>\n",
       "      <th>1</th>\n",
       "      <td>6626319</td>\n",
       "      <td>16.000.00003/2017</td>\n",
       "      <td>5070</td>\n",
       "      <td>16000000032017_6626319_p.i..pdf</td>\n",
       "    </tr>\n",
       "    <tr>\n",
       "      <th>2</th>\n",
       "      <td>6626401</td>\n",
       "      <td>16.000.00004/2017</td>\n",
       "      <td>5070</td>\n",
       "      <td>16000000042017_6626401_p.i..pdf</td>\n",
       "    </tr>\n",
       "    <tr>\n",
       "      <th>3</th>\n",
       "      <td>6626489</td>\n",
       "      <td>11.000.00001/2017</td>\n",
       "      <td>5070</td>\n",
       "      <td>11000000012017_6626489_00122055920165030077.pdf</td>\n",
       "    </tr>\n",
       "    <tr>\n",
       "      <th>4</th>\n",
       "      <td>6627051</td>\n",
       "      <td>04.000.00001/2017</td>\n",
       "      <td>5083</td>\n",
       "      <td>04000000012017_6627051_NP00017480420165100002G...</td>\n",
       "    </tr>\n",
       "  </tbody>\n",
       "</table>\n",
       "</div>"
      ],
      "text/plain": [
       "   sequencial         expediente   cod  \\\n",
       "0     6622932  03.000.00001/2017  5070   \n",
       "1     6626319  16.000.00003/2017  5070   \n",
       "2     6626401  16.000.00004/2017  5070   \n",
       "3     6626489  11.000.00001/2017  5070   \n",
       "4     6627051  04.000.00001/2017  5083   \n",
       "\n",
       "                                                name  \n",
       "0         03000000012017_6622932_inicial_lorena.pdf   \n",
       "1                   16000000032017_6626319_p.i..pdf   \n",
       "2                   16000000042017_6626401_p.i..pdf   \n",
       "3   11000000012017_6626489_00122055920165030077.pdf   \n",
       "4  04000000012017_6627051_NP00017480420165100002G...  "
      ]
     },
     "execution_count": 10,
     "metadata": {},
     "output_type": "execute_result"
    }
   ],
   "source": [
    "xls1.columns = ['sequencial', 'expediente', 'cod', 'name']\n",
    "xls1.head()"
   ]
  },
  {
   "cell_type": "code",
   "execution_count": 11,
   "metadata": {},
   "outputs": [
    {
     "name": "stdout",
     "output_type": "stream",
     "text": [
      "<class 'pandas.core.frame.DataFrame'>\n",
      "RangeIndex: 2126 entries, 0 to 2125\n",
      "Data columns (total 4 columns):\n",
      "sequencial    2126 non-null int64\n",
      "expediente    2126 non-null object\n",
      "cod           2126 non-null int64\n",
      "name          2126 non-null object\n",
      "dtypes: int64(2), object(2)\n",
      "memory usage: 66.5+ KB\n"
     ]
    }
   ],
   "source": [
    "xls1.info()"
   ]
  },
  {
   "cell_type": "code",
   "execution_count": 12,
   "metadata": {},
   "outputs": [
    {
     "data": {
      "text/plain": [
       "count        2126\n",
       "unique       2126\n",
       "top       6725684\n",
       "freq            1\n",
       "Name: sequencial, dtype: object"
      ]
     },
     "execution_count": 12,
     "metadata": {},
     "output_type": "execute_result"
    }
   ],
   "source": [
    "xls1.sequencial.astype(str).describe()"
   ]
  },
  {
   "cell_type": "code",
   "execution_count": 13,
   "metadata": {},
   "outputs": [
    {
     "data": {
      "text/plain": [
       "True"
      ]
     },
     "execution_count": 13,
     "metadata": {},
     "output_type": "execute_result"
    }
   ],
   "source": [
    "all(xls1.sequencial.apply(len_seq))"
   ]
  },
  {
   "cell_type": "code",
   "execution_count": 14,
   "metadata": {},
   "outputs": [
    {
     "data": {
      "text/plain": [
       "count                  2126\n",
       "unique                 1237\n",
       "top       02.001.00145/2017\n",
       "freq                     69\n",
       "Name: expediente, dtype: object"
      ]
     },
     "execution_count": 14,
     "metadata": {},
     "output_type": "execute_result"
    }
   ],
   "source": [
    "xls1.expediente.describe()"
   ]
  },
  {
   "cell_type": "code",
   "execution_count": 15,
   "metadata": {},
   "outputs": [
    {
     "data": {
      "text/plain": [
       "True"
      ]
     },
     "execution_count": 15,
     "metadata": {},
     "output_type": "execute_result"
    }
   ],
   "source": [
    "all(xls1.expediente.apply(len_exp))"
   ]
  },
  {
   "cell_type": "code",
   "execution_count": 16,
   "metadata": {},
   "outputs": [
    {
     "data": {
      "text/plain": [
       "02.001.00145/2017    69\n",
       "02.001.00141/2017    63\n",
       "02.001.00144/2017    63\n",
       "02.001.00142/2017    62\n",
       "02.001.00143/2017    60\n",
       "Name: expediente, dtype: int64"
      ]
     },
     "execution_count": 16,
     "metadata": {},
     "output_type": "execute_result"
    }
   ],
   "source": [
    "xls1.expediente.value_counts().head()"
   ]
  },
  {
   "cell_type": "code",
   "execution_count": 17,
   "metadata": {},
   "outputs": [
    {
     "data": {
      "text/plain": [
       "{'04.000.00679/2017'}"
      ]
     },
     "execution_count": 17,
     "metadata": {},
     "output_type": "execute_result"
    }
   ],
   "source": [
    "set(xls0.expediente) ^ set(xls1.expediente)"
   ]
  },
  {
   "cell_type": "code",
   "execution_count": 18,
   "metadata": {},
   "outputs": [
    {
     "data": {
      "text/plain": [
       "True"
      ]
     },
     "execution_count": 18,
     "metadata": {},
     "output_type": "execute_result"
    }
   ],
   "source": [
    "set(xls0.expediente) >= set(xls1.expediente)"
   ]
  },
  {
   "cell_type": "code",
   "execution_count": 19,
   "metadata": {},
   "outputs": [
    {
     "data": {
      "text/plain": [
       "count     2126\n",
       "unique       2\n",
       "top       5070\n",
       "freq      1499\n",
       "Name: cod, dtype: object"
      ]
     },
     "execution_count": 19,
     "metadata": {},
     "output_type": "execute_result"
    }
   ],
   "source": [
    "xls1.cod.astype(str).describe()"
   ]
  },
  {
   "cell_type": "code",
   "execution_count": 20,
   "metadata": {},
   "outputs": [
    {
     "data": {
      "text/plain": [
       "array([5070, 5083])"
      ]
     },
     "execution_count": 20,
     "metadata": {},
     "output_type": "execute_result"
    }
   ],
   "source": [
    "xls1.cod.unique()"
   ]
  },
  {
   "cell_type": "code",
   "execution_count": 21,
   "metadata": {},
   "outputs": [
    {
     "data": {
      "text/html": [
       "<div>\n",
       "<style scoped>\n",
       "    .dataframe tbody tr th:only-of-type {\n",
       "        vertical-align: middle;\n",
       "    }\n",
       "\n",
       "    .dataframe tbody tr th {\n",
       "        vertical-align: top;\n",
       "    }\n",
       "\n",
       "    .dataframe thead th {\n",
       "        text-align: right;\n",
       "    }\n",
       "</style>\n",
       "<table border=\"1\" class=\"dataframe\">\n",
       "  <thead>\n",
       "    <tr style=\"text-align: right;\">\n",
       "      <th></th>\n",
       "      <th>expediente</th>\n",
       "      <th>cod</th>\n",
       "    </tr>\n",
       "  </thead>\n",
       "  <tbody>\n",
       "    <tr>\n",
       "      <th>0</th>\n",
       "      <td>03.000.00001/2017</td>\n",
       "      <td>5070</td>\n",
       "    </tr>\n",
       "    <tr>\n",
       "      <th>1</th>\n",
       "      <td>16.000.00003/2017</td>\n",
       "      <td>5070</td>\n",
       "    </tr>\n",
       "    <tr>\n",
       "      <th>2</th>\n",
       "      <td>16.000.00004/2017</td>\n",
       "      <td>5070</td>\n",
       "    </tr>\n",
       "    <tr>\n",
       "      <th>3</th>\n",
       "      <td>11.000.00001/2017</td>\n",
       "      <td>5070</td>\n",
       "    </tr>\n",
       "    <tr>\n",
       "      <th>4</th>\n",
       "      <td>04.000.00001/2017</td>\n",
       "      <td>5083</td>\n",
       "    </tr>\n",
       "  </tbody>\n",
       "</table>\n",
       "</div>"
      ],
      "text/plain": [
       "          expediente   cod\n",
       "0  03.000.00001/2017  5070\n",
       "1  16.000.00003/2017  5070\n",
       "2  16.000.00004/2017  5070\n",
       "3  11.000.00001/2017  5070\n",
       "4  04.000.00001/2017  5083"
      ]
     },
     "execution_count": 21,
     "metadata": {},
     "output_type": "execute_result"
    }
   ],
   "source": [
    "df = xls1.loc[:,('expediente', 'cod')]\n",
    "df.head()"
   ]
  },
  {
   "cell_type": "code",
   "execution_count": 22,
   "metadata": {},
   "outputs": [
    {
     "data": {
      "text/plain": [
       "11.003.00037/2017    2\n",
       "10.000.00888/2017    2\n",
       "02.000.00144/2017    2\n",
       "04.000.00780/2017    2\n",
       "10.000.00107/2017    2\n",
       "Name: expediente, dtype: int64"
      ]
     },
     "execution_count": 22,
     "metadata": {},
     "output_type": "execute_result"
    }
   ],
   "source": [
    "df.drop_duplicates(inplace=True)\n",
    "df = df.expediente.value_counts()\n",
    "df.head()"
   ]
  },
  {
   "cell_type": "code",
   "execution_count": 23,
   "metadata": {},
   "outputs": [
    {
     "data": {
      "text/plain": [
       "array(['11.003.00037/2017', '10.000.00888/2017', '02.000.00144/2017',\n",
       "       '04.000.00780/2017', '10.000.00107/2017', '04.000.00279/2017',\n",
       "       '12.000.01447/2017', '02.000.00186/2017', '10.000.00110/2017',\n",
       "       '10.000.00198/2017', '11.000.05697/2017', '10.000.00109/2017',\n",
       "       '04.000.00132/2017', '04.000.00753/2017', '08.000.00877/2017',\n",
       "       '04.000.00136/2017', '04.000.00131/2017', '11.000.00665/2017',\n",
       "       '04.000.00716/2017', '04.000.01871/2017', '04.000.01283/2017',\n",
       "       '04.000.01263/2017', '04.000.00137/2017', '10.000.00108/2017',\n",
       "       '04.000.00130/2017', '02.000.00145/2017', '02.001.00153/2017'],\n",
       "      dtype=object)"
      ]
     },
     "execution_count": 23,
     "metadata": {},
     "output_type": "execute_result"
    }
   ],
   "source": [
    "ls = df[df != 1].index.values\n",
    "ls"
   ]
  },
  {
   "cell_type": "code",
   "execution_count": 24,
   "metadata": {},
   "outputs": [
    {
     "data": {
      "text/plain": [
       "count                                                 2126\n",
       "unique                                                2126\n",
       "top       03001001112017_6821231_00040267520164013311.pdf \n",
       "freq                                                     1\n",
       "Name: name, dtype: object"
      ]
     },
     "execution_count": 24,
     "metadata": {},
     "output_type": "execute_result"
    }
   ],
   "source": [
    "xls1.name.describe()"
   ]
  },
  {
   "cell_type": "code",
   "execution_count": 25,
   "metadata": {},
   "outputs": [
    {
     "data": {
      "text/html": [
       "<div>\n",
       "<style scoped>\n",
       "    .dataframe tbody tr th:only-of-type {\n",
       "        vertical-align: middle;\n",
       "    }\n",
       "\n",
       "    .dataframe tbody tr th {\n",
       "        vertical-align: top;\n",
       "    }\n",
       "\n",
       "    .dataframe thead th {\n",
       "        text-align: right;\n",
       "    }\n",
       "</style>\n",
       "<table border=\"1\" class=\"dataframe\">\n",
       "  <thead>\n",
       "    <tr style=\"text-align: right;\">\n",
       "      <th></th>\n",
       "      <th>0</th>\n",
       "      <th>1</th>\n",
       "      <th>2</th>\n",
       "      <th>3</th>\n",
       "    </tr>\n",
       "  </thead>\n",
       "  <tbody>\n",
       "    <tr>\n",
       "      <th>Cod. Expediente</th>\n",
       "      <td>02.000.00030/2017</td>\n",
       "      <td>02.000.00030/2017</td>\n",
       "      <td>02.000.00030/2017</td>\n",
       "      <td>02.000.00030/2017</td>\n",
       "    </tr>\n",
       "    <tr>\n",
       "      <th>Nome da Parte</th>\n",
       "      <td>BANCO DO BRASIL SA</td>\n",
       "      <td>BASA BANCO DA MAZONIA</td>\n",
       "      <td>BNDES BANCO NACIONAL DO DESENVOLVIMENTO ECONOM...</td>\n",
       "      <td>MINISTERIO PUBLICO FEDERAL</td>\n",
       "    </tr>\n",
       "    <tr>\n",
       "      <th>Situacao da Parte</th>\n",
       "      <td>4</td>\n",
       "      <td>4</td>\n",
       "      <td>4</td>\n",
       "      <td>1</td>\n",
       "    </tr>\n",
       "    <tr>\n",
       "      <th>CPF/CNPJ/CEI da Parte</th>\n",
       "      <td>353</td>\n",
       "      <td>4.90298e+12</td>\n",
       "      <td>3.36572e+13</td>\n",
       "      <td>2.69897e+13</td>\n",
       "    </tr>\n",
       "    <tr>\n",
       "      <th>Contratos da Parte</th>\n",
       "      <td>RCMN35482008; RCMN38762010</td>\n",
       "      <td>RCMN35482008; RCMN38762010</td>\n",
       "      <td>RCMN35482008; RCMN38762010</td>\n",
       "      <td>RCMN35482008; RCMN38762010</td>\n",
       "    </tr>\n",
       "    <tr>\n",
       "      <th>Matricula</th>\n",
       "      <td>NaN</td>\n",
       "      <td>NaN</td>\n",
       "      <td>NaN</td>\n",
       "      <td>NaN</td>\n",
       "    </tr>\n",
       "    <tr>\n",
       "      <th>Processo</th>\n",
       "      <td>00163747020164013200</td>\n",
       "      <td>00163747020164013200</td>\n",
       "      <td>00163747020164013200</td>\n",
       "      <td>00163747020164013200</td>\n",
       "    </tr>\n",
       "    <tr>\n",
       "      <th>Dt. Entrada</th>\n",
       "      <td>2017-01-19 00:00:00.000</td>\n",
       "      <td>2017-01-19 00:00:00.000</td>\n",
       "      <td>2017-01-19 00:00:00.000</td>\n",
       "      <td>2017-01-19 00:00:00.000</td>\n",
       "    </tr>\n",
       "    <tr>\n",
       "      <th>Vara</th>\n",
       "      <td>7</td>\n",
       "      <td>7</td>\n",
       "      <td>7</td>\n",
       "      <td>7</td>\n",
       "    </tr>\n",
       "    <tr>\n",
       "      <th>Acao</th>\n",
       "      <td>9</td>\n",
       "      <td>9</td>\n",
       "      <td>9</td>\n",
       "      <td>9</td>\n",
       "    </tr>\n",
       "    <tr>\n",
       "      <th>Foro</th>\n",
       "      <td>8</td>\n",
       "      <td>8</td>\n",
       "      <td>8</td>\n",
       "      <td>8</td>\n",
       "    </tr>\n",
       "    <tr>\n",
       "      <th>Area Judicial</th>\n",
       "      <td>2</td>\n",
       "      <td>2</td>\n",
       "      <td>2</td>\n",
       "      <td>2</td>\n",
       "    </tr>\n",
       "    <tr>\n",
       "      <th>Comarca</th>\n",
       "      <td>2</td>\n",
       "      <td>2</td>\n",
       "      <td>2</td>\n",
       "      <td>2</td>\n",
       "    </tr>\n",
       "    <tr>\n",
       "      <th>Situacao Caixa</th>\n",
       "      <td>2</td>\n",
       "      <td>2</td>\n",
       "      <td>2</td>\n",
       "      <td>2</td>\n",
       "    </tr>\n",
       "    <tr>\n",
       "      <th>Advogado</th>\n",
       "      <td>142919</td>\n",
       "      <td>142919</td>\n",
       "      <td>142919</td>\n",
       "      <td>142919</td>\n",
       "    </tr>\n",
       "    <tr>\n",
       "      <th>Centro de Custo</th>\n",
       "      <td>5128</td>\n",
       "      <td>5128</td>\n",
       "      <td>5128</td>\n",
       "      <td>5128</td>\n",
       "    </tr>\n",
       "    <tr>\n",
       "      <th>Unidade Subsidio</th>\n",
       "      <td>5128</td>\n",
       "      <td>5128</td>\n",
       "      <td>5128</td>\n",
       "      <td>5128</td>\n",
       "    </tr>\n",
       "    <tr>\n",
       "      <th>Exito(%)</th>\n",
       "      <td>2</td>\n",
       "      <td>2</td>\n",
       "      <td>2</td>\n",
       "      <td>2</td>\n",
       "    </tr>\n",
       "    <tr>\n",
       "      <th>Dt. Causa</th>\n",
       "      <td>2017-01-18 00:00:00.000</td>\n",
       "      <td>2017-01-18 00:00:00.000</td>\n",
       "      <td>2017-01-18 00:00:00.000</td>\n",
       "      <td>2017-01-18 00:00:00.000</td>\n",
       "    </tr>\n",
       "    <tr>\n",
       "      <th>Vr. Causa</th>\n",
       "      <td>1.80309e+07</td>\n",
       "      <td>1.80309e+07</td>\n",
       "      <td>1.80309e+07</td>\n",
       "      <td>1.80309e+07</td>\n",
       "    </tr>\n",
       "    <tr>\n",
       "      <th>Vr. Causa Atual</th>\n",
       "      <td>1.82883e+07</td>\n",
       "      <td>1.82883e+07</td>\n",
       "      <td>1.82883e+07</td>\n",
       "      <td>1.82883e+07</td>\n",
       "    </tr>\n",
       "    <tr>\n",
       "      <th>Dt. do VPC</th>\n",
       "      <td>NaN</td>\n",
       "      <td>NaN</td>\n",
       "      <td>NaN</td>\n",
       "      <td>NaN</td>\n",
       "    </tr>\n",
       "    <tr>\n",
       "      <th>Vr. Prov. Condenacao</th>\n",
       "      <td>NaN</td>\n",
       "      <td>NaN</td>\n",
       "      <td>NaN</td>\n",
       "      <td>NaN</td>\n",
       "    </tr>\n",
       "    <tr>\n",
       "      <th>Vr. Prov. Cond. Atual</th>\n",
       "      <td>NaN</td>\n",
       "      <td>NaN</td>\n",
       "      <td>NaN</td>\n",
       "      <td>NaN</td>\n",
       "    </tr>\n",
       "    <tr>\n",
       "      <th>Dt. do VRE</th>\n",
       "      <td>2017-01-18 00:00:00.000</td>\n",
       "      <td>2017-01-18 00:00:00.000</td>\n",
       "      <td>2017-01-18 00:00:00.000</td>\n",
       "      <td>2017-01-18 00:00:00.000</td>\n",
       "    </tr>\n",
       "    <tr>\n",
       "      <th>Vr. Reperc. Econ.</th>\n",
       "      <td>1.80309e+07</td>\n",
       "      <td>1.80309e+07</td>\n",
       "      <td>1.80309e+07</td>\n",
       "      <td>1.80309e+07</td>\n",
       "    </tr>\n",
       "    <tr>\n",
       "      <th>Vr. Reperc. Econ. Atual</th>\n",
       "      <td>1.82883e+07</td>\n",
       "      <td>1.82883e+07</td>\n",
       "      <td>1.82883e+07</td>\n",
       "      <td>1.82883e+07</td>\n",
       "    </tr>\n",
       "    <tr>\n",
       "      <th>Grupo Provisão</th>\n",
       "      <td>NaN</td>\n",
       "      <td>NaN</td>\n",
       "      <td>NaN</td>\n",
       "      <td>NaN</td>\n",
       "    </tr>\n",
       "    <tr>\n",
       "      <th>% Provisão</th>\n",
       "      <td>NaN</td>\n",
       "      <td>NaN</td>\n",
       "      <td>NaN</td>\n",
       "      <td>NaN</td>\n",
       "    </tr>\n",
       "    <tr>\n",
       "      <th>Dt. Provisão</th>\n",
       "      <td>NaN</td>\n",
       "      <td>NaN</td>\n",
       "      <td>NaN</td>\n",
       "      <td>NaN</td>\n",
       "    </tr>\n",
       "    <tr>\n",
       "      <th>Vr. Provisão</th>\n",
       "      <td>NaN</td>\n",
       "      <td>NaN</td>\n",
       "      <td>NaN</td>\n",
       "      <td>NaN</td>\n",
       "    </tr>\n",
       "    <tr>\n",
       "      <th>Grupo de Assunto</th>\n",
       "      <td>25</td>\n",
       "      <td>25</td>\n",
       "      <td>25</td>\n",
       "      <td>25</td>\n",
       "    </tr>\n",
       "    <tr>\n",
       "      <th>Assunto</th>\n",
       "      <td>531; 716; 972</td>\n",
       "      <td>531; 716; 972</td>\n",
       "      <td>531; 716; 972</td>\n",
       "      <td>531; 716; 972</td>\n",
       "    </tr>\n",
       "    <tr>\n",
       "      <th>Operação</th>\n",
       "      <td>NaN</td>\n",
       "      <td>NaN</td>\n",
       "      <td>NaN</td>\n",
       "      <td>NaN</td>\n",
       "    </tr>\n",
       "  </tbody>\n",
       "</table>\n",
       "</div>"
      ],
      "text/plain": [
       "                                                  0  \\\n",
       "Cod. Expediente                   02.000.00030/2017   \n",
       "Nome da Parte                    BANCO DO BRASIL SA   \n",
       "Situacao da Parte                                 4   \n",
       "CPF/CNPJ/CEI da Parte                           353   \n",
       "Contratos da Parte       RCMN35482008; RCMN38762010   \n",
       "Matricula                                       NaN   \n",
       "Processo                       00163747020164013200   \n",
       "Dt. Entrada                 2017-01-19 00:00:00.000   \n",
       "Vara                                              7   \n",
       "Acao                                              9   \n",
       "Foro                                              8   \n",
       "Area Judicial                                     2   \n",
       "Comarca                                           2   \n",
       "Situacao Caixa                                    2   \n",
       "Advogado                                     142919   \n",
       "Centro de Custo                                5128   \n",
       "Unidade Subsidio                               5128   \n",
       "Exito(%)                                          2   \n",
       "Dt. Causa                   2017-01-18 00:00:00.000   \n",
       "Vr. Causa                               1.80309e+07   \n",
       "Vr. Causa Atual                         1.82883e+07   \n",
       "Dt. do VPC                                      NaN   \n",
       "Vr. Prov. Condenacao                            NaN   \n",
       "Vr. Prov. Cond. Atual                           NaN   \n",
       "Dt. do VRE                  2017-01-18 00:00:00.000   \n",
       "Vr. Reperc. Econ.                       1.80309e+07   \n",
       "Vr. Reperc. Econ. Atual                 1.82883e+07   \n",
       "Grupo Provisão                                  NaN   \n",
       "% Provisão                                      NaN   \n",
       "Dt. Provisão                                    NaN   \n",
       "Vr. Provisão                                    NaN   \n",
       "Grupo de Assunto                                 25   \n",
       "Assunto                               531; 716; 972   \n",
       "Operação                                        NaN   \n",
       "\n",
       "                                                  1  \\\n",
       "Cod. Expediente                   02.000.00030/2017   \n",
       "Nome da Parte                 BASA BANCO DA MAZONIA   \n",
       "Situacao da Parte                                 4   \n",
       "CPF/CNPJ/CEI da Parte                   4.90298e+12   \n",
       "Contratos da Parte       RCMN35482008; RCMN38762010   \n",
       "Matricula                                       NaN   \n",
       "Processo                       00163747020164013200   \n",
       "Dt. Entrada                 2017-01-19 00:00:00.000   \n",
       "Vara                                              7   \n",
       "Acao                                              9   \n",
       "Foro                                              8   \n",
       "Area Judicial                                     2   \n",
       "Comarca                                           2   \n",
       "Situacao Caixa                                    2   \n",
       "Advogado                                     142919   \n",
       "Centro de Custo                                5128   \n",
       "Unidade Subsidio                               5128   \n",
       "Exito(%)                                          2   \n",
       "Dt. Causa                   2017-01-18 00:00:00.000   \n",
       "Vr. Causa                               1.80309e+07   \n",
       "Vr. Causa Atual                         1.82883e+07   \n",
       "Dt. do VPC                                      NaN   \n",
       "Vr. Prov. Condenacao                            NaN   \n",
       "Vr. Prov. Cond. Atual                           NaN   \n",
       "Dt. do VRE                  2017-01-18 00:00:00.000   \n",
       "Vr. Reperc. Econ.                       1.80309e+07   \n",
       "Vr. Reperc. Econ. Atual                 1.82883e+07   \n",
       "Grupo Provisão                                  NaN   \n",
       "% Provisão                                      NaN   \n",
       "Dt. Provisão                                    NaN   \n",
       "Vr. Provisão                                    NaN   \n",
       "Grupo de Assunto                                 25   \n",
       "Assunto                               531; 716; 972   \n",
       "Operação                                        NaN   \n",
       "\n",
       "                                                                         2  \\\n",
       "Cod. Expediente                                          02.000.00030/2017   \n",
       "Nome da Parte            BNDES BANCO NACIONAL DO DESENVOLVIMENTO ECONOM...   \n",
       "Situacao da Parte                                                        4   \n",
       "CPF/CNPJ/CEI da Parte                                          3.36572e+13   \n",
       "Contratos da Parte                              RCMN35482008; RCMN38762010   \n",
       "Matricula                                                              NaN   \n",
       "Processo                                              00163747020164013200   \n",
       "Dt. Entrada                                        2017-01-19 00:00:00.000   \n",
       "Vara                                                                     7   \n",
       "Acao                                                                     9   \n",
       "Foro                                                                     8   \n",
       "Area Judicial                                                            2   \n",
       "Comarca                                                                  2   \n",
       "Situacao Caixa                                                           2   \n",
       "Advogado                                                            142919   \n",
       "Centro de Custo                                                       5128   \n",
       "Unidade Subsidio                                                      5128   \n",
       "Exito(%)                                                                 2   \n",
       "Dt. Causa                                          2017-01-18 00:00:00.000   \n",
       "Vr. Causa                                                      1.80309e+07   \n",
       "Vr. Causa Atual                                                1.82883e+07   \n",
       "Dt. do VPC                                                             NaN   \n",
       "Vr. Prov. Condenacao                                                   NaN   \n",
       "Vr. Prov. Cond. Atual                                                  NaN   \n",
       "Dt. do VRE                                         2017-01-18 00:00:00.000   \n",
       "Vr. Reperc. Econ.                                              1.80309e+07   \n",
       "Vr. Reperc. Econ. Atual                                        1.82883e+07   \n",
       "Grupo Provisão                                                         NaN   \n",
       "% Provisão                                                             NaN   \n",
       "Dt. Provisão                                                           NaN   \n",
       "Vr. Provisão                                                           NaN   \n",
       "Grupo de Assunto                                                        25   \n",
       "Assunto                                                      531; 716; 972   \n",
       "Operação                                                               NaN   \n",
       "\n",
       "                                                  3  \n",
       "Cod. Expediente                   02.000.00030/2017  \n",
       "Nome da Parte            MINISTERIO PUBLICO FEDERAL  \n",
       "Situacao da Parte                                 1  \n",
       "CPF/CNPJ/CEI da Parte                   2.69897e+13  \n",
       "Contratos da Parte       RCMN35482008; RCMN38762010  \n",
       "Matricula                                       NaN  \n",
       "Processo                       00163747020164013200  \n",
       "Dt. Entrada                 2017-01-19 00:00:00.000  \n",
       "Vara                                              7  \n",
       "Acao                                              9  \n",
       "Foro                                              8  \n",
       "Area Judicial                                     2  \n",
       "Comarca                                           2  \n",
       "Situacao Caixa                                    2  \n",
       "Advogado                                     142919  \n",
       "Centro de Custo                                5128  \n",
       "Unidade Subsidio                               5128  \n",
       "Exito(%)                                          2  \n",
       "Dt. Causa                   2017-01-18 00:00:00.000  \n",
       "Vr. Causa                               1.80309e+07  \n",
       "Vr. Causa Atual                         1.82883e+07  \n",
       "Dt. do VPC                                      NaN  \n",
       "Vr. Prov. Condenacao                            NaN  \n",
       "Vr. Prov. Cond. Atual                           NaN  \n",
       "Dt. do VRE                  2017-01-18 00:00:00.000  \n",
       "Vr. Reperc. Econ.                       1.80309e+07  \n",
       "Vr. Reperc. Econ. Atual                 1.82883e+07  \n",
       "Grupo Provisão                                  NaN  \n",
       "% Provisão                                      NaN  \n",
       "Dt. Provisão                                    NaN  \n",
       "Vr. Provisão                                    NaN  \n",
       "Grupo de Assunto                                 25  \n",
       "Assunto                               531; 716; 972  \n",
       "Operação                                        NaN  "
      ]
     },
     "execution_count": 25,
     "metadata": {},
     "output_type": "execute_result"
    }
   ],
   "source": [
    "xls2 = pd.read_excel(xls, sheet_name=sheet[2])\n",
    "xls2.head(n=4).T"
   ]
  },
  {
   "cell_type": "code",
   "execution_count": 26,
   "metadata": {},
   "outputs": [
    {
     "data": {
      "text/html": [
       "<div>\n",
       "<style scoped>\n",
       "    .dataframe tbody tr th:only-of-type {\n",
       "        vertical-align: middle;\n",
       "    }\n",
       "\n",
       "    .dataframe tbody tr th {\n",
       "        vertical-align: top;\n",
       "    }\n",
       "\n",
       "    .dataframe thead th {\n",
       "        text-align: right;\n",
       "    }\n",
       "</style>\n",
       "<table border=\"1\" class=\"dataframe\">\n",
       "  <thead>\n",
       "    <tr style=\"text-align: right;\">\n",
       "      <th></th>\n",
       "      <th>expediente</th>\n",
       "      <th>acao</th>\n",
       "      <th>grupo_assunto</th>\n",
       "      <th>assunto</th>\n",
       "    </tr>\n",
       "  </thead>\n",
       "  <tbody>\n",
       "    <tr>\n",
       "      <th>0</th>\n",
       "      <td>02.000.00030/2017</td>\n",
       "      <td>9</td>\n",
       "      <td>25</td>\n",
       "      <td>531; 716; 972</td>\n",
       "    </tr>\n",
       "    <tr>\n",
       "      <th>1</th>\n",
       "      <td>02.000.00030/2017</td>\n",
       "      <td>9</td>\n",
       "      <td>25</td>\n",
       "      <td>531; 716; 972</td>\n",
       "    </tr>\n",
       "    <tr>\n",
       "      <th>2</th>\n",
       "      <td>02.000.00030/2017</td>\n",
       "      <td>9</td>\n",
       "      <td>25</td>\n",
       "      <td>531; 716; 972</td>\n",
       "    </tr>\n",
       "    <tr>\n",
       "      <th>3</th>\n",
       "      <td>02.000.00030/2017</td>\n",
       "      <td>9</td>\n",
       "      <td>25</td>\n",
       "      <td>531; 716; 972</td>\n",
       "    </tr>\n",
       "    <tr>\n",
       "      <th>4</th>\n",
       "      <td>02.000.00035/2017</td>\n",
       "      <td>50</td>\n",
       "      <td>27</td>\n",
       "      <td>50; 254; 531; 558; 613; 620; 780</td>\n",
       "    </tr>\n",
       "  </tbody>\n",
       "</table>\n",
       "</div>"
      ],
      "text/plain": [
       "          expediente  acao  grupo_assunto                           assunto\n",
       "0  02.000.00030/2017     9             25                     531; 716; 972\n",
       "1  02.000.00030/2017     9             25                     531; 716; 972\n",
       "2  02.000.00030/2017     9             25                     531; 716; 972\n",
       "3  02.000.00030/2017     9             25                     531; 716; 972\n",
       "4  02.000.00035/2017    50             27  50; 254; 531; 558; 613; 620; 780"
      ]
     },
     "execution_count": 26,
     "metadata": {},
     "output_type": "execute_result"
    }
   ],
   "source": [
    "# cols = ['Cod. Expediente', 'Acao', 'Grupo de Assunto', 'Assunto']\n",
    "ls = [0, 9, 31, 32]\n",
    "xls2 = pd.read_excel(xls, sheet_name=sheet[2], usecols=ls)\n",
    "xls2.columns = ['expediente', 'acao', 'grupo_assunto', 'assunto']\n",
    "xls2.head()"
   ]
  },
  {
   "cell_type": "code",
   "execution_count": 27,
   "metadata": {},
   "outputs": [
    {
     "name": "stdout",
     "output_type": "stream",
     "text": [
      "<class 'pandas.core.frame.DataFrame'>\n",
      "RangeIndex: 1018 entries, 0 to 1017\n",
      "Data columns (total 4 columns):\n",
      "expediente       1018 non-null object\n",
      "acao             1018 non-null int64\n",
      "grupo_assunto    1018 non-null int64\n",
      "assunto          1018 non-null object\n",
      "dtypes: int64(2), object(2)\n",
      "memory usage: 31.9+ KB\n"
     ]
    }
   ],
   "source": [
    "xls2.info()"
   ]
  },
  {
   "cell_type": "code",
   "execution_count": 28,
   "metadata": {},
   "outputs": [
    {
     "data": {
      "text/plain": [
       "count                  1018\n",
       "unique                  728\n",
       "top       03.000.01310/2017\n",
       "freq                     15\n",
       "Name: expediente, dtype: object"
      ]
     },
     "execution_count": 28,
     "metadata": {},
     "output_type": "execute_result"
    }
   ],
   "source": [
    "xls2.expediente.describe()"
   ]
  },
  {
   "cell_type": "code",
   "execution_count": 29,
   "metadata": {},
   "outputs": [
    {
     "data": {
      "text/plain": [
       "True"
      ]
     },
     "execution_count": 29,
     "metadata": {},
     "output_type": "execute_result"
    }
   ],
   "source": [
    "all(xls2.expediente.apply(len_exp))"
   ]
  },
  {
   "cell_type": "code",
   "execution_count": 30,
   "metadata": {},
   "outputs": [
    {
     "data": {
      "text/plain": [
       "03.000.01310/2017    15\n",
       "04.000.02834/2017    14\n",
       "08.000.00466/2017     9\n",
       "09.000.00498/2017     8\n",
       "08.000.00654/2017     7\n",
       "Name: expediente, dtype: int64"
      ]
     },
     "execution_count": 30,
     "metadata": {},
     "output_type": "execute_result"
    }
   ],
   "source": [
    "xls2.expediente.value_counts().head()"
   ]
  },
  {
   "cell_type": "code",
   "execution_count": 31,
   "metadata": {},
   "outputs": [
    {
     "data": {
      "text/html": [
       "<div>\n",
       "<style scoped>\n",
       "    .dataframe tbody tr th:only-of-type {\n",
       "        vertical-align: middle;\n",
       "    }\n",
       "\n",
       "    .dataframe tbody tr th {\n",
       "        vertical-align: top;\n",
       "    }\n",
       "\n",
       "    .dataframe thead th {\n",
       "        text-align: right;\n",
       "    }\n",
       "</style>\n",
       "<table border=\"1\" class=\"dataframe\">\n",
       "  <thead>\n",
       "    <tr style=\"text-align: right;\">\n",
       "      <th></th>\n",
       "      <th>expediente</th>\n",
       "      <th>acao</th>\n",
       "      <th>grupo_assunto</th>\n",
       "      <th>assunto</th>\n",
       "    </tr>\n",
       "  </thead>\n",
       "  <tbody>\n",
       "    <tr>\n",
       "      <th>683</th>\n",
       "      <td>08.000.00766/2017</td>\n",
       "      <td>2</td>\n",
       "      <td>82</td>\n",
       "      <td>397</td>\n",
       "    </tr>\n",
       "    <tr>\n",
       "      <th>684</th>\n",
       "      <td>08.000.00766/2017</td>\n",
       "      <td>2</td>\n",
       "      <td>82</td>\n",
       "      <td>397</td>\n",
       "    </tr>\n",
       "    <tr>\n",
       "      <th>685</th>\n",
       "      <td>08.000.00766/2017</td>\n",
       "      <td>2</td>\n",
       "      <td>82</td>\n",
       "      <td>397</td>\n",
       "    </tr>\n",
       "    <tr>\n",
       "      <th>686</th>\n",
       "      <td>08.000.00766/2017</td>\n",
       "      <td>2</td>\n",
       "      <td>82</td>\n",
       "      <td>397</td>\n",
       "    </tr>\n",
       "    <tr>\n",
       "      <th>687</th>\n",
       "      <td>08.000.00766/2017</td>\n",
       "      <td>2</td>\n",
       "      <td>82</td>\n",
       "      <td>397</td>\n",
       "    </tr>\n",
       "    <tr>\n",
       "      <th>688</th>\n",
       "      <td>08.000.00766/2017</td>\n",
       "      <td>2</td>\n",
       "      <td>82</td>\n",
       "      <td>397</td>\n",
       "    </tr>\n",
       "    <tr>\n",
       "      <th>689</th>\n",
       "      <td>08.000.00766/2017</td>\n",
       "      <td>2</td>\n",
       "      <td>82</td>\n",
       "      <td>397</td>\n",
       "    </tr>\n",
       "  </tbody>\n",
       "</table>\n",
       "</div>"
      ],
      "text/plain": [
       "            expediente  acao  grupo_assunto assunto\n",
       "683  08.000.00766/2017     2             82     397\n",
       "684  08.000.00766/2017     2             82     397\n",
       "685  08.000.00766/2017     2             82     397\n",
       "686  08.000.00766/2017     2             82     397\n",
       "687  08.000.00766/2017     2             82     397\n",
       "688  08.000.00766/2017     2             82     397\n",
       "689  08.000.00766/2017     2             82     397"
      ]
     },
     "execution_count": 31,
     "metadata": {},
     "output_type": "execute_result"
    }
   ],
   "source": [
    "xls2[xls2.expediente == '08.000.00766/2017']"
   ]
  },
  {
   "cell_type": "code",
   "execution_count": 32,
   "metadata": {},
   "outputs": [
    {
     "data": {
      "text/plain": [
       "count                   728\n",
       "unique                  728\n",
       "top       04.000.03381/2017\n",
       "freq                      1\n",
       "Name: expediente, dtype: object"
      ]
     },
     "execution_count": 32,
     "metadata": {},
     "output_type": "execute_result"
    }
   ],
   "source": [
    "xls2.drop_duplicates(inplace=True)\n",
    "xls2.expediente.describe()"
   ]
  },
  {
   "cell_type": "code",
   "execution_count": 33,
   "metadata": {},
   "outputs": [
    {
     "data": {
      "text/plain": [
       "True"
      ]
     },
     "execution_count": 33,
     "metadata": {},
     "output_type": "execute_result"
    }
   ],
   "source": [
    "all(xls2.expediente.apply(len_exp))"
   ]
  },
  {
   "cell_type": "code",
   "execution_count": 34,
   "metadata": {},
   "outputs": [
    {
     "data": {
      "text/plain": [
       "count     728\n",
       "unique     25\n",
       "top        50\n",
       "freq      440\n",
       "Name: acao, dtype: object"
      ]
     },
     "execution_count": 34,
     "metadata": {},
     "output_type": "execute_result"
    }
   ],
   "source": [
    "xls2.acao.astype(str).describe()"
   ]
  },
  {
   "cell_type": "code",
   "execution_count": 35,
   "metadata": {},
   "outputs": [
    {
     "data": {
      "text/plain": [
       "array([  9,  50,  47,  43,  22,  67,   8, 227,   1, 217,  24,  14,  10,\n",
       "        28, 237,  26,   2,   7,  45,  52,  13, 236,  58,  60,  38])"
      ]
     },
     "execution_count": 35,
     "metadata": {},
     "output_type": "execute_result"
    }
   ],
   "source": [
    "xls2.acao.unique()"
   ]
  },
  {
   "cell_type": "code",
   "execution_count": 36,
   "metadata": {
    "scrolled": true
   },
   "outputs": [
    {
     "data": {
      "text/plain": [
       "count     728\n",
       "unique     45\n",
       "top        27\n",
       "freq      203\n",
       "Name: grupo_assunto, dtype: object"
      ]
     },
     "execution_count": 36,
     "metadata": {},
     "output_type": "execute_result"
    }
   ],
   "source": [
    "xls2.grupo_assunto.astype(str).describe()"
   ]
  },
  {
   "cell_type": "code",
   "execution_count": 37,
   "metadata": {},
   "outputs": [
    {
     "data": {
      "text/plain": [
       "array([25, 27, 26, 11, 28, 82, 22,  3, 15,  4, 93, 14, 32,  5, 18, 23, 12,\n",
       "        9, 38, 37, 16,  8,  7, 21, 84, 29, 34, 81,  6, 30,  1, 13, 44, 31,\n",
       "       85, 94, 24, 20,  2, 19, 36, 79, 45, 33, 35])"
      ]
     },
     "execution_count": 37,
     "metadata": {},
     "output_type": "execute_result"
    }
   ],
   "source": [
    "xls2.grupo_assunto.unique()"
   ]
  },
  {
   "cell_type": "code",
   "execution_count": 38,
   "metadata": {},
   "outputs": [
    {
     "data": {
      "text/plain": [
       "['531; 716; 972',\n",
       " '50; 254; 531; 558; 613; 620; 780',\n",
       " '716; 975',\n",
       " '246',\n",
       " '50; 415; 531; 558; 613; 749']"
      ]
     },
     "execution_count": 38,
     "metadata": {},
     "output_type": "execute_result"
    }
   ],
   "source": [
    "ls = xls2.assunto.tolist()\n",
    "ls[:5]"
   ]
  },
  {
   "cell_type": "code",
   "execution_count": 39,
   "metadata": {},
   "outputs": [
    {
     "data": {
      "text/plain": [
       "0     531\n",
       "1     716\n",
       "2     972\n",
       "3      50\n",
       "4     254\n",
       "dtype: object"
      ]
     },
     "execution_count": 39,
     "metadata": {},
     "output_type": "execute_result"
    }
   ],
   "source": [
    "df = pd.Series([j for i in ls for j in i.split(';')])\n",
    "df.head()"
   ]
  },
  {
   "cell_type": "code",
   "execution_count": 40,
   "metadata": {},
   "outputs": [
    {
     "data": {
      "text/plain": [
       "count     2158\n",
       "unique     224\n",
       "top         50\n",
       "freq       490\n",
       "dtype: object"
      ]
     },
     "execution_count": 40,
     "metadata": {},
     "output_type": "execute_result"
    }
   ],
   "source": [
    "df.describe()"
   ]
  },
  {
   "cell_type": "code",
   "execution_count": 41,
   "metadata": {},
   "outputs": [
    {
     "data": {
      "text/plain": [
       "509"
      ]
     },
     "execution_count": 41,
     "metadata": {},
     "output_type": "execute_result"
    }
   ],
   "source": [
    "len(set(xls1.expediente) ^ set(xls2.expediente))"
   ]
  },
  {
   "cell_type": "code",
   "execution_count": 42,
   "metadata": {},
   "outputs": [
    {
     "data": {
      "text/plain": [
       "True"
      ]
     },
     "execution_count": 42,
     "metadata": {},
     "output_type": "execute_result"
    }
   ],
   "source": [
    "set(xls1.expediente) >= set(xls2.expediente)"
   ]
  },
  {
   "cell_type": "code",
   "execution_count": 43,
   "metadata": {},
   "outputs": [
    {
     "data": {
      "text/html": [
       "<div>\n",
       "<style scoped>\n",
       "    .dataframe tbody tr th:only-of-type {\n",
       "        vertical-align: middle;\n",
       "    }\n",
       "\n",
       "    .dataframe tbody tr th {\n",
       "        vertical-align: top;\n",
       "    }\n",
       "\n",
       "    .dataframe thead th {\n",
       "        text-align: right;\n",
       "    }\n",
       "</style>\n",
       "<table border=\"1\" class=\"dataframe\">\n",
       "  <thead>\n",
       "    <tr style=\"text-align: right;\">\n",
       "      <th></th>\n",
       "      <th>NU_GRUPO_ASSUNTO</th>\n",
       "      <th>NU_ASSUNTO</th>\n",
       "    </tr>\n",
       "  </thead>\n",
       "  <tbody>\n",
       "    <tr>\n",
       "      <th>0</th>\n",
       "      <td>1</td>\n",
       "      <td>22</td>\n",
       "    </tr>\n",
       "    <tr>\n",
       "      <th>1</th>\n",
       "      <td>1</td>\n",
       "      <td>95</td>\n",
       "    </tr>\n",
       "    <tr>\n",
       "      <th>2</th>\n",
       "      <td>1</td>\n",
       "      <td>97</td>\n",
       "    </tr>\n",
       "    <tr>\n",
       "      <th>3</th>\n",
       "      <td>1</td>\n",
       "      <td>531</td>\n",
       "    </tr>\n",
       "    <tr>\n",
       "      <th>4</th>\n",
       "      <td>1</td>\n",
       "      <td>551</td>\n",
       "    </tr>\n",
       "  </tbody>\n",
       "</table>\n",
       "</div>"
      ],
      "text/plain": [
       "   NU_GRUPO_ASSUNTO  NU_ASSUNTO\n",
       "0                 1          22\n",
       "1                 1          95\n",
       "2                 1          97\n",
       "3                 1         531\n",
       "4                 1         551"
      ]
     },
     "execution_count": 43,
     "metadata": {},
     "output_type": "execute_result"
    }
   ],
   "source": [
    "xls3 = pd.read_excel(xls, sheet_name=sheet[3])\n",
    "xls3.head()"
   ]
  },
  {
   "cell_type": "code",
   "execution_count": 44,
   "metadata": {},
   "outputs": [
    {
     "data": {
      "text/plain": [
       "[(1, 22), (1, 95), (1, 97), (1, 531), (1, 551)]"
      ]
     },
     "execution_count": 44,
     "metadata": {},
     "output_type": "execute_result"
    }
   ],
   "source": [
    "domain = xls3.to_records(index=False).tolist()\n",
    "domain[:5]"
   ]
  },
  {
   "cell_type": "code",
   "execution_count": 45,
   "metadata": {},
   "outputs": [
    {
     "data": {
      "text/plain": [
       "[(0, 25, '531; 716; 972'),\n",
       " (4, 27, '50; 254; 531; 558; 613; 620; 780'),\n",
       " (5, 26, '716; 975'),\n",
       " (6, 11, '246'),\n",
       " (8, 27, '50; 415; 531; 558; 613; 749')]"
      ]
     },
     "execution_count": 45,
     "metadata": {},
     "output_type": "execute_result"
    }
   ],
   "source": [
    "ls = xls2.loc[:, ('grupo_assunto', 'assunto')].to_records().tolist()\n",
    "ls[:5]"
   ]
  },
  {
   "cell_type": "code",
   "execution_count": 46,
   "metadata": {},
   "outputs": [
    {
     "data": {
      "text/plain": [
       "[(25, 531), (25, 716), (25, 972), (27, 50), (27, 254)]"
      ]
     },
     "execution_count": 46,
     "metadata": {},
     "output_type": "execute_result"
    }
   ],
   "source": [
    "codomain = [(int(i[1]), splitfix(j)) for i in ls for j in i[2].split(';')]\n",
    "codomain[:5]"
   ]
  },
  {
   "cell_type": "code",
   "execution_count": 47,
   "metadata": {},
   "outputs": [
    {
     "data": {
      "text/plain": [
       "{(8, 684),\n",
       " (13, 77),\n",
       " (13, 530),\n",
       " (14, 530),\n",
       " (15, 530),\n",
       " (18, 530),\n",
       " (19, 530),\n",
       " (22, 530),\n",
       " (23, 530),\n",
       " (25, 530),\n",
       " (27, 530),\n",
       " (28, 34),\n",
       " (28, 397),\n",
       " (28, 448),\n",
       " (28, 468),\n",
       " (28, 530),\n",
       " (28, 558),\n",
       " (82, 530),\n",
       " (85, 50),\n",
       " (85, 530)}"
      ]
     },
     "execution_count": 47,
     "metadata": {},
     "output_type": "execute_result"
    }
   ],
   "source": [
    "set(codomain) -  set(domain)"
   ]
  },
  {
   "cell_type": "code",
   "execution_count": 48,
   "metadata": {},
   "outputs": [
    {
     "data": {
      "text/html": [
       "<div>\n",
       "<style scoped>\n",
       "    .dataframe tbody tr th:only-of-type {\n",
       "        vertical-align: middle;\n",
       "    }\n",
       "\n",
       "    .dataframe tbody tr th {\n",
       "        vertical-align: top;\n",
       "    }\n",
       "\n",
       "    .dataframe thead th {\n",
       "        text-align: right;\n",
       "    }\n",
       "</style>\n",
       "<table border=\"1\" class=\"dataframe\">\n",
       "  <thead>\n",
       "    <tr style=\"text-align: right;\">\n",
       "      <th></th>\n",
       "      <th>expediente</th>\n",
       "      <th>acao</th>\n",
       "      <th>grupo_assunto</th>\n",
       "      <th>assunto</th>\n",
       "    </tr>\n",
       "  </thead>\n",
       "  <tbody>\n",
       "    <tr>\n",
       "      <th>370</th>\n",
       "      <td>04.000.01253/2017</td>\n",
       "      <td>47</td>\n",
       "      <td>8</td>\n",
       "      <td>531; 684</td>\n",
       "    </tr>\n",
       "    <tr>\n",
       "      <th>405</th>\n",
       "      <td>04.000.02401/2017</td>\n",
       "      <td>237</td>\n",
       "      <td>85</td>\n",
       "      <td>50</td>\n",
       "    </tr>\n",
       "    <tr>\n",
       "      <th>406</th>\n",
       "      <td>04.000.02424/2017</td>\n",
       "      <td>237</td>\n",
       "      <td>85</td>\n",
       "      <td>50</td>\n",
       "    </tr>\n",
       "    <tr>\n",
       "      <th>491</th>\n",
       "      <td>08.000.00291/2017</td>\n",
       "      <td>50</td>\n",
       "      <td>22</td>\n",
       "      <td>50; 416; 476; 530; 958</td>\n",
       "    </tr>\n",
       "    <tr>\n",
       "      <th>492</th>\n",
       "      <td>08.000.00292/2017</td>\n",
       "      <td>50</td>\n",
       "      <td>18</td>\n",
       "      <td>50; 394; 530; 604; 749</td>\n",
       "    </tr>\n",
       "    <tr>\n",
       "      <th>494</th>\n",
       "      <td>08.000.00293/2017</td>\n",
       "      <td>50</td>\n",
       "      <td>28</td>\n",
       "      <td>50; 530; 780</td>\n",
       "    </tr>\n",
       "    <tr>\n",
       "      <th>497</th>\n",
       "      <td>08.000.00294/2017</td>\n",
       "      <td>227</td>\n",
       "      <td>27</td>\n",
       "      <td>530; 566; 663</td>\n",
       "    </tr>\n",
       "    <tr>\n",
       "      <th>515</th>\n",
       "      <td>08.000.00345/2017</td>\n",
       "      <td>50</td>\n",
       "      <td>28</td>\n",
       "      <td>50; 530; 640; 749</td>\n",
       "    </tr>\n",
       "    <tr>\n",
       "      <th>516</th>\n",
       "      <td>08.000.00348/2017</td>\n",
       "      <td>50</td>\n",
       "      <td>15</td>\n",
       "      <td>50; 248; 530; 943</td>\n",
       "    </tr>\n",
       "    <tr>\n",
       "      <th>517</th>\n",
       "      <td>08.000.00349/2017</td>\n",
       "      <td>50</td>\n",
       "      <td>27</td>\n",
       "      <td>50; 231; 530; 780</td>\n",
       "    </tr>\n",
       "    <tr>\n",
       "      <th>520</th>\n",
       "      <td>08.000.00357/2017</td>\n",
       "      <td>50</td>\n",
       "      <td>22</td>\n",
       "      <td>50; 416; 530</td>\n",
       "    </tr>\n",
       "    <tr>\n",
       "      <th>541</th>\n",
       "      <td>08.000.00426/2017</td>\n",
       "      <td>50</td>\n",
       "      <td>27</td>\n",
       "      <td>50; 156; 231; 530</td>\n",
       "    </tr>\n",
       "    <tr>\n",
       "      <th>542</th>\n",
       "      <td>08.000.00431/2017</td>\n",
       "      <td>50</td>\n",
       "      <td>27</td>\n",
       "      <td>50; 197; 530; 780</td>\n",
       "    </tr>\n",
       "    <tr>\n",
       "      <th>543</th>\n",
       "      <td>08.000.00439/2017</td>\n",
       "      <td>50</td>\n",
       "      <td>28</td>\n",
       "      <td>50; 379; 530; 749</td>\n",
       "    </tr>\n",
       "    <tr>\n",
       "      <th>544</th>\n",
       "      <td>08.000.00440/2017</td>\n",
       "      <td>50</td>\n",
       "      <td>14</td>\n",
       "      <td>50; 468; 530; 681</td>\n",
       "    </tr>\n",
       "    <tr>\n",
       "      <th>546</th>\n",
       "      <td>08.000.00455/2017</td>\n",
       "      <td>50</td>\n",
       "      <td>27</td>\n",
       "      <td>50; 231; 530</td>\n",
       "    </tr>\n",
       "    <tr>\n",
       "      <th>547</th>\n",
       "      <td>08.000.00456/2017</td>\n",
       "      <td>50</td>\n",
       "      <td>27</td>\n",
       "      <td>50; 231; 530</td>\n",
       "    </tr>\n",
       "    <tr>\n",
       "      <th>548</th>\n",
       "      <td>08.000.00457/2017</td>\n",
       "      <td>50</td>\n",
       "      <td>27</td>\n",
       "      <td>50; 231; 530</td>\n",
       "    </tr>\n",
       "    <tr>\n",
       "      <th>549</th>\n",
       "      <td>08.000.00458/2017</td>\n",
       "      <td>50</td>\n",
       "      <td>27</td>\n",
       "      <td>50; 231; 530</td>\n",
       "    </tr>\n",
       "    <tr>\n",
       "      <th>569</th>\n",
       "      <td>08.000.00485/2017</td>\n",
       "      <td>50</td>\n",
       "      <td>19</td>\n",
       "      <td>50; 376; 530; 701</td>\n",
       "    </tr>\n",
       "    <tr>\n",
       "      <th>574</th>\n",
       "      <td>08.000.00493/2017</td>\n",
       "      <td>50</td>\n",
       "      <td>27</td>\n",
       "      <td>50; 231; 530; 636</td>\n",
       "    </tr>\n",
       "    <tr>\n",
       "      <th>575</th>\n",
       "      <td>08.000.00499/2017</td>\n",
       "      <td>50</td>\n",
       "      <td>27</td>\n",
       "      <td>50; 231; 530</td>\n",
       "    </tr>\n",
       "    <tr>\n",
       "      <th>584</th>\n",
       "      <td>08.000.00509/2017</td>\n",
       "      <td>50</td>\n",
       "      <td>27</td>\n",
       "      <td>50; 231; 530; 636; 780</td>\n",
       "    </tr>\n",
       "    <tr>\n",
       "      <th>585</th>\n",
       "      <td>08.000.00510/2017</td>\n",
       "      <td>50</td>\n",
       "      <td>27</td>\n",
       "      <td>50; 231; 530; 636; 780</td>\n",
       "    </tr>\n",
       "    <tr>\n",
       "      <th>586</th>\n",
       "      <td>08.000.00511/2017</td>\n",
       "      <td>47</td>\n",
       "      <td>27</td>\n",
       "      <td>50; 231; 530; 780</td>\n",
       "    </tr>\n",
       "    <tr>\n",
       "      <th>588</th>\n",
       "      <td>08.000.00513/2017</td>\n",
       "      <td>50</td>\n",
       "      <td>27</td>\n",
       "      <td>50; 231; 530; 636; 780</td>\n",
       "    </tr>\n",
       "    <tr>\n",
       "      <th>589</th>\n",
       "      <td>08.000.00514/2017</td>\n",
       "      <td>50</td>\n",
       "      <td>27</td>\n",
       "      <td>50; 231; 530; 636; 780</td>\n",
       "    </tr>\n",
       "    <tr>\n",
       "      <th>590</th>\n",
       "      <td>08.000.00515/2017</td>\n",
       "      <td>50</td>\n",
       "      <td>27</td>\n",
       "      <td>50; 231; 530; 636; 780</td>\n",
       "    </tr>\n",
       "    <tr>\n",
       "      <th>591</th>\n",
       "      <td>08.000.00516/2017</td>\n",
       "      <td>50</td>\n",
       "      <td>27</td>\n",
       "      <td>50; 231; 530; 636; 780</td>\n",
       "    </tr>\n",
       "    <tr>\n",
       "      <th>592</th>\n",
       "      <td>08.000.00520/2017</td>\n",
       "      <td>50</td>\n",
       "      <td>27</td>\n",
       "      <td>50; 231; 530</td>\n",
       "    </tr>\n",
       "    <tr>\n",
       "      <th>593</th>\n",
       "      <td>08.000.00521/2017</td>\n",
       "      <td>50</td>\n",
       "      <td>27</td>\n",
       "      <td>50; 231; 530</td>\n",
       "    </tr>\n",
       "    <tr>\n",
       "      <th>594</th>\n",
       "      <td>08.000.00524/2017</td>\n",
       "      <td>50</td>\n",
       "      <td>27</td>\n",
       "      <td>50; 231; 530</td>\n",
       "    </tr>\n",
       "    <tr>\n",
       "      <th>611</th>\n",
       "      <td>08.000.00562/2017</td>\n",
       "      <td>50</td>\n",
       "      <td>18</td>\n",
       "      <td>50; 530; 604; 716</td>\n",
       "    </tr>\n",
       "    <tr>\n",
       "      <th>612</th>\n",
       "      <td>08.000.00565/2017</td>\n",
       "      <td>50</td>\n",
       "      <td>27</td>\n",
       "      <td>50; 231; 530</td>\n",
       "    </tr>\n",
       "    <tr>\n",
       "      <th>621</th>\n",
       "      <td>08.000.00600/2017</td>\n",
       "      <td>50</td>\n",
       "      <td>82</td>\n",
       "      <td>50; 397; 530; 780</td>\n",
       "    </tr>\n",
       "    <tr>\n",
       "      <th>627</th>\n",
       "      <td>08.000.00624/2017</td>\n",
       "      <td>50</td>\n",
       "      <td>82</td>\n",
       "      <td>50; 397; 530; 641</td>\n",
       "    </tr>\n",
       "    <tr>\n",
       "      <th>628</th>\n",
       "      <td>08.000.00633/2017</td>\n",
       "      <td>10</td>\n",
       "      <td>25</td>\n",
       "      <td>530; 749</td>\n",
       "    </tr>\n",
       "    <tr>\n",
       "      <th>656</th>\n",
       "      <td>08.000.00683/2017</td>\n",
       "      <td>50</td>\n",
       "      <td>27</td>\n",
       "      <td>50; 231; 530; 613; 749</td>\n",
       "    </tr>\n",
       "    <tr>\n",
       "      <th>661</th>\n",
       "      <td>08.000.00698/2017</td>\n",
       "      <td>47</td>\n",
       "      <td>82</td>\n",
       "      <td>50; 225; 397; 530</td>\n",
       "    </tr>\n",
       "    <tr>\n",
       "      <th>671</th>\n",
       "      <td>08.000.00738/2017</td>\n",
       "      <td>50</td>\n",
       "      <td>82</td>\n",
       "      <td>50; 397; 530</td>\n",
       "    </tr>\n",
       "    <tr>\n",
       "      <th>693</th>\n",
       "      <td>08.000.00843/2017</td>\n",
       "      <td>50</td>\n",
       "      <td>82</td>\n",
       "      <td>50; 397; 530; 641</td>\n",
       "    </tr>\n",
       "    <tr>\n",
       "      <th>705</th>\n",
       "      <td>08.000.03365/2017</td>\n",
       "      <td>50</td>\n",
       "      <td>23</td>\n",
       "      <td>50; 530; 558; 749</td>\n",
       "    </tr>\n",
       "    <tr>\n",
       "      <th>707</th>\n",
       "      <td>08.001.00142/2017</td>\n",
       "      <td>47</td>\n",
       "      <td>13</td>\n",
       "      <td>77; 530; 724</td>\n",
       "    </tr>\n",
       "    <tr>\n",
       "      <th>707</th>\n",
       "      <td>08.001.00142/2017</td>\n",
       "      <td>47</td>\n",
       "      <td>13</td>\n",
       "      <td>77; 530; 724</td>\n",
       "    </tr>\n",
       "    <tr>\n",
       "      <th>884</th>\n",
       "      <td>11.000.00302/2017</td>\n",
       "      <td>50</td>\n",
       "      <td>28</td>\n",
       "      <td>34; 50; 397; 448; 468; 558; 640</td>\n",
       "    </tr>\n",
       "    <tr>\n",
       "      <th>884</th>\n",
       "      <td>11.000.00302/2017</td>\n",
       "      <td>50</td>\n",
       "      <td>28</td>\n",
       "      <td>34; 50; 397; 448; 468; 558; 640</td>\n",
       "    </tr>\n",
       "    <tr>\n",
       "      <th>884</th>\n",
       "      <td>11.000.00302/2017</td>\n",
       "      <td>50</td>\n",
       "      <td>28</td>\n",
       "      <td>34; 50; 397; 448; 468; 558; 640</td>\n",
       "    </tr>\n",
       "    <tr>\n",
       "      <th>884</th>\n",
       "      <td>11.000.00302/2017</td>\n",
       "      <td>50</td>\n",
       "      <td>28</td>\n",
       "      <td>34; 50; 397; 448; 468; 558; 640</td>\n",
       "    </tr>\n",
       "    <tr>\n",
       "      <th>884</th>\n",
       "      <td>11.000.00302/2017</td>\n",
       "      <td>50</td>\n",
       "      <td>28</td>\n",
       "      <td>34; 50; 397; 448; 468; 558; 640</td>\n",
       "    </tr>\n",
       "    <tr>\n",
       "      <th>963</th>\n",
       "      <td>11.000.04792/2017</td>\n",
       "      <td>47</td>\n",
       "      <td>85</td>\n",
       "      <td>530</td>\n",
       "    </tr>\n",
       "    <tr>\n",
       "      <th>966</th>\n",
       "      <td>11.000.05673/2017</td>\n",
       "      <td>47</td>\n",
       "      <td>85</td>\n",
       "      <td>530</td>\n",
       "    </tr>\n",
       "  </tbody>\n",
       "</table>\n",
       "</div>"
      ],
      "text/plain": [
       "            expediente  acao  grupo_assunto                          assunto\n",
       "370  04.000.01253/2017    47              8                         531; 684\n",
       "405  04.000.02401/2017   237             85                               50\n",
       "406  04.000.02424/2017   237             85                               50\n",
       "491  08.000.00291/2017    50             22           50; 416; 476; 530; 958\n",
       "492  08.000.00292/2017    50             18           50; 394; 530; 604; 749\n",
       "494  08.000.00293/2017    50             28                     50; 530; 780\n",
       "497  08.000.00294/2017   227             27                    530; 566; 663\n",
       "515  08.000.00345/2017    50             28                50; 530; 640; 749\n",
       "516  08.000.00348/2017    50             15                50; 248; 530; 943\n",
       "517  08.000.00349/2017    50             27                50; 231; 530; 780\n",
       "520  08.000.00357/2017    50             22                     50; 416; 530\n",
       "541  08.000.00426/2017    50             27                50; 156; 231; 530\n",
       "542  08.000.00431/2017    50             27                50; 197; 530; 780\n",
       "543  08.000.00439/2017    50             28                50; 379; 530; 749\n",
       "544  08.000.00440/2017    50             14                50; 468; 530; 681\n",
       "546  08.000.00455/2017    50             27                     50; 231; 530\n",
       "547  08.000.00456/2017    50             27                     50; 231; 530\n",
       "548  08.000.00457/2017    50             27                     50; 231; 530\n",
       "549  08.000.00458/2017    50             27                     50; 231; 530\n",
       "569  08.000.00485/2017    50             19                50; 376; 530; 701\n",
       "574  08.000.00493/2017    50             27                50; 231; 530; 636\n",
       "575  08.000.00499/2017    50             27                     50; 231; 530\n",
       "584  08.000.00509/2017    50             27           50; 231; 530; 636; 780\n",
       "585  08.000.00510/2017    50             27           50; 231; 530; 636; 780\n",
       "586  08.000.00511/2017    47             27                50; 231; 530; 780\n",
       "588  08.000.00513/2017    50             27           50; 231; 530; 636; 780\n",
       "589  08.000.00514/2017    50             27           50; 231; 530; 636; 780\n",
       "590  08.000.00515/2017    50             27           50; 231; 530; 636; 780\n",
       "591  08.000.00516/2017    50             27           50; 231; 530; 636; 780\n",
       "592  08.000.00520/2017    50             27                     50; 231; 530\n",
       "593  08.000.00521/2017    50             27                     50; 231; 530\n",
       "594  08.000.00524/2017    50             27                     50; 231; 530\n",
       "611  08.000.00562/2017    50             18                50; 530; 604; 716\n",
       "612  08.000.00565/2017    50             27                     50; 231; 530\n",
       "621  08.000.00600/2017    50             82                50; 397; 530; 780\n",
       "627  08.000.00624/2017    50             82                50; 397; 530; 641\n",
       "628  08.000.00633/2017    10             25                         530; 749\n",
       "656  08.000.00683/2017    50             27           50; 231; 530; 613; 749\n",
       "661  08.000.00698/2017    47             82                50; 225; 397; 530\n",
       "671  08.000.00738/2017    50             82                     50; 397; 530\n",
       "693  08.000.00843/2017    50             82                50; 397; 530; 641\n",
       "705  08.000.03365/2017    50             23                50; 530; 558; 749\n",
       "707  08.001.00142/2017    47             13                     77; 530; 724\n",
       "707  08.001.00142/2017    47             13                     77; 530; 724\n",
       "884  11.000.00302/2017    50             28  34; 50; 397; 448; 468; 558; 640\n",
       "884  11.000.00302/2017    50             28  34; 50; 397; 448; 468; 558; 640\n",
       "884  11.000.00302/2017    50             28  34; 50; 397; 448; 468; 558; 640\n",
       "884  11.000.00302/2017    50             28  34; 50; 397; 448; 468; 558; 640\n",
       "884  11.000.00302/2017    50             28  34; 50; 397; 448; 468; 558; 640\n",
       "963  11.000.04792/2017    47             85                              530\n",
       "966  11.000.05673/2017    47             85                              530"
      ]
     },
     "execution_count": 48,
     "metadata": {},
     "output_type": "execute_result"
    }
   ],
   "source": [
    "ls = [i[0] for i in ls for j in i[2].split(';') if (i[1], splitfix(j)) not in domain]\n",
    "df = xls2.loc[ls]\n",
    "df"
   ]
  },
  {
   "cell_type": "code",
   "execution_count": 49,
   "metadata": {},
   "outputs": [
    {
     "data": {
      "text/html": [
       "<div>\n",
       "<style scoped>\n",
       "    .dataframe tbody tr th:only-of-type {\n",
       "        vertical-align: middle;\n",
       "    }\n",
       "\n",
       "    .dataframe tbody tr th {\n",
       "        vertical-align: top;\n",
       "    }\n",
       "\n",
       "    .dataframe thead th {\n",
       "        text-align: right;\n",
       "    }\n",
       "</style>\n",
       "<table border=\"1\" class=\"dataframe\">\n",
       "  <thead>\n",
       "    <tr style=\"text-align: right;\">\n",
       "      <th></th>\n",
       "      <th>expediente</th>\n",
       "      <th>acao</th>\n",
       "      <th>grupo_assunto</th>\n",
       "      <th>assunto</th>\n",
       "      <th>name</th>\n",
       "    </tr>\n",
       "  </thead>\n",
       "  <tbody>\n",
       "    <tr>\n",
       "      <th>0</th>\n",
       "      <td>02.000.00030/2017</td>\n",
       "      <td>9</td>\n",
       "      <td>25</td>\n",
       "      <td>531; 716; 972</td>\n",
       "      <td>02000000302017_6761978_Mandado_de_Intimacao_-_...</td>\n",
       "    </tr>\n",
       "    <tr>\n",
       "      <th>1</th>\n",
       "      <td>02.000.00035/2017</td>\n",
       "      <td>50</td>\n",
       "      <td>27</td>\n",
       "      <td>50; 254; 531; 558; 613; 620; 780</td>\n",
       "      <td>02000000352017_6774071_20170119_MANDADO_DE_CIT...</td>\n",
       "    </tr>\n",
       "    <tr>\n",
       "      <th>2</th>\n",
       "      <td>02.000.00136/2017</td>\n",
       "      <td>47</td>\n",
       "      <td>26</td>\n",
       "      <td>716; 975</td>\n",
       "      <td>02000001362017_6855379_20170127_PROCESSO_INTEG...</td>\n",
       "    </tr>\n",
       "    <tr>\n",
       "      <th>3</th>\n",
       "      <td>02.000.00136/2017</td>\n",
       "      <td>47</td>\n",
       "      <td>26</td>\n",
       "      <td>716; 975</td>\n",
       "      <td>02000001362017_7321216_20170210_PETICAO_INICIA...</td>\n",
       "    </tr>\n",
       "    <tr>\n",
       "      <th>4</th>\n",
       "      <td>02.000.00145/2017</td>\n",
       "      <td>43</td>\n",
       "      <td>11</td>\n",
       "      <td>246</td>\n",
       "      <td>02000001452017_6901508_20170131_MANDADO_INTIMA...</td>\n",
       "    </tr>\n",
       "  </tbody>\n",
       "</table>\n",
       "</div>"
      ],
      "text/plain": [
       "          expediente  acao  grupo_assunto                           assunto  \\\n",
       "0  02.000.00030/2017     9             25                     531; 716; 972   \n",
       "1  02.000.00035/2017    50             27  50; 254; 531; 558; 613; 620; 780   \n",
       "2  02.000.00136/2017    47             26                          716; 975   \n",
       "3  02.000.00136/2017    47             26                          716; 975   \n",
       "4  02.000.00145/2017    43             11                               246   \n",
       "\n",
       "                                                name  \n",
       "0  02000000302017_6761978_Mandado_de_Intimacao_-_...  \n",
       "1  02000000352017_6774071_20170119_MANDADO_DE_CIT...  \n",
       "2  02000001362017_6855379_20170127_PROCESSO_INTEG...  \n",
       "3  02000001362017_7321216_20170210_PETICAO_INICIA...  \n",
       "4  02000001452017_6901508_20170131_MANDADO_INTIMA...  "
      ]
     },
     "execution_count": 49,
     "metadata": {},
     "output_type": "execute_result"
    }
   ],
   "source": [
    "df = xls2.drop(ls)\n",
    "df = df.merge(xls1.loc[:,('expediente', 'name')])\n",
    "df.head()"
   ]
  },
  {
   "cell_type": "code",
   "execution_count": 50,
   "metadata": {},
   "outputs": [
    {
     "name": "stdout",
     "output_type": "stream",
     "text": [
      "<class 'pandas.core.frame.DataFrame'>\n",
      "Int64Index: 888 entries, 0 to 887\n",
      "Data columns (total 5 columns):\n",
      "expediente       888 non-null object\n",
      "name             888 non-null object\n",
      "acao             888 non-null int64\n",
      "grupo_assunto    888 non-null int64\n",
      "assunto          888 non-null object\n",
      "dtypes: int64(2), object(3)\n",
      "memory usage: 41.6+ KB\n"
     ]
    }
   ],
   "source": [
    "df = df[['expediente', 'name', 'acao', 'grupo_assunto', 'assunto']]\n",
    "df.info()"
   ]
  },
  {
   "cell_type": "code",
   "execution_count": 52,
   "metadata": {},
   "outputs": [],
   "source": [
    "df.to_csv('xls-dataset.csv', sep=';', index=False)"
   ]
  }
 ],
 "metadata": {
  "kernelspec": {
   "display_name": "Python 3",
   "language": "python",
   "name": "python3"
  },
  "language_info": {
   "codemirror_mode": {
    "name": "ipython",
    "version": 3
   },
   "file_extension": ".py",
   "mimetype": "text/x-python",
   "name": "python",
   "nbconvert_exporter": "python",
   "pygments_lexer": "ipython3",
   "version": "3.6.5"
  }
 },
 "nbformat": 4,
 "nbformat_minor": 2
}
