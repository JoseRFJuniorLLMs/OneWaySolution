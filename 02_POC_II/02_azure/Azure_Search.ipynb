{
 "cells": [
  {
   "cell_type": "code",
   "execution_count": 1,
   "metadata": {},
   "outputs": [],
   "source": [
    "import api\n",
    "from requests import post\n",
    "from json import loads"
   ]
  },
  {
   "cell_type": "code",
   "execution_count": 2,
   "metadata": {},
   "outputs": [],
   "source": [
    "config = api.Config('config.json')"
   ]
  },
  {
   "cell_type": "code",
   "execution_count": 3,
   "metadata": {},
   "outputs": [
    {
     "name": "stdout",
     "output_type": "stream",
     "text": [
      "https://demoowshq.search.windows.net/indexes/teste2/docs/search?api-version=2017-11-11\n"
     ]
    }
   ],
   "source": [
    "spider = api.Crawler(config.service, config.index, config.version)"
   ]
  },
  {
   "cell_type": "code",
   "execution_count": 4,
   "metadata": {},
   "outputs": [
    {
     "name": "stdout",
     "output_type": "stream",
     "text": [
      "Foram retornados 1300 documentos!\n",
      "Em 563.466 segundos!\n",
      "Arquivo api-response.txt criado!\n"
     ]
    }
   ],
   "source": [
    "spider.searchDocuments(config.key, query=config.query, file=config.output)"
   ]
  },
  {
   "cell_type": "code",
   "execution_count": 5,
   "metadata": {},
   "outputs": [
    {
     "data": {
      "text/plain": [
       "['e RG', 'E devido', 'e TIAGO', 'e despacho', 'e seguintes']"
      ]
     },
     "execution_count": 5,
     "metadata": {},
     "output_type": "execute_result"
    }
   ],
   "source": [
    "data = loads(open(config.output).read())\n",
    "data[0]['keyphrases'][:5]"
   ]
  },
  {
   "cell_type": "code",
   "execution_count": 6,
   "metadata": {},
   "outputs": [
    {
     "name": "stdout",
     "output_type": "stream",
     "text": [
      "Campo keyphrases concatenado!\n"
     ]
    },
    {
     "data": {
      "text/plain": [
       "'e RG E devido e TIAGO e despacho e seguintes e na OAB BA sob o MF sob o RG sob o e noventa e cinco m'"
      ]
     },
     "execution_count": 6,
     "metadata": {},
     "output_type": "execute_result"
    }
   ],
   "source": [
    "data = api.concatFields(data, ['keyphrases'])\n",
    "data[0]['keyphrases'][:100]"
   ]
  },
  {
   "cell_type": "code",
   "execution_count": 7,
   "metadata": {},
   "outputs": [
    {
     "name": "stdout",
     "output_type": "stream",
     "text": [
      "dict_keys(['@search.score', 'metadata_storage_name', 'keyphrases', 'merged_content'])\n"
     ]
    }
   ],
   "source": [
    "print(data[0].keys())"
   ]
  },
  {
   "cell_type": "code",
   "execution_count": 8,
   "metadata": {
    "scrolled": true
   },
   "outputs": [
    {
     "name": "stdout",
     "output_type": "stream",
     "text": [
      "Arquivos api-dataset.csv criado!\n"
     ]
    }
   ],
   "source": [
    "api.api2dataset(data, config.dataset, config.columns)"
   ]
  }
 ],
 "metadata": {
  "kernelspec": {
   "display_name": "Python 3",
   "language": "python",
   "name": "python3"
  },
  "language_info": {
   "codemirror_mode": {
    "name": "ipython",
    "version": 3
   },
   "file_extension": ".py",
   "mimetype": "text/x-python",
   "name": "python",
   "nbconvert_exporter": "python",
   "pygments_lexer": "ipython3",
   "version": "3.6.5"
  }
 },
 "nbformat": 4,
 "nbformat_minor": 2
}
