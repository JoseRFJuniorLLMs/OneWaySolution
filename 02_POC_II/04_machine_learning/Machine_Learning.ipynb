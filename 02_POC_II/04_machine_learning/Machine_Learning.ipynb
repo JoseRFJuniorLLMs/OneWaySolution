{
 "cells": [
  {
   "cell_type": "code",
   "execution_count": 263,
   "metadata": {},
   "outputs": [],
   "source": [
    "import pandas as pd\n",
    "\n",
    "from sklearn.model_selection import train_test_split\n",
    "from sklearn.feature_extraction.text import CountVectorizer\n",
    "from sklearn.naive_bayes import MultinomialNB\n",
    "from sklearn.cluster import KMeans\n",
    "from sklearn import metrics"
   ]
  },
  {
   "cell_type": "code",
   "execution_count": 264,
   "metadata": {
    "scrolled": true
   },
   "outputs": [
    {
     "data": {
      "text/html": [
       "<div>\n",
       "<style scoped>\n",
       "    .dataframe tbody tr th:only-of-type {\n",
       "        vertical-align: middle;\n",
       "    }\n",
       "\n",
       "    .dataframe tbody tr th {\n",
       "        vertical-align: top;\n",
       "    }\n",
       "\n",
       "    .dataframe thead th {\n",
       "        text-align: right;\n",
       "    }\n",
       "</style>\n",
       "<table border=\"1\" class=\"dataframe\">\n",
       "  <thead>\n",
       "    <tr style=\"text-align: right;\">\n",
       "      <th></th>\n",
       "      <th>expediente</th>\n",
       "      <th>name</th>\n",
       "      <th>acao</th>\n",
       "      <th>grupo_assunto</th>\n",
       "      <th>assunto</th>\n",
       "      <th>text</th>\n",
       "    </tr>\n",
       "  </thead>\n",
       "  <tbody>\n",
       "    <tr>\n",
       "      <th>0</th>\n",
       "      <td>02.000.00030/2017</td>\n",
       "      <td>02000000302017_6761978_mandado_de_intimacao_-_...</td>\n",
       "      <td>9</td>\n",
       "      <td>25</td>\n",
       "      <td>531; 716; 972</td>\n",
       "      <td>b'PROCESSO:\\nCLASSE:\\nAUTOR:\\nREU:\\n\\nPCTT: 92...</td>\n",
       "    </tr>\n",
       "    <tr>\n",
       "      <th>1</th>\n",
       "      <td>02.000.00035/2017</td>\n",
       "      <td>02000000352017_6774071_20170119_mandado_de_cit...</td>\n",
       "      <td>50</td>\n",
       "      <td>27</td>\n",
       "      <td>50; 254; 531; 558; 613; 620; 780</td>\n",
       "      <td>b\" \\n\\n \\n\\n \\n\\nPCTT 92,100.04\\n\\nURGENTE\\n\\n...</td>\n",
       "    </tr>\n",
       "    <tr>\n",
       "      <th>2</th>\n",
       "      <td>02.000.00136/2017</td>\n",
       "      <td>02000001362017_6855379_20170127_processo_integ...</td>\n",
       "      <td>47</td>\n",
       "      <td>26</td>\n",
       "      <td>716; 975</td>\n",
       "      <td>b' \\n\\nPODER JUDICIARIO\\nTRIBUNAL REGIONAL FED...</td>\n",
       "    </tr>\n",
       "    <tr>\n",
       "      <th>3</th>\n",
       "      <td>02.000.00136/2017</td>\n",
       "      <td>02000001362017_7321216_20170210_peticao_inicia...</td>\n",
       "      <td>47</td>\n",
       "      <td>26</td>\n",
       "      <td>716; 975</td>\n",
       "      <td>b', ae \\xe2\\x80\\x9c8,\\nCAIXA ree 625\\nRun eB\\n...</td>\n",
       "    </tr>\n",
       "    <tr>\n",
       "      <th>4</th>\n",
       "      <td>02.000.00145/2017</td>\n",
       "      <td>02000001452017_6901508_20170131_mandado_intima...</td>\n",
       "      <td>43</td>\n",
       "      <td>11</td>\n",
       "      <td>246</td>\n",
       "      <td>03/02/2017Número: 1000055-73.2017.4.01.3200  ...</td>\n",
       "    </tr>\n",
       "  </tbody>\n",
       "</table>\n",
       "</div>"
      ],
      "text/plain": [
       "          expediente                                               name  acao  \\\n",
       "0  02.000.00030/2017  02000000302017_6761978_mandado_de_intimacao_-_...     9   \n",
       "1  02.000.00035/2017  02000000352017_6774071_20170119_mandado_de_cit...    50   \n",
       "2  02.000.00136/2017  02000001362017_6855379_20170127_processo_integ...    47   \n",
       "3  02.000.00136/2017  02000001362017_7321216_20170210_peticao_inicia...    47   \n",
       "4  02.000.00145/2017  02000001452017_6901508_20170131_mandado_intima...    43   \n",
       "\n",
       "   grupo_assunto                           assunto  \\\n",
       "0             25                     531; 716; 972   \n",
       "1             27  50; 254; 531; 558; 613; 620; 780   \n",
       "2             26                          716; 975   \n",
       "3             26                          716; 975   \n",
       "4             11                               246   \n",
       "\n",
       "                                                text  \n",
       "0  b'PROCESSO:\\nCLASSE:\\nAUTOR:\\nREU:\\n\\nPCTT: 92...  \n",
       "1  b\" \\n\\n \\n\\n \\n\\nPCTT 92,100.04\\n\\nURGENTE\\n\\n...  \n",
       "2  b' \\n\\nPODER JUDICIARIO\\nTRIBUNAL REGIONAL FED...  \n",
       "3  b', ae \\xe2\\x80\\x9c8,\\nCAIXA ree 625\\nRun eB\\n...  \n",
       "4   03/02/2017Número: 1000055-73.2017.4.01.3200  ...  "
      ]
     },
     "execution_count": 264,
     "metadata": {},
     "output_type": "execute_result"
    }
   ],
   "source": [
    "df = pd.read_csv('../03_data_preparation/merged-dataset.csv', sep=';', encoding='utf-8')\n",
    "df.head()"
   ]
  },
  {
   "cell_type": "code",
   "execution_count": 265,
   "metadata": {},
   "outputs": [
    {
     "data": {
      "text/plain": [
       "count                   846\n",
       "unique                  648\n",
       "top       08.000.00742/2017\n",
       "freq                     16\n",
       "Name: expediente, dtype: object"
      ]
     },
     "execution_count": 265,
     "metadata": {},
     "output_type": "execute_result"
    }
   ],
   "source": [
    "df.expediente.describe()"
   ]
  },
  {
   "cell_type": "code",
   "execution_count": 266,
   "metadata": {},
   "outputs": [
    {
     "data": {
      "text/plain": [
       "expediente\n",
       "02.000.00030/2017    b'PROCESSO:\\nCLASSE:\\nAUTOR:\\nREU:\\n\\nPCTT: 92...\n",
       "02.000.00035/2017    b\" \\n\\n \\n\\n \\n\\nPCTT 92,100.04\\n\\nURGENTE\\n\\n...\n",
       "02.000.00136/2017    b' \\n\\nPODER JUDICIARIO\\nTRIBUNAL REGIONAL FED...\n",
       "02.000.00145/2017     03/02/2017Número: 1000055-73.2017.4.01.3200  ...\n",
       "02.000.00186/2017    b' \\n\\nVara Unica\\nSSJ Tef\\xc3\\xa9\\nFi.\\n\\nRub...\n",
       "Name: text, dtype: object"
      ]
     },
     "execution_count": 266,
     "metadata": {},
     "output_type": "execute_result"
    }
   ],
   "source": [
    "df1 = df.groupby('expediente')['text'].apply(lambda x: ' '.join(x))\n",
    "df1.head()"
   ]
  },
  {
   "cell_type": "code",
   "execution_count": 267,
   "metadata": {},
   "outputs": [
    {
     "data": {
      "text/html": [
       "<div>\n",
       "<style scoped>\n",
       "    .dataframe tbody tr th:only-of-type {\n",
       "        vertical-align: middle;\n",
       "    }\n",
       "\n",
       "    .dataframe tbody tr th {\n",
       "        vertical-align: top;\n",
       "    }\n",
       "\n",
       "    .dataframe thead th {\n",
       "        text-align: right;\n",
       "    }\n",
       "</style>\n",
       "<table border=\"1\" class=\"dataframe\">\n",
       "  <thead>\n",
       "    <tr style=\"text-align: right;\">\n",
       "      <th></th>\n",
       "      <th>acao</th>\n",
       "      <th>text</th>\n",
       "    </tr>\n",
       "    <tr>\n",
       "      <th>expediente</th>\n",
       "      <th></th>\n",
       "      <th></th>\n",
       "    </tr>\n",
       "  </thead>\n",
       "  <tbody>\n",
       "    <tr>\n",
       "      <th>02.000.00030/2017</th>\n",
       "      <td>9</td>\n",
       "      <td>b'PROCESSO:\\nCLASSE:\\nAUTOR:\\nREU:\\n\\nPCTT: 92...</td>\n",
       "    </tr>\n",
       "    <tr>\n",
       "      <th>02.000.00035/2017</th>\n",
       "      <td>50</td>\n",
       "      <td>b\" \\n\\n \\n\\n \\n\\nPCTT 92,100.04\\n\\nURGENTE\\n\\n...</td>\n",
       "    </tr>\n",
       "    <tr>\n",
       "      <th>02.000.00136/2017</th>\n",
       "      <td>47</td>\n",
       "      <td>b' \\n\\nPODER JUDICIARIO\\nTRIBUNAL REGIONAL FED...</td>\n",
       "    </tr>\n",
       "    <tr>\n",
       "      <th>02.000.00145/2017</th>\n",
       "      <td>43</td>\n",
       "      <td>03/02/2017Número: 1000055-73.2017.4.01.3200  ...</td>\n",
       "    </tr>\n",
       "    <tr>\n",
       "      <th>02.000.00186/2017</th>\n",
       "      <td>50</td>\n",
       "      <td>b' \\n\\nVara Unica\\nSSJ Tef\\xc3\\xa9\\nFi.\\n\\nRub...</td>\n",
       "    </tr>\n",
       "  </tbody>\n",
       "</table>\n",
       "</div>"
      ],
      "text/plain": [
       "                   acao                                               text\n",
       "expediente                                                                \n",
       "02.000.00030/2017     9  b'PROCESSO:\\nCLASSE:\\nAUTOR:\\nREU:\\n\\nPCTT: 92...\n",
       "02.000.00035/2017    50  b\" \\n\\n \\n\\n \\n\\nPCTT 92,100.04\\n\\nURGENTE\\n\\n...\n",
       "02.000.00136/2017    47  b' \\n\\nPODER JUDICIARIO\\nTRIBUNAL REGIONAL FED...\n",
       "02.000.00145/2017    43   03/02/2017Número: 1000055-73.2017.4.01.3200  ...\n",
       "02.000.00186/2017    50  b' \\n\\nVara Unica\\nSSJ Tef\\xc3\\xa9\\nFi.\\n\\nRub..."
      ]
     },
     "execution_count": 267,
     "metadata": {},
     "output_type": "execute_result"
    }
   ],
   "source": [
    "#columns = ('expediente', 'acao', 'grupo_assunto', 'assunto')\n",
    "columns = ('expediente', 'acao')\n",
    "df = df.loc[:,columns]\n",
    "df.drop_duplicates(inplace=True)\n",
    "df.set_index('expediente', inplace=True)\n",
    "\n",
    "df = df.merge(df1.to_frame(), left_index=True, right_index=True)\n",
    "df.head()"
   ]
  },
  {
   "cell_type": "code",
   "execution_count": 268,
   "metadata": {},
   "outputs": [
    {
     "name": "stdout",
     "output_type": "stream",
     "text": [
      "<class 'pandas.core.frame.DataFrame'>\n",
      "Index: 648 entries, 02.000.00030/2017 to 16.000.01296/2017\n",
      "Data columns (total 2 columns):\n",
      "acao    648 non-null int64\n",
      "text    648 non-null object\n",
      "dtypes: int64(1), object(1)\n",
      "memory usage: 35.2+ KB\n"
     ]
    }
   ],
   "source": [
    "df.info()"
   ]
  },
  {
   "cell_type": "code",
   "execution_count": 269,
   "metadata": {},
   "outputs": [],
   "source": [
    "data = df"
   ]
  },
  {
   "cell_type": "code",
   "execution_count": 270,
   "metadata": {},
   "outputs": [
    {
     "name": "stdout",
     "output_type": "stream",
     "text": [
      "518\n",
      "130\n"
     ]
    }
   ],
   "source": [
    "x_train, x_test, y_train, y_test = train_test_split(data.text, data.acao, test_size = 0.2, random_state=42)\n",
    "print(len(x_train))\n",
    "print(len(x_test))"
   ]
  },
  {
   "cell_type": "code",
   "execution_count": 271,
   "metadata": {},
   "outputs": [
    {
     "data": {
      "text/plain": [
       "(518, 286902)"
      ]
     },
     "execution_count": 271,
     "metadata": {},
     "output_type": "execute_result"
    }
   ],
   "source": [
    "vec = CountVectorizer()\n",
    "vec_train = vec.fit_transform(x_train)\n",
    "vec_train.shape"
   ]
  },
  {
   "cell_type": "code",
   "execution_count": 272,
   "metadata": {},
   "outputs": [],
   "source": [
    "clf = MultinomialNB().fit(vec_train, y_train)"
   ]
  },
  {
   "cell_type": "code",
   "execution_count": 273,
   "metadata": {},
   "outputs": [
    {
     "data": {
      "text/plain": [
       "0.6384615384615384"
      ]
     },
     "execution_count": 273,
     "metadata": {},
     "output_type": "execute_result"
    }
   ],
   "source": [
    "vec_test = vec.transform(x_test)\n",
    "predictions = clf.predict(vec_test)\n",
    "clf.score(vec_test, y_test)"
   ]
  },
  {
   "cell_type": "code",
   "execution_count": 274,
   "metadata": {},
   "outputs": [
    {
     "name": "stdout",
     "output_type": "stream",
     "text": [
      "             precision    recall  f1-score   support\n",
      "\n",
      "          1       0.00      0.00      0.00         3\n",
      "         10       0.00      0.00      0.00         1\n",
      "         14       0.00      0.00      0.00         5\n",
      "         22       0.00      0.00      0.00         2\n",
      "         26       0.00      0.00      0.00         1\n",
      "         28       0.00      0.00      0.00         1\n",
      "         38       0.00      0.00      0.00         1\n",
      "         43       0.60      0.43      0.50         7\n",
      "         45       0.00      0.00      0.00         1\n",
      "         47       0.40      0.25      0.31        16\n",
      "         50       0.65      0.97      0.78        74\n",
      "         67       1.00      0.44      0.62         9\n",
      "        227       0.00      0.00      0.00         1\n",
      "        237       0.00      0.00      0.00         8\n",
      "\n",
      "avg / total       0.52      0.64      0.55       130\n",
      "\n",
      "[[ 0  0  0  0  0  0  0  0  0  0  3  0  0  0]\n",
      " [ 0  0  0  0  0  0  0  0  0  1  0  0  0  0]\n",
      " [ 0  0  0  0  0  0  0  0  0  0  5  0  0  0]\n",
      " [ 0  0  0  0  0  0  0  0  0  0  2  0  0  0]\n",
      " [ 0  0  0  0  0  0  0  0  0  0  1  0  0  0]\n",
      " [ 0  0  0  0  0  0  0  0  0  0  1  0  0  0]\n",
      " [ 0  0  0  0  0  0  0  0  0  0  1  0  0  0]\n",
      " [ 0  0  0  0  0  0  0  3  0  2  2  0  0  0]\n",
      " [ 0  0  0  0  0  0  0  1  0  0  0  0  0  0]\n",
      " [ 0  0  0  0  0  0  0  1  0  4 10  0  1  0]\n",
      " [ 0  0  0  0  0  0  0  0  0  2 72  0  0  0]\n",
      " [ 0  0  0  0  0  0  0  0  0  1  4  4  0  0]\n",
      " [ 0  0  0  0  0  0  0  0  0  0  1  0  0  0]\n",
      " [ 0  0  0  0  0  0  0  0  0  0  8  0  0  0]]\n"
     ]
    },
    {
     "name": "stderr",
     "output_type": "stream",
     "text": [
      "/usr/local/lib/python3.6/dist-packages/sklearn/metrics/classification.py:1135: UndefinedMetricWarning: Precision and F-score are ill-defined and being set to 0.0 in labels with no predicted samples.\n",
      "  'precision', 'predicted', average, warn_for)\n"
     ]
    }
   ],
   "source": [
    "print(metrics.classification_report(y_test, predictions))\n",
    "print(metrics.confusion_matrix(y_test, predictions))"
   ]
  }
 ],
 "metadata": {
  "kernelspec": {
   "display_name": "Python 3",
   "language": "python",
   "name": "python3"
  },
  "language_info": {
   "codemirror_mode": {
    "name": "ipython",
    "version": 3
   },
   "file_extension": ".py",
   "mimetype": "text/x-python",
   "name": "python",
   "nbconvert_exporter": "python",
   "pygments_lexer": "ipython3",
   "version": "3.6.5"
  }
 },
 "nbformat": 4,
 "nbformat_minor": 2
}
