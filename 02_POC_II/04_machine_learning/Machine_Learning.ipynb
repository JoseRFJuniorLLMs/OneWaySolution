{
 "cells": [
  {
   "cell_type": "code",
   "execution_count": 1,
   "metadata": {},
   "outputs": [],
   "source": [
    "import pandas as pd\n",
    "import numpy as np\n",
    "import pickle\n",
    "\n",
    "from sklearn.model_selection import train_test_split\n",
    "from sklearn.feature_extraction.text import CountVectorizer, TfidfVectorizer\n",
    "from sklearn.naive_bayes import MultinomialNB\n",
    "from sklearn.pipeline import Pipeline\n",
    "from sklearn.cluster import KMeans\n",
    "from sklearn import metrics\n",
    "from nltk.corpus import stopwords"
   ]
  },
  {
   "cell_type": "code",
   "execution_count": 2,
   "metadata": {
    "scrolled": true
   },
   "outputs": [
    {
     "data": {
      "text/html": [
       "<div>\n",
       "<style scoped>\n",
       "    .dataframe tbody tr th:only-of-type {\n",
       "        vertical-align: middle;\n",
       "    }\n",
       "\n",
       "    .dataframe tbody tr th {\n",
       "        vertical-align: top;\n",
       "    }\n",
       "\n",
       "    .dataframe thead th {\n",
       "        text-align: right;\n",
       "    }\n",
       "</style>\n",
       "<table border=\"1\" class=\"dataframe\">\n",
       "  <thead>\n",
       "    <tr style=\"text-align: right;\">\n",
       "      <th></th>\n",
       "      <th>expediente</th>\n",
       "      <th>name</th>\n",
       "      <th>acao</th>\n",
       "      <th>grupo_assunto</th>\n",
       "      <th>assunto</th>\n",
       "      <th>text</th>\n",
       "    </tr>\n",
       "  </thead>\n",
       "  <tbody>\n",
       "    <tr>\n",
       "      <th>0</th>\n",
       "      <td>02.000.00030/2017</td>\n",
       "      <td>02000000302017_6761978_mandado_de_intimacao_-_...</td>\n",
       "      <td>9</td>\n",
       "      <td>25</td>\n",
       "      <td>531; 716; 972</td>\n",
       "      <td>PROCESSO:\\nCLASSE:\\nAUTOR:\\nREU:\\n\\nPCTT: 92.1...</td>\n",
       "    </tr>\n",
       "    <tr>\n",
       "      <th>1</th>\n",
       "      <td>02.000.00035/2017</td>\n",
       "      <td>02000000352017_6774071_20170119_mandado_de_cit...</td>\n",
       "      <td>50</td>\n",
       "      <td>27</td>\n",
       "      <td>50; 254; 531; 558; 613; 620; 780</td>\n",
       "      <td>\\n\\n \\n\\n \\n\\nPCTT 92,100.04\\n\\nURGENTE\\n\\n \\...</td>\n",
       "    </tr>\n",
       "    <tr>\n",
       "      <th>2</th>\n",
       "      <td>02.000.00136/2017</td>\n",
       "      <td>02000001362017_6855379_20170127_processo_integ...</td>\n",
       "      <td>47</td>\n",
       "      <td>26</td>\n",
       "      <td>716; 975</td>\n",
       "      <td>\\n\\nPODER JUDICIARIO\\nTRIBUNAL REGIONAL FEDER...</td>\n",
       "    </tr>\n",
       "    <tr>\n",
       "      <th>3</th>\n",
       "      <td>02.000.00136/2017</td>\n",
       "      <td>02000001362017_7321216_20170210_peticao_inicia...</td>\n",
       "      <td>47</td>\n",
       "      <td>26</td>\n",
       "      <td>716; 975</td>\n",
       "      <td>, ae “8,\\nCAIXA ree 625\\nRun eB\\n\\nEXCELENTISS...</td>\n",
       "    </tr>\n",
       "    <tr>\n",
       "      <th>4</th>\n",
       "      <td>02.000.00145/2017</td>\n",
       "      <td>02000001452017_6901508_20170131_mandado_intima...</td>\n",
       "      <td>43</td>\n",
       "      <td>11</td>\n",
       "      <td>246</td>\n",
       "      <td>03/02/2017Número: 1000055-73.2017.4.01.3200  ...</td>\n",
       "    </tr>\n",
       "  </tbody>\n",
       "</table>\n",
       "</div>"
      ],
      "text/plain": [
       "          expediente                                               name  acao  \\\n",
       "0  02.000.00030/2017  02000000302017_6761978_mandado_de_intimacao_-_...     9   \n",
       "1  02.000.00035/2017  02000000352017_6774071_20170119_mandado_de_cit...    50   \n",
       "2  02.000.00136/2017  02000001362017_6855379_20170127_processo_integ...    47   \n",
       "3  02.000.00136/2017  02000001362017_7321216_20170210_peticao_inicia...    47   \n",
       "4  02.000.00145/2017  02000001452017_6901508_20170131_mandado_intima...    43   \n",
       "\n",
       "   grupo_assunto                           assunto  \\\n",
       "0             25                     531; 716; 972   \n",
       "1             27  50; 254; 531; 558; 613; 620; 780   \n",
       "2             26                          716; 975   \n",
       "3             26                          716; 975   \n",
       "4             11                               246   \n",
       "\n",
       "                                                text  \n",
       "0  PROCESSO:\\nCLASSE:\\nAUTOR:\\nREU:\\n\\nPCTT: 92.1...  \n",
       "1   \\n\\n \\n\\n \\n\\nPCTT 92,100.04\\n\\nURGENTE\\n\\n \\...  \n",
       "2   \\n\\nPODER JUDICIARIO\\nTRIBUNAL REGIONAL FEDER...  \n",
       "3  , ae “8,\\nCAIXA ree 625\\nRun eB\\n\\nEXCELENTISS...  \n",
       "4   03/02/2017Número: 1000055-73.2017.4.01.3200  ...  "
      ]
     },
     "execution_count": 2,
     "metadata": {},
     "output_type": "execute_result"
    }
   ],
   "source": [
    "df = pd.read_csv('../03_data_preparation/merged-dataset.csv', sep=';', encoding='utf-8')\n",
    "df.head()"
   ]
  },
  {
   "cell_type": "code",
   "execution_count": 3,
   "metadata": {},
   "outputs": [
    {
     "data": {
      "text/plain": [
       "count                   858\n",
       "unique                  659\n",
       "top       08.000.00742/2017\n",
       "freq                     16\n",
       "Name: expediente, dtype: object"
      ]
     },
     "execution_count": 3,
     "metadata": {},
     "output_type": "execute_result"
    }
   ],
   "source": [
    "df.expediente.describe()"
   ]
  },
  {
   "cell_type": "code",
   "execution_count": 4,
   "metadata": {},
   "outputs": [
    {
     "data": {
      "text/plain": [
       "expediente\n",
       "02.000.00030/2017    PROCESSO:\\nCLASSE:\\nAUTOR:\\nREU:\\n\\nPCTT: 92.1...\n",
       "02.000.00035/2017     \\n\\n \\n\\n \\n\\nPCTT 92,100.04\\n\\nURGENTE\\n\\n \\...\n",
       "02.000.00136/2017     \\n\\nPODER JUDICIARIO\\nTRIBUNAL REGIONAL FEDER...\n",
       "02.000.00145/2017     03/02/2017Número: 1000055-73.2017.4.01.3200  ...\n",
       "02.000.00186/2017     \\n\\nVara Unica\\nSSJ Tefé\\nFi.\\n\\nRubrica\\n\\n ...\n",
       "Name: text, dtype: object"
      ]
     },
     "execution_count": 4,
     "metadata": {},
     "output_type": "execute_result"
    }
   ],
   "source": [
    "df1 = df.groupby('expediente')['text'].apply(lambda x: ' '.join(x))\n",
    "df1.head()"
   ]
  },
  {
   "cell_type": "code",
   "execution_count": 5,
   "metadata": {
    "scrolled": true
   },
   "outputs": [
    {
     "data": {
      "text/html": [
       "<div>\n",
       "<style scoped>\n",
       "    .dataframe tbody tr th:only-of-type {\n",
       "        vertical-align: middle;\n",
       "    }\n",
       "\n",
       "    .dataframe tbody tr th {\n",
       "        vertical-align: top;\n",
       "    }\n",
       "\n",
       "    .dataframe thead th {\n",
       "        text-align: right;\n",
       "    }\n",
       "</style>\n",
       "<table border=\"1\" class=\"dataframe\">\n",
       "  <thead>\n",
       "    <tr style=\"text-align: right;\">\n",
       "      <th></th>\n",
       "      <th>acao</th>\n",
       "      <th>text</th>\n",
       "    </tr>\n",
       "    <tr>\n",
       "      <th>expediente</th>\n",
       "      <th></th>\n",
       "      <th></th>\n",
       "    </tr>\n",
       "  </thead>\n",
       "  <tbody>\n",
       "    <tr>\n",
       "      <th>02.000.00030/2017</th>\n",
       "      <td>9</td>\n",
       "      <td>PROCESSO:\\nCLASSE:\\nAUTOR:\\nREU:\\n\\nPCTT: 92.1...</td>\n",
       "    </tr>\n",
       "    <tr>\n",
       "      <th>02.000.00035/2017</th>\n",
       "      <td>50</td>\n",
       "      <td>\\n\\n \\n\\n \\n\\nPCTT 92,100.04\\n\\nURGENTE\\n\\n \\...</td>\n",
       "    </tr>\n",
       "    <tr>\n",
       "      <th>02.000.00136/2017</th>\n",
       "      <td>47</td>\n",
       "      <td>\\n\\nPODER JUDICIARIO\\nTRIBUNAL REGIONAL FEDER...</td>\n",
       "    </tr>\n",
       "    <tr>\n",
       "      <th>02.000.00145/2017</th>\n",
       "      <td>43</td>\n",
       "      <td>03/02/2017Número: 1000055-73.2017.4.01.3200  ...</td>\n",
       "    </tr>\n",
       "    <tr>\n",
       "      <th>02.000.00186/2017</th>\n",
       "      <td>50</td>\n",
       "      <td>\\n\\nVara Unica\\nSSJ Tefé\\nFi.\\n\\nRubrica\\n\\n ...</td>\n",
       "    </tr>\n",
       "  </tbody>\n",
       "</table>\n",
       "</div>"
      ],
      "text/plain": [
       "                   acao                                               text\n",
       "expediente                                                                \n",
       "02.000.00030/2017     9  PROCESSO:\\nCLASSE:\\nAUTOR:\\nREU:\\n\\nPCTT: 92.1...\n",
       "02.000.00035/2017    50   \\n\\n \\n\\n \\n\\nPCTT 92,100.04\\n\\nURGENTE\\n\\n \\...\n",
       "02.000.00136/2017    47   \\n\\nPODER JUDICIARIO\\nTRIBUNAL REGIONAL FEDER...\n",
       "02.000.00145/2017    43   03/02/2017Número: 1000055-73.2017.4.01.3200  ...\n",
       "02.000.00186/2017    50   \\n\\nVara Unica\\nSSJ Tefé\\nFi.\\n\\nRubrica\\n\\n ..."
      ]
     },
     "execution_count": 5,
     "metadata": {},
     "output_type": "execute_result"
    }
   ],
   "source": [
    "#columns = ('expediente', 'acao', 'grupo_assunto', 'assunto')\n",
    "columns = ('expediente', 'acao')\n",
    "df = df.loc[:,columns]\n",
    "df.drop_duplicates(inplace=True)\n",
    "df.set_index('expediente', inplace=True)\n",
    "\n",
    "df = df.merge(df1.to_frame(), left_index=True, right_index=True)\n",
    "df.head()"
   ]
  },
  {
   "cell_type": "code",
   "execution_count": 6,
   "metadata": {},
   "outputs": [
    {
     "name": "stdout",
     "output_type": "stream",
     "text": [
      "<class 'pandas.core.frame.DataFrame'>\n",
      "Index: 659 entries, 02.000.00030/2017 to 16.000.01565/2017\n",
      "Data columns (total 2 columns):\n",
      "acao    659 non-null int64\n",
      "text    659 non-null object\n",
      "dtypes: int64(1), object(1)\n",
      "memory usage: 35.4+ KB\n"
     ]
    }
   ],
   "source": [
    "with open('../04_machine_learning/dataset.pkl', \"wb\") as f:\n",
    "    clf = pickle.dump(df, f)\n",
    "\n",
    "df.info()"
   ]
  },
  {
   "cell_type": "code",
   "execution_count": 7,
   "metadata": {},
   "outputs": [],
   "source": [
    "data = df"
   ]
  },
  {
   "cell_type": "code",
   "execution_count": 8,
   "metadata": {},
   "outputs": [
    {
     "name": "stdout",
     "output_type": "stream",
     "text": [
      "527\n",
      "132\n"
     ]
    }
   ],
   "source": [
    "x_train, x_test, y_train, y_test = train_test_split(data.text, data.acao, test_size = 0.2, random_state=42)\n",
    "print(len(x_train))\n",
    "print(len(x_test))"
   ]
  },
  {
   "cell_type": "code",
   "execution_count": 9,
   "metadata": {},
   "outputs": [],
   "source": [
    "def process(x):\n",
    "    return x.lower().translate(str.maketrans('', '', '0123456789_')).encode('ascii',errors='ignore').decode()"
   ]
  },
  {
   "cell_type": "code",
   "execution_count": 10,
   "metadata": {},
   "outputs": [
    {
     "name": "stdout",
     "output_type": "stream",
     "text": [
      "[no, ser, ser, sero]\n"
     ]
    },
    {
     "data": {
      "text/plain": [
       "['nao', 'ser', 'sera', 'serao', 'no', 'ser', 'sero']"
      ]
     },
     "execution_count": 10,
     "metadata": {},
     "output_type": "execute_result"
    }
   ],
   "source": [
    "print(process('[não, ser, será, serão]'))\n",
    "stopw = ['nao', 'ser', 'sera', 'serao']\n",
    "stopw += ['no', 'ser', 'sero']\n",
    "stopw"
   ]
  },
  {
   "cell_type": "code",
   "execution_count": 11,
   "metadata": {},
   "outputs": [
    {
     "name": "stderr",
     "output_type": "stream",
     "text": [
      "/home/matheus/.local/lib/python3.6/site-packages/sklearn/feature_extraction/text.py:286: UserWarning: Your stop_words may be inconsistent with your preprocessing. Tokenizing the stop words generated tokens ['at', 'est', 'estivramos', 'estivssemos', 'esto', 'estvamos', 'framos', 'fssemos', 'ho', 'houveramos', 'houvero', 'houvramos', 'houvssemos', 'ns', 'ramos', 'seramos', 'so', 'tambm', 'ter', 'teramos', 'tero', 'tivramos', 'tivssemos', 'tm', 'tnhamos', 'voc', 'vocs'] not in stop_words.\n",
      "  sorted(inconsistent))\n"
     ]
    },
    {
     "data": {
      "text/plain": [
       "(527, 27786)"
      ]
     },
     "execution_count": 11,
     "metadata": {},
     "output_type": "execute_result"
    }
   ],
   "source": [
    "vec = CountVectorizer(preprocessor = process,\n",
    "                      stop_words   = stopwords.words('portuguese')+stopw,\n",
    "                      max_df       = .6,\n",
    "                      min_df       = 5,\n",
    "                      ngram_range  = (2,2))\n",
    "vec_train = vec.fit_transform(x_train)\n",
    "vec_train.shape"
   ]
  },
  {
   "cell_type": "code",
   "execution_count": 12,
   "metadata": {},
   "outputs": [
    {
     "data": {
      "text/plain": [
       "['this is', 'is text', 'text document', 'document to', 'to analyze']"
      ]
     },
     "execution_count": 12,
     "metadata": {},
     "output_type": "execute_result"
    }
   ],
   "source": [
    "analyze = vec.build_analyzer()\n",
    "analyze(\"This is a Text doCument. toº analyze ? ; / \\ .\\n 123 \\t\")"
   ]
  },
  {
   "cell_type": "code",
   "execution_count": 13,
   "metadata": {},
   "outputs": [],
   "source": [
    "clf = MultinomialNB().fit(vec_train, y_train)"
   ]
  },
  {
   "cell_type": "code",
   "execution_count": 14,
   "metadata": {},
   "outputs": [
    {
     "name": "stdout",
     "output_type": "stream",
     "text": [
      "0.7424242424242424\n"
     ]
    }
   ],
   "source": [
    "model = Pipeline([('vec', vec), ('clf', clf)])\n",
    "predictions = model.predict(x_test)\n",
    "print(model.score(x_test, y_test))\n",
    "with open('model.pkl', 'wb') as f:\n",
    "    pickle.dump(model, f)"
   ]
  },
  {
   "cell_type": "code",
   "execution_count": 15,
   "metadata": {},
   "outputs": [
    {
     "name": "stdout",
     "output_type": "stream",
     "text": [
      "              precision    recall  f1-score   support\n",
      "\n",
      "           1       1.00      1.00      1.00         2\n",
      "          10       1.00      0.25      0.40         4\n",
      "          14       0.00      0.00      0.00         5\n",
      "          22       0.00      0.00      0.00         1\n",
      "          28       0.00      0.00      0.00         2\n",
      "          43       0.80      0.67      0.73         6\n",
      "          47       0.44      0.50      0.47        16\n",
      "          50       0.80      0.95      0.87        75\n",
      "          60       0.00      0.00      0.00         1\n",
      "          67       0.78      0.64      0.70        11\n",
      "         227       0.67      1.00      0.80         2\n",
      "         237       0.60      0.43      0.50         7\n",
      "\n",
      "   micro avg       0.74      0.74      0.74       132\n",
      "   macro avg       0.51      0.45      0.46       132\n",
      "weighted avg       0.70      0.74      0.71       132\n",
      "\n",
      "[[ 2  0  0  0  0  0  0  0  0  0  0  0]\n",
      " [ 0  1  0  0  0  0  1  1  0  1  0  0]\n",
      " [ 0  0  0  0  0  0  1  4  0  0  0  0]\n",
      " [ 0  0  0  0  0  0  0  1  0  0  0  0]\n",
      " [ 0  0  0  0  0  0  1  1  0  0  0  0]\n",
      " [ 0  0  0  0  0  4  2  0  0  0  0  0]\n",
      " [ 0  0  0  0  0  1  8  4  0  1  1  1]\n",
      " [ 0  0  0  0  0  0  3 71  0  0  0  1]\n",
      " [ 0  0  0  0  0  0  0  1  0  0  0  0]\n",
      " [ 0  0  0  0  0  0  2  2  0  7  0  0]\n",
      " [ 0  0  0  0  0  0  0  0  0  0  2  0]\n",
      " [ 0  0  0  0  0  0  0  4  0  0  0  3]]\n"
     ]
    },
    {
     "name": "stderr",
     "output_type": "stream",
     "text": [
      "/home/matheus/.local/lib/python3.6/site-packages/sklearn/metrics/classification.py:1143: UndefinedMetricWarning: Precision and F-score are ill-defined and being set to 0.0 in labels with no predicted samples.\n",
      "  'precision', 'predicted', average, warn_for)\n"
     ]
    }
   ],
   "source": [
    "print(metrics.classification_report(y_test, predictions))\n",
    "print(metrics.confusion_matrix(y_test, predictions))"
   ]
  },
  {
   "cell_type": "code",
   "execution_count": 16,
   "metadata": {
    "scrolled": false
   },
   "outputs": [
    {
     "name": "stdout",
     "output_type": "stream",
     "text": [
      "\n",
      "1\n",
      "['trt jus', 'consultadocumento listview', 'batista silva', 'saldo disponivel', 'poder judiciario', 'jus br', 'itabuna ba', 'alvara judicial', 'oab ba', 'goiania go']\n",
      "\n",
      "2\n",
      "['parte autora', 'tendo vista', 'art cdc', 'defesa consumidor', 'rua qd', 'cinco dias', 'prazo cinco', 'qd lt', 'caixa postal', 'advogados associados']\n",
      "\n",
      "7\n",
      "['recolheu custas', 'banco central', 'crdito rural', 'custas iniciais', 'poder judiciario', 'rural pignoraticia', 'encargos financeiros', 'desta cdula', 'parte autora', 'formosa go']\n",
      "\n",
      "8\n",
      "['juiz direito', 'teixeira freitas', 'gov br', 'tjgo jus', 'seguro social', 'nacional seguro', 'instituto nacional', 'parte autora', 'poder judiciario', 'jus br']\n",
      "\n",
      "9\n",
      "['termos art', 'duas horas', 'monetario nacional', 'conselho monetario', 'meio ambiente', 'art inciso', 'federal procuradoria', 'ministrio publico', 'publico federal', 'crdito rural']\n",
      "\n",
      "10\n",
      "['brasilia df', 'df fi', 'circular susep', 'df fl', 'caixa seguradora', 'sistema financeiro', 'seguro habitacional', 'prevento caixa', 'nuciu df', 'secla nuciu']\n",
      "\n",
      "13\n",
      "['trs centavos', 'dezoito mil', 'trezentos oitenta', 'vinte trs', 'belo horizonte', 'cdula crdito', 'oitenta reais', 'goiania go', 'aparecida goiania', 'mil trezentos']\n",
      "\n",
      "14\n",
      "['jus br', 'inscrito oab', 'nuciu df', 'oab mg', 'secla nuciu', 'pagamento extrato', 'mg sob', 'brasilia df', 'recolhimento fgts', 'comprovante pagamento']\n",
      "\n",
      "22\n",
      "['rua padre', 'duzentos trinta', 'efeito suspensivo', 'mil seiscentos', 'go sob', 'ribeiro silva', 'go cpf', 'boa vista', 'pereira silva', 'oab go']\n",
      "\n",
      "24\n",
      "['ba cep', 'trinta quatro', 'trs mil', 'reais trinta', 'noventa trs', 'tancredo neves', 'caminho arvores', 'dois reais', 'cento noventa', 'quatro centavos']\n",
      "\n",
      "26\n",
      "['onerosa direito', 'lei complementar', 'decreto lei', 'insc dat', 'outorga onerosa', 'dat outorga', 'multa descumpnmento', 'art lei', 'descumpnmento clausula', 'clausula contratual']\n",
      "\n",
      "28\n",
      "['mil sessenta', 'ssp mg', 'mg cep', 'credito consignado', 'brasileira casada', 'valor liquido', 'mil reais', 'valor dois', 'oab mg', 'dois mil']\n",
      "\n",
      "38\n",
      "['emprstimos mediante', 'especial representativo', 'delitos praticados', 'instituies bancrias', 'danos causados', 'fraudes delitos', 'causados fraudes', 'art cpc', 'risco empreendimento', 'recurso especial']\n",
      "\n",
      "43\n",
      "['certificao digital', 'consultadocumento listview', 'listview seam', 'assinado eletronicamente', 'processo consultadocumento', 'pje processo', 'pjeg trf', 'trf jus', 'br pje', 'jus br']\n",
      "\n",
      "45\n",
      "['digital pertence', 'nd nmero', 'pje processo', 'consultadocumento listview', 'pg assinado', 'trf jus', 'certificao digital', 'seam nd', 'br pje', 'listview seam']\n",
      "\n",
      "47\n",
      "['agente financeiro', 'sh sfh', 'contrato seguro', 'fax mail', 'secla nuciu', 'processo civil', 'fone fax', 'adv br', 'sistema financeiro', 'seguro habitacional']\n",
      "\n",
      "50\n",
      "['oab ba', 'cdigo defesa', 'mil reais', 'poder judiciario', 'nus prova', 'parte autora', 'defesa consumidor', 'teixeira freitas', 'danos morais', 'dano moral']\n",
      "\n",
      "52\n",
      "['paulo henrique', 'regularmente inscrito', 'inscrito ordem', 'ordem advogados', 'advogado regularmente', 'advogados brasil', 'casado advogado', 'anpolis go', 'brasileiro casado', 'prestar contas']\n",
      "\n",
      "58\n",
      "['municipio sao', 'sao jose', 'comprador es', 'portador rg', 'qd lotes', 'sao jos', 'compra venda', 'sao luis', 'luis ma', 'quadra lotes']\n",
      "\n",
      "67\n",
      "['justica federal', 'poder judiciario', 'taxa referencial', 'caxias juizado', 'civel criminal', 'judiciaria caxias', 'federal grau', 'especial federal', 'devedor es', 'caxias ma']\n",
      "\n",
      "217\n",
      "['portadora rg', 'vara federal', 'rg ssp', 'mf sob', 'ba sob', 'ssp ba', 'oab ba', 'cep tel', 'cpf mf', 'salvador ba']\n",
      "\n",
      "227\n",
      "['paulo sp', 'uruau go', 'sao paulo', 'go cep', 'saldo devedor', 'parte autora', 'ext aut', 'pago ext', 'formosa go', 'rs rs']\n",
      "\n",
      "236\n",
      "['federal primeira', 'jef adjunto', 'subsecao judiciaria', 'caxias ma', 'andre oliveira', 'poder judiciario', 'oliveira santos', 'adjunto civel', 'civel criminal', 'gustavo andre']\n",
      "\n",
      "237\n",
      "['goiania go', 'anapolis go', 'devedor es', 'defesa consumidor', 'qd lt', 'pessoa fsica', 'oab go', 'go cep', 'danos morais', 'dano moral']\n"
     ]
    }
   ],
   "source": [
    "for i, label in enumerate(clf.classes_):\n",
    "    print('\\n' + str(label))\n",
    "    print([vec.get_feature_names()[j] for j in np.argsort(clf.coef_[i])[-10:]])"
   ]
  },
  {
   "cell_type": "code",
   "execution_count": 17,
   "metadata": {},
   "outputs": [
    {
     "data": {
      "text/html": [
       "<div>\n",
       "<style scoped>\n",
       "    .dataframe tbody tr th:only-of-type {\n",
       "        vertical-align: middle;\n",
       "    }\n",
       "\n",
       "    .dataframe tbody tr th {\n",
       "        vertical-align: top;\n",
       "    }\n",
       "\n",
       "    .dataframe thead th {\n",
       "        text-align: right;\n",
       "    }\n",
       "</style>\n",
       "<table border=\"1\" class=\"dataframe\">\n",
       "  <thead>\n",
       "    <tr style=\"text-align: right;\">\n",
       "      <th></th>\n",
       "      <th>acao</th>\n",
       "      <th>text</th>\n",
       "    </tr>\n",
       "    <tr>\n",
       "      <th>expediente</th>\n",
       "      <th></th>\n",
       "      <th></th>\n",
       "    </tr>\n",
       "  </thead>\n",
       "  <tbody>\n",
       "    <tr>\n",
       "      <th>02.000.00030/2017</th>\n",
       "      <td>9</td>\n",
       "      <td>PROCESSO:\\nCLASSE:\\nAUTOR:\\nREU:\\n\\nPCTT: 92.1...</td>\n",
       "    </tr>\n",
       "    <tr>\n",
       "      <th>02.000.00035/2017</th>\n",
       "      <td>50</td>\n",
       "      <td>\\n\\n \\n\\n \\n\\nPCTT 92,100.04\\n\\nURGENTE\\n\\n \\...</td>\n",
       "    </tr>\n",
       "    <tr>\n",
       "      <th>02.000.00136/2017</th>\n",
       "      <td>47</td>\n",
       "      <td>\\n\\nPODER JUDICIARIO\\nTRIBUNAL REGIONAL FEDER...</td>\n",
       "    </tr>\n",
       "    <tr>\n",
       "      <th>02.000.00145/2017</th>\n",
       "      <td>43</td>\n",
       "      <td>03/02/2017Número: 1000055-73.2017.4.01.3200  ...</td>\n",
       "    </tr>\n",
       "    <tr>\n",
       "      <th>02.000.00186/2017</th>\n",
       "      <td>50</td>\n",
       "      <td>\\n\\nVara Unica\\nSSJ Tefé\\nFi.\\n\\nRubrica\\n\\n ...</td>\n",
       "    </tr>\n",
       "  </tbody>\n",
       "</table>\n",
       "</div>"
      ],
      "text/plain": [
       "                   acao                                               text\n",
       "expediente                                                                \n",
       "02.000.00030/2017     9  PROCESSO:\\nCLASSE:\\nAUTOR:\\nREU:\\n\\nPCTT: 92.1...\n",
       "02.000.00035/2017    50   \\n\\n \\n\\n \\n\\nPCTT 92,100.04\\n\\nURGENTE\\n\\n \\...\n",
       "02.000.00136/2017    47   \\n\\nPODER JUDICIARIO\\nTRIBUNAL REGIONAL FEDER...\n",
       "02.000.00145/2017    43   03/02/2017Número: 1000055-73.2017.4.01.3200  ...\n",
       "02.000.00186/2017    50   \\n\\nVara Unica\\nSSJ Tefé\\nFi.\\n\\nRubrica\\n\\n ..."
      ]
     },
     "execution_count": 17,
     "metadata": {},
     "output_type": "execute_result"
    }
   ],
   "source": [
    "df.head()"
   ]
  },
  {
   "cell_type": "code",
   "execution_count": 18,
   "metadata": {},
   "outputs": [],
   "source": [
    "df.to_json('./expediente.json', orient='index')"
   ]
  },
  {
   "cell_type": "code",
   "execution_count": 23,
   "metadata": {},
   "outputs": [
    {
     "name": "stderr",
     "output_type": "stream",
     "text": [
      "/home/matheus/.local/lib/python3.6/site-packages/sklearn/metrics/classification.py:1143: UndefinedMetricWarning: Precision and F-score are ill-defined and being set to 0.0 in labels with no predicted samples.\n",
      "  'precision', 'predicted', average, warn_for)\n"
     ]
    }
   ],
   "source": [
    "from json import dump\n",
    "with open('acao.json', 'w') as outfile:\n",
    "    dump(metrics.classification_report(y_test, predictions, output_dict=True), outfile)"
   ]
  },
  {
   "cell_type": "code",
   "execution_count": null,
   "metadata": {},
   "outputs": [],
   "source": []
  }
 ],
 "metadata": {
  "kernelspec": {
   "display_name": "Python 3",
   "language": "python",
   "name": "python3"
  },
  "language_info": {
   "codemirror_mode": {
    "name": "ipython",
    "version": 3
   },
   "file_extension": ".py",
   "mimetype": "text/x-python",
   "name": "python",
   "nbconvert_exporter": "python",
   "pygments_lexer": "ipython3",
   "version": "3.6.6"
  }
 },
 "nbformat": 4,
 "nbformat_minor": 2
}
