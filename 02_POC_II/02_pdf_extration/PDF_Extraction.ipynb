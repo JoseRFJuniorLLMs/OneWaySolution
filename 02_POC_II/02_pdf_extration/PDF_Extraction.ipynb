{
 "cells": [
  {
   "cell_type": "code",
   "execution_count": 1,
   "metadata": {},
   "outputs": [],
   "source": [
    "import os\n",
    "import PyPDF2\n",
    "import textract\n",
    "import pandas as pd\n",
    "import warnings"
   ]
  },
  {
   "cell_type": "code",
   "execution_count": 2,
   "metadata": {},
   "outputs": [],
   "source": [
    "def readPdf(name):\n",
    "    text = \"\"\n",
    "    \n",
    "    try:\n",
    "        pdf  = PyPDF2.PdfFileReader(open(name, 'rb'))\n",
    "        for i in range(pdf.numPages):\n",
    "            text += pdf.getPage(i).extractText()\n",
    "    except:\n",
    "        print('problem with ' + name)\n",
    "\n",
    "    if text:\n",
    "        return text\n",
    "    else:\n",
    "        return textract.process(name, method='tesseract').decode()"
   ]
  },
  {
   "cell_type": "code",
   "execution_count": 3,
   "metadata": {},
   "outputs": [],
   "source": [
    "warnings.filterwarnings(\"ignore\")\n",
    "folder = '../01_source/Arquivos/'"
   ]
  },
  {
   "cell_type": "code",
   "execution_count": 4,
   "metadata": {},
   "outputs": [
    {
     "data": {
      "text/plain": [
       "2126"
      ]
     },
     "execution_count": 4,
     "metadata": {},
     "output_type": "execute_result"
    }
   ],
   "source": [
    "ls0 = os.listdir(folder)\n",
    "len(ls0)"
   ]
  },
  {
   "cell_type": "code",
   "execution_count": 5,
   "metadata": {},
   "outputs": [
    {
     "data": {
      "text/plain": [
       "2070"
      ]
     },
     "execution_count": 5,
     "metadata": {},
     "output_type": "execute_result"
    }
   ],
   "source": [
    "ls1 = [i for i in ls0 if i.endswith('.pdf')]\n",
    "ls1.sort(key=str.lower)\n",
    "len(ls1)"
   ]
  },
  {
   "cell_type": "code",
   "execution_count": 6,
   "metadata": {},
   "outputs": [
    {
     "data": {
      "text/plain": [
       "{'.PDF', '.doc', '.msg', '.zip', 'docx'}"
      ]
     },
     "execution_count": 6,
     "metadata": {},
     "output_type": "execute_result"
    }
   ],
   "source": [
    "{i[-4:]for i in list(set(ls0) - set(ls1))}"
   ]
  },
  {
   "cell_type": "code",
   "execution_count": 7,
   "metadata": {},
   "outputs": [
    {
     "data": {
      "text/plain": [
       "2089"
      ]
     },
     "execution_count": 7,
     "metadata": {},
     "output_type": "execute_result"
    }
   ],
   "source": [
    "ls1 = [i for i in ls0 if i.lower().endswith('.pdf')]\n",
    "ls1.sort(key=str.lower)\n",
    "len(ls1)"
   ]
  },
  {
   "cell_type": "code",
   "execution_count": 8,
   "metadata": {},
   "outputs": [
    {
     "name": "stdout",
     "output_type": "stream",
     "text": [
      "problem with ../01_source/Arquivos/04000013202017_6996861_NP00552195620164013400GR1_DT14092016_CD5083.pdf\n",
      "CPU times: user 24min 43s, sys: 1min 24s, total: 26min 7s\n",
      "Wall time: 13h 17min 9s\n"
     ]
    }
   ],
   "source": [
    "%%time\n",
    "d = {'name' : [],\n",
    "     'text' : [],\n",
    "    }\n",
    "\n",
    "for pdf in ls1:\n",
    "    d['name'].append(pdf)\n",
    "    d['text'].append(readPdf(folder+pdf))"
   ]
  },
  {
   "cell_type": "code",
   "execution_count": 9,
   "metadata": {},
   "outputs": [
    {
     "data": {
      "text/html": [
       "<div>\n",
       "<style scoped>\n",
       "    .dataframe tbody tr th:only-of-type {\n",
       "        vertical-align: middle;\n",
       "    }\n",
       "\n",
       "    .dataframe tbody tr th {\n",
       "        vertical-align: top;\n",
       "    }\n",
       "\n",
       "    .dataframe thead th {\n",
       "        text-align: right;\n",
       "    }\n",
       "</style>\n",
       "<table border=\"1\" class=\"dataframe\">\n",
       "  <thead>\n",
       "    <tr style=\"text-align: right;\">\n",
       "      <th></th>\n",
       "      <th>name</th>\n",
       "      <th>text</th>\n",
       "    </tr>\n",
       "  </thead>\n",
       "  <tbody>\n",
       "    <tr>\n",
       "      <th>0</th>\n",
       "      <td>02000000122017_7284093_PETICAO_INICIAL_0002305...</td>\n",
       "      <td>Enilson Campos de Sousa OAB/AM n°. 1.589 \\nSOU...</td>\n",
       "    </tr>\n",
       "    <tr>\n",
       "      <th>1</th>\n",
       "      <td>02000000182017_6739022_RT_00009552320165110201...</td>\n",
       "      <td>\\n\\n\\n\\n\\n\\n\\n\\n\\nEXCELENTÍSSIMO (A) SENHOR (A...</td>\n",
       "    </tr>\n",
       "    <tr>\n",
       "      <th>2</th>\n",
       "      <td>02000000212017_6758941_PETICAO_INICIAL_RENATA.pdf</td>\n",
       "      <td>\\n \\n \\n \\n \\nPágina \\n1\\n \\nde \\n16\\n \\n \\nE...</td>\n",
       "    </tr>\n",
       "    <tr>\n",
       "      <th>3</th>\n",
       "      <td>02000000222017_6758570_PETICAO_INICIAL__ROGERI...</td>\n",
       "      <td>\\n \\n \\n \\n \\nEXMO(A). SR(A). DR(A). JUIZ(A) ...</td>\n",
       "    </tr>\n",
       "    <tr>\n",
       "      <th>4</th>\n",
       "      <td>02000000302017_6761978_Mandado_de_Intimacao_-_...</td>\n",
       "      <td>PROCESSO:\\nCLASSE:\\nAUTOR:\\nREU:\\n\\nPCTT: 92.1...</td>\n",
       "    </tr>\n",
       "  </tbody>\n",
       "</table>\n",
       "</div>"
      ],
      "text/plain": [
       "                                                name  \\\n",
       "0  02000000122017_7284093_PETICAO_INICIAL_0002305...   \n",
       "1  02000000182017_6739022_RT_00009552320165110201...   \n",
       "2  02000000212017_6758941_PETICAO_INICIAL_RENATA.pdf   \n",
       "3  02000000222017_6758570_PETICAO_INICIAL__ROGERI...   \n",
       "4  02000000302017_6761978_Mandado_de_Intimacao_-_...   \n",
       "\n",
       "                                                text  \n",
       "0  Enilson Campos de Sousa OAB/AM n°. 1.589 \\nSOU...  \n",
       "1  \\n\\n\\n\\n\\n\\n\\n\\n\\nEXCELENTÍSSIMO (A) SENHOR (A...  \n",
       "2   \\n \\n \\n \\n \\nPágina \\n1\\n \\nde \\n16\\n \\n \\nE...  \n",
       "3   \\n \\n \\n \\n \\nEXMO(A). SR(A). DR(A). JUIZ(A) ...  \n",
       "4  PROCESSO:\\nCLASSE:\\nAUTOR:\\nREU:\\n\\nPCTT: 92.1...  "
      ]
     },
     "execution_count": 9,
     "metadata": {},
     "output_type": "execute_result"
    }
   ],
   "source": [
    "df = pd.DataFrame(d)\n",
    "df.head()"
   ]
  },
  {
   "cell_type": "code",
   "execution_count": 12,
   "metadata": {},
   "outputs": [
    {
     "name": "stdout",
     "output_type": "stream",
     "text": [
      "<class 'pandas.core.frame.DataFrame'>\n",
      "RangeIndex: 2089 entries, 0 to 2088\n",
      "Data columns (total 2 columns):\n",
      "name    2089 non-null object\n",
      "text    2089 non-null object\n",
      "dtypes: object(2)\n",
      "memory usage: 32.7+ KB\n"
     ]
    }
   ],
   "source": [
    "df.info()"
   ]
  },
  {
   "cell_type": "code",
   "execution_count": 13,
   "metadata": {},
   "outputs": [
    {
     "data": {
      "text/plain": [
       "0"
      ]
     },
     "execution_count": 13,
     "metadata": {},
     "output_type": "execute_result"
    }
   ],
   "source": [
    "len(df[df.text == ''])"
   ]
  },
  {
   "cell_type": "code",
   "execution_count": 14,
   "metadata": {},
   "outputs": [],
   "source": [
    "df.to_csv('pdf-dataset.csv', sep=';', index=False)"
   ]
  }
 ],
 "metadata": {
  "kernelspec": {
   "display_name": "Python 3",
   "language": "python",
   "name": "python3"
  },
  "language_info": {
   "codemirror_mode": {
    "name": "ipython",
    "version": 3
   },
   "file_extension": ".py",
   "mimetype": "text/x-python",
   "name": "python",
   "nbconvert_exporter": "python",
   "pygments_lexer": "ipython3",
   "version": "3.6.5"
  }
 },
 "nbformat": 4,
 "nbformat_minor": 2
}
