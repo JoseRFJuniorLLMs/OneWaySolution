{
 "cells": [
  {
   "cell_type": "markdown",
   "metadata": {},
   "source": [
    "## Libraries"
   ]
  },
  {
   "cell_type": "code",
   "execution_count": null,
   "metadata": {},
   "outputs": [],
   "source": [
    "import api\n",
    "import pandas as pd"
   ]
  },
  {
   "cell_type": "markdown",
   "metadata": {},
   "source": [
    "Firstly, two libraries were needed, api which was built for this section and are avaliable on [02_azure_search/api.py](./api.py \"api.py\"), and pandas to create, manipulate and save the dataset."
   ]
  },
  {
   "cell_type": "markdown",
   "metadata": {},
   "source": [
    "## Crawler"
   ]
  },
  {
   "cell_type": "code",
   "execution_count": 2,
   "metadata": {
    "scrolled": true
   },
   "outputs": [
    {
     "name": "stdout",
     "output_type": "stream",
     "text": [
      "https://demoowshq.search.windows.net/indexes/teste/docs/search?api-version=2017-11-11\n"
     ]
    }
   ],
   "source": [
    "spider = api.Crawler('demoowshq', 'teste', '2017-11-11')"
   ]
  },
  {
   "cell_type": "markdown",
   "metadata": {},
   "source": [
    "A crawler object from the api package was created with version, service and index names based on the search service in Azure portal and [this article](https://docs.microsoft.com/en-us/rest/api/searchservice/ \"Service REST\"). A requisition url was returned."
   ]
  },
  {
   "cell_type": "code",
   "execution_count": 3,
   "metadata": {},
   "outputs": [
    {
     "name": "stdout",
     "output_type": "stream",
     "text": [
      "Foram retornados 600 documentos!\n",
      "Em 50.351 segundos!\n"
     ]
    }
   ],
   "source": [
    "key = api.Config('config.json').key\n",
    "query   = {\n",
    "    \"select\":\"metadata_storage_name,keyphrases\",\n",
    "    \"top\": \"1000\",\n",
    "    \"count\": \"true\"\n",
    "  }\n",
    "\n",
    "data = spider.searchDocuments(key, query = query)"
   ]
  },
  {
   "cell_type": "markdown",
   "metadata": {},
   "source": [
    "The api-key was got on [Azure portal](https://portal.azure.com/) and saved in a [configuration json file](./config.json \"config.json\") to be loaded by a configuration class from api package named 'Config', for a better security of sensitive information. The query was defined in the code and both of the variables were used with the 'searchDocument' crawler function to send a query request to the requisition url. As a result, 600 documents were returned."
   ]
  },
  {
   "cell_type": "markdown",
   "metadata": {},
   "source": [
    "## Dataframe"
   ]
  },
  {
   "cell_type": "code",
   "execution_count": 4,
   "metadata": {},
   "outputs": [
    {
     "data": {
      "text/html": [
       "<div>\n",
       "<style scoped>\n",
       "    .dataframe tbody tr th:only-of-type {\n",
       "        vertical-align: middle;\n",
       "    }\n",
       "\n",
       "    .dataframe tbody tr th {\n",
       "        vertical-align: top;\n",
       "    }\n",
       "\n",
       "    .dataframe thead th {\n",
       "        text-align: right;\n",
       "    }\n",
       "</style>\n",
       "<table border=\"1\" class=\"dataframe\">\n",
       "  <thead>\n",
       "    <tr style=\"text-align: right;\">\n",
       "      <th></th>\n",
       "      <th>@search.score</th>\n",
       "      <th>keyphrases</th>\n",
       "      <th>metadata_storage_name</th>\n",
       "    </tr>\n",
       "  </thead>\n",
       "  <tbody>\n",
       "    <tr>\n",
       "      <th>0</th>\n",
       "      <td>1.0</td>\n",
       "      <td>[e o Palace, e pior, circunstancias e, e sobre...</td>\n",
       "      <td>02000008202017_7611299_20170413_FEDERAL_SEGURO...</td>\n",
       "    </tr>\n",
       "    <tr>\n",
       "      <th>1</th>\n",
       "      <td>1.0</td>\n",
       "      <td>[opal op op, ap orminr ap of ap, nuvo op e, su...</td>\n",
       "      <td>02000008202017_7611303_20170413_FEDERAL_SEGURO...</td>\n",
       "    </tr>\n",
       "    <tr>\n",
       "      <th>2</th>\n",
       "      <td>1.0</td>\n",
       "      <td>[para que, que alterou o, horas que os, consid...</td>\n",
       "      <td>02000000722017_6983943_PETICAO_INICIAL_ANA_LUC...</td>\n",
       "    </tr>\n",
       "    <tr>\n",
       "      <th>3</th>\n",
       "      <td>1.0</td>\n",
       "      <td>[DA CLT, e o funcionamento, DA SÚMULA, FEDERAL...</td>\n",
       "      <td>02000001342017_6874716_PI.pdf</td>\n",
       "    </tr>\n",
       "    <tr>\n",
       "      <th>4</th>\n",
       "      <td>1.0</td>\n",
       "      <td>[lotacao e, eleicoes e, bancos e, Mercado e, C...</td>\n",
       "      <td>02001001382017_6873843_Documento(15).pdf</td>\n",
       "    </tr>\n",
       "  </tbody>\n",
       "</table>\n",
       "</div>"
      ],
      "text/plain": [
       "   @search.score                                         keyphrases  \\\n",
       "0            1.0  [e o Palace, e pior, circunstancias e, e sobre...   \n",
       "1            1.0  [opal op op, ap orminr ap of ap, nuvo op e, su...   \n",
       "2            1.0  [para que, que alterou o, horas que os, consid...   \n",
       "3            1.0  [DA CLT, e o funcionamento, DA SÚMULA, FEDERAL...   \n",
       "4            1.0  [lotacao e, eleicoes e, bancos e, Mercado e, C...   \n",
       "\n",
       "                               metadata_storage_name  \n",
       "0  02000008202017_7611299_20170413_FEDERAL_SEGURO...  \n",
       "1  02000008202017_7611303_20170413_FEDERAL_SEGURO...  \n",
       "2  02000000722017_6983943_PETICAO_INICIAL_ANA_LUC...  \n",
       "3                      02000001342017_6874716_PI.pdf  \n",
       "4           02001001382017_6873843_Documento(15).pdf  "
      ]
     },
     "execution_count": 4,
     "metadata": {},
     "output_type": "execute_result"
    }
   ],
   "source": [
    "pd.DataFrame(data).head()"
   ]
  },
  {
   "cell_type": "markdown",
   "metadata": {},
   "source": [
    "A pandas DataFrame was created with the query result and shown its first five lines."
   ]
  },
  {
   "cell_type": "code",
   "execution_count": 5,
   "metadata": {},
   "outputs": [
    {
     "name": "stdout",
     "output_type": "stream",
     "text": [
      "Campo keyphrases concatenado!\n"
     ]
    },
    {
     "data": {
      "text/html": [
       "<div>\n",
       "<style scoped>\n",
       "    .dataframe tbody tr th:only-of-type {\n",
       "        vertical-align: middle;\n",
       "    }\n",
       "\n",
       "    .dataframe tbody tr th {\n",
       "        vertical-align: top;\n",
       "    }\n",
       "\n",
       "    .dataframe thead th {\n",
       "        text-align: right;\n",
       "    }\n",
       "</style>\n",
       "<table border=\"1\" class=\"dataframe\">\n",
       "  <thead>\n",
       "    <tr style=\"text-align: right;\">\n",
       "      <th></th>\n",
       "      <th>@search.score</th>\n",
       "      <th>keyphrases</th>\n",
       "      <th>metadata_storage_name</th>\n",
       "    </tr>\n",
       "  </thead>\n",
       "  <tbody>\n",
       "    <tr>\n",
       "      <th>0</th>\n",
       "      <td>1.0</td>\n",
       "      <td>e o Palace e pior circunstancias e e sobre Mut...</td>\n",
       "      <td>02000008202017_7611299_20170413_FEDERAL_SEGURO...</td>\n",
       "    </tr>\n",
       "    <tr>\n",
       "      <th>1</th>\n",
       "      <td>1.0</td>\n",
       "      <td>opal op op ap orminr ap of ap nuvo op e sueuly...</td>\n",
       "      <td>02000008202017_7611303_20170413_FEDERAL_SEGURO...</td>\n",
       "    </tr>\n",
       "    <tr>\n",
       "      <th>2</th>\n",
       "      <td>1.0</td>\n",
       "      <td>para que que alterou o horas que os consideran...</td>\n",
       "      <td>02000000722017_6983943_PETICAO_INICIAL_ANA_LUC...</td>\n",
       "    </tr>\n",
       "    <tr>\n",
       "      <th>3</th>\n",
       "      <td>1.0</td>\n",
       "      <td>DA CLT e o funcionamento DA SÚMULA FEDERAL DA ...</td>\n",
       "      <td>02000001342017_6874716_PI.pdf</td>\n",
       "    </tr>\n",
       "    <tr>\n",
       "      <th>4</th>\n",
       "      <td>1.0</td>\n",
       "      <td>lotacao e eleicoes e bancos e Mercado e CAIXA ...</td>\n",
       "      <td>02001001382017_6873843_Documento(15).pdf</td>\n",
       "    </tr>\n",
       "  </tbody>\n",
       "</table>\n",
       "</div>"
      ],
      "text/plain": [
       "   @search.score                                         keyphrases  \\\n",
       "0            1.0  e o Palace e pior circunstancias e e sobre Mut...   \n",
       "1            1.0  opal op op ap orminr ap of ap nuvo op e sueuly...   \n",
       "2            1.0  para que que alterou o horas que os consideran...   \n",
       "3            1.0  DA CLT e o funcionamento DA SÚMULA FEDERAL DA ...   \n",
       "4            1.0  lotacao e eleicoes e bancos e Mercado e CAIXA ...   \n",
       "\n",
       "                               metadata_storage_name  \n",
       "0  02000008202017_7611299_20170413_FEDERAL_SEGURO...  \n",
       "1  02000008202017_7611303_20170413_FEDERAL_SEGURO...  \n",
       "2  02000000722017_6983943_PETICAO_INICIAL_ANA_LUC...  \n",
       "3                      02000001342017_6874716_PI.pdf  \n",
       "4           02001001382017_6873843_Documento(15).pdf  "
      ]
     },
     "execution_count": 5,
     "metadata": {},
     "output_type": "execute_result"
    }
   ],
   "source": [
    "data = api.concatFields(data, ['keyphrases'])\n",
    "pd.DataFrame(data).head()"
   ]
  },
  {
   "cell_type": "markdown",
   "metadata": {},
   "source": [
    "Keyphrases field values were concatenated in strings by the api function 'concatFields' as shown above."
   ]
  },
  {
   "cell_type": "markdown",
   "metadata": {},
   "source": [
    "## Dataset"
   ]
  },
  {
   "cell_type": "code",
   "execution_count": 7,
   "metadata": {},
   "outputs": [
    {
     "name": "stdout",
     "output_type": "stream",
     "text": [
      "Arquivos api-dataset.csv criado!\n"
     ]
    }
   ],
   "source": [
    "api.api2dataset(data, 'api-dataset.csv', [\"\", \"Palavras-chave\", \"Nome do Arquivo\"])"
   ]
  },
  {
   "cell_type": "markdown",
   "metadata": {},
   "source": [
    "The final dataset was saved in a [csv file](./api-dataset.csv \"api-dataset.csv\") with different column names using the 'api2dataset' also from the api package."
   ]
  }
 ],
 "metadata": {
  "kernelspec": {
   "display_name": "Python 3",
   "language": "python",
   "name": "python3"
  },
  "language_info": {
   "codemirror_mode": {
    "name": "ipython",
    "version": 3
   },
   "file_extension": ".py",
   "mimetype": "text/x-python",
   "name": "python",
   "nbconvert_exporter": "python",
   "pygments_lexer": "ipython3",
   "version": "3.7.0"
  }
 },
 "nbformat": 4,
 "nbformat_minor": 2
}
