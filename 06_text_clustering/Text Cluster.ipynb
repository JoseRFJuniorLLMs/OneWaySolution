{
 "cells": [
  {
   "cell_type": "code",
   "execution_count": 289,
   "metadata": {},
   "outputs": [],
   "source": [
    "import numpy as np\n",
    "import pandas as pd\n",
    "import string\n",
    "\n",
    "from sklearn.model_selection import StratifiedShuffleSplit\n",
    "from sklearn.feature_extraction.text import TfidfVectorizer\n",
    "from sklearn.decomposition import TruncatedSVD\n",
    "from sklearn.preprocessing import MinMaxScaler, Normalizer\n",
    "from sklearn.cluster import KMeans\n",
    "from sklearn import metrics\n",
    "\n",
    "from nltk.corpus import stopwords\n",
    "from scipy import stats\n",
    "\n",
    "%matplotlib inline\n",
    "import matplotlib.pyplot as plt\n",
    "plt.style.use('seaborn-whitegrid')"
   ]
  },
  {
   "cell_type": "code",
   "execution_count": 290,
   "metadata": {},
   "outputs": [
    {
     "data": {
      "text/html": [
       "<div>\n",
       "<style scoped>\n",
       "    .dataframe tbody tr th:only-of-type {\n",
       "        vertical-align: middle;\n",
       "    }\n",
       "\n",
       "    .dataframe tbody tr th {\n",
       "        vertical-align: top;\n",
       "    }\n",
       "\n",
       "    .dataframe thead th {\n",
       "        text-align: right;\n",
       "    }\n",
       "</style>\n",
       "<table border=\"1\" class=\"dataframe\">\n",
       "  <thead>\n",
       "    <tr style=\"text-align: right;\">\n",
       "      <th></th>\n",
       "      <th>name</th>\n",
       "      <th>cod</th>\n",
       "      <th>words</th>\n",
       "    </tr>\n",
       "  </thead>\n",
       "  <tbody>\n",
       "    <tr>\n",
       "      <th>0</th>\n",
       "      <td>03000000012017_6622932_inicial_lorena.pdf</td>\n",
       "      <td>5070</td>\n",
       "      <td>DA NECESSIDADE E TITULAR  DA DA PRETERIÇÃO EM ...</td>\n",
       "    </tr>\n",
       "    <tr>\n",
       "      <th>1</th>\n",
       "      <td>03000001632017_6667276_inicial_valquiria.pdf</td>\n",
       "      <td>5070</td>\n",
       "      <td>acionada que O direito que assiste Indenização...</td>\n",
       "    </tr>\n",
       "    <tr>\n",
       "      <th>2</th>\n",
       "      <td>02001000312017_6699679_20160112_MANDADO_DE_CIT...</td>\n",
       "      <td>5070</td>\n",
       "      <td>e que pendem Regiao - e Trabalhasta e quitados...</td>\n",
       "    </tr>\n",
       "    <tr>\n",
       "      <th>3</th>\n",
       "      <td>02000000182017_6739022_RT_00009552320165110201...</td>\n",
       "      <td>5070</td>\n",
       "      <td>próprio e o DA MULTA o que o fez DA COMPETÊNCI...</td>\n",
       "    </tr>\n",
       "    <tr>\n",
       "      <th>4</th>\n",
       "      <td>02000000222017_6758570_PETICAO_INICIAL__ROGERI...</td>\n",
       "      <td>5070</td>\n",
       "      <td>que quebra caixa não caixa que eram caixa para...</td>\n",
       "    </tr>\n",
       "  </tbody>\n",
       "</table>\n",
       "</div>"
      ],
      "text/plain": [
       "                                                name   cod  \\\n",
       "0          03000000012017_6622932_inicial_lorena.pdf  5070   \n",
       "1       03000001632017_6667276_inicial_valquiria.pdf  5070   \n",
       "2  02001000312017_6699679_20160112_MANDADO_DE_CIT...  5070   \n",
       "3  02000000182017_6739022_RT_00009552320165110201...  5070   \n",
       "4  02000000222017_6758570_PETICAO_INICIAL__ROGERI...  5070   \n",
       "\n",
       "                                               words  \n",
       "0  DA NECESSIDADE E TITULAR  DA DA PRETERIÇÃO EM ...  \n",
       "1  acionada que O direito que assiste Indenização...  \n",
       "2  e que pendem Regiao - e Trabalhasta e quitados...  \n",
       "3  próprio e o DA MULTA o que o fez DA COMPETÊNCI...  \n",
       "4  que quebra caixa não caixa que eram caixa para...  "
      ]
     },
     "execution_count": 290,
     "metadata": {},
     "output_type": "execute_result"
    }
   ],
   "source": [
    "data = pd.read_csv('../05_machine_learning/clean_data.csv', ';')\n",
    "data.head()"
   ]
  },
  {
   "cell_type": "code",
   "execution_count": 291,
   "metadata": {},
   "outputs": [
    {
     "data": {
      "text/plain": [
       "'03000000012017 6622932 inicial lorena pdf 03000001632017 6667276 inicial valquiria pdf 02001000312017 6699679 20160112 mandado de citacao pdf 02000000182017 6739022 rt 00009552320165110201 dayana de souza carvalho pdf 02000000222017 6758570 peticao inicial  rogerio pessoa de melo pdf 02000000212017 6758941 peticao inicial renata pdf 02000000302017 6761978 mandado de intimacao   proc 16374 70 2016 4 01 3200 pdf 02001000322017 6773442 peticao inicial np00051123320164014200gr1 zip 02001000562017 6773444 1 peticao np00064772520164014200gr1 zip 02001000562017 6773445 2 peticao np00064772520164014200gr1 zip 02001000572017 6773446 peticao np00059784120164014200gr1 zip 02001000582017 6773447 peticao np00064755520164014200gr1 zip 02001000592017 6773448 peticao np00063248920164014200gr1 zip 02001000602017 6773449 peticao np00063802520164014200gr1 zip 02001000612017 6773450 peticao np00058753420164014200gr1 zip 02001000652017 6773454 peticao np00058675720164014200gr1 zip 02001000662017 6773455 peticao np00055730520164014200gr1 zip 02001000682017 6773458 peticao np00064833220164014200gr1 zip 02001000702017 6773463 peticao np00057341520164014200gr1 zip 02000000352017 6774071 20170119 mandado de citacao   181890520164013200 pdf 02000000312017 6778931 peticao inicial marcos roberto da cunha pdf 02001001312017 6781828 20170123 citacao 1000236 18 2016 4 01 4200 1 pdf 02001001332017 6797280 20170113 processo integral 1000241 40 2016 4 01 4200 pdf 02000000452017 6798683 rt 00023236120165110009 adriana said negreiros mascarenhas pontes pdf 02000000532017 6809593 20170125   processo integral   osvando reis queiroz 0002532 03 2016 5 11 0018 pdf 02001001322017 6817040 20170126 carga retirada 00059662720164014200 pdf 02000001362017 6855379 20170127 processo integral 02 61 pdf 02001001362017 6856185 20170130 mandado intimacao 1000051 43 2017 4 01 4200 pt 01 pdf 02001001362017 6856186 20170130 mandado intimacao 1000051 43 2017 4 01 4200 pt 02 pdf 02001001362017 6856187 20170130 mandado intimacao 1000051 43 2017 4 01 4200 pt 03 pdf 02000001422017 6862608 rt 00026794420165110013 jose cristiano patu souza pdf 02001001372017 6871981 documento 1  pdf 02001001372017 6871983 documento 2  pdf 02001001372017 6871985 documento 3  pdf 02001001372017 6871986 documento 4  pdf 02001001372017 6871988 documento 5  pdf 02001001372017 6871991 documento 6  pdf 02001001372017 6871992 documento 7  pdf 02001001372017 6871995 documento 8  pdf 02001001372017 6871996 documento 9  pdf 02001001372017 6871997 documento 10  pdf 02001001372017 6871998 documento 11  pdf 02001001372017 6871999 documento 12  pdf 02001001372017 6872000 documento 13  pdf 02001001372017 6872001 documento 14  pdf 02001001372017 6872002 documento 15  pdf 02001001372017 6872003 documento 16  pdf 02001001372017 6872005 documento 17  pdf 02001001372017 6872006 documento 18  pdf 02001001372017 6872007 documento 19  pdf 02001001372017 6872008 documento 20  pdf 02001001372017 6872009 documento 21  pdf 02001001372017 6872010 documento 22  pdf 02001001372017 6872011 documento 23  pdf 02001001372017 6872012 documento 24  pdf 02001001372017 6872013 documento 25  pdf 02001001372017 6872014 notificacao dorivan florencio pdf 02001001372017 6872015 peticao inicial pdf 02001001382017 6873825 documento 1  pdf 02001001382017 6873827 documento 2  pdf 02001001382017 6873828 documento 3  pdf 02001001382017 6873829 documento 4  pdf 02001001382017 6873830 documento 5  pdf 02001001382017 6873832 documento 6  pdf 02001001382017 6873833 documento 7  pdf 02001001382017 6873835 documento 8  pdf 02001001382017 6873836 documento 9  pdf 02001001382017 6873837 documento 10  pdf 02001001382017 6873838 documento 11  pdf 02001001382017 6873839 documento 12  pdf 02001001382017 6873841 documento 13  pdf 02001001382017 6873842 documento 14  pdf 02001001382017 6873843 documento 15  pdf 02001001382017 6873844 documento 16  pdf 02001001382017 6873845 documento 17  pdf 02001001382017 6873846 documento 18  pdf 02001001382017 6873847 documento 19  pdf 02001001382017 6873848 documento 20  pdf 02001001382017 6873849 documento 21  pdf 02001001382017 6873850 documento 22  pdf 02001001382017 6873851 documento 23  pdf 02001001382017 6873852 documento 24  pdf 02001001382017 6873853 documento 25  pdf 02001001382017 6873854 notificacao everton jonas ritta fucks pdf 02001001382017 6873855 peticao inicial pdf 02001001392017 6874630 documento 1  pdf 02001001392017 6874631 documento 2  pdf 02001001392017 6874632 documento 3  pdf 02001001392017 6874633 documento 4  pdf 02001001392017 6874635 documento 5  pdf 02001001392017 6874636 documento 6  pdf 02001001392017 6874637 documento 7  pdf 02001001392017 6874638 documento 8  pdf 02001001392017 6874639 documento 9  pdf 02001001392017 6874641 documento 10  pdf 02001001392017 6874642 documento 11  pdf 02001001392017 6874643 documento 12  pdf 02001001392017 6874644 documento 13  pdf 02001001392017 6874645 documento 14  pdf 02001001392017 6874646 documento 15  pdf 02001001392017 6874647 documento 16  pdf 02001001392017 6874648 documento 17  pdf 02001001392017 6874649 documento 18  pdf 02001001392017 6874650 documento 19  pdf 02001001392017 6874651 documento 20  pdf 02001001392017 6874652 documento 21  pdf 02001001392017 6874653 documento 22  pdf 02001001392017 6874654 notificacao fabiano serrao nogueira pdf 02001001392017 6874655 peticao inicial pdf 02000001342017 6874716 pi pdf 02001001232017 6892522 peticao inicial zip 02000001442017 6898705 peticaoinicial pdf 02001001402017 6899582 documento 1  pdf 02001001402017 6899583 documento 2  pdf 02001001402017 6899584 documento 3  pdf 02001001402017 6899585 documento 4  pdf 02001001402017 6899586 documento 5  pdf 02001001402017 6899587 documento 6  pdf 02001001402017 6899588 documento 7  pdf 02001001402017 6899589 documento 8  pdf 02001001402017 6899590 documento 9  pdf 02001001402017 6899591 documento 10  pdf 02001001402017 6899592 documento 11  pdf 02001001402017 6899593 documento 12  pdf 02001001402017 6899594 documento 13  pdf 02001001402017 6899595 documento 14  pdf 02001001402017 6899596 documento 15  pdf 02001001402017 6899597 documento 16  pdf 02001001402017 6899598 documento 17  pdf 02001001402017 6899599 documento 18  pdf 02001001402017 6899601 documento 19  pdf 02001001402017 6899602 documento 20  pdf 02001001402017 6899603 documento 21  pdf 02001001402017 6899604 documento 22  pdf 02001001402017 6899605 documento 23  pdf 02001001402017 6899606 documento 24  pdf 02001001402017 6899607 documento 25  pdf 02001001402017 6899608 documento 26  pdf 02001001402017 6899609 documento 27  pdf 02001001402017 6899610 documento 28  pdf 02001001402017 6899611 documento 29  pdf 02001001402017 6899613 documento 30  pdf 02001001402017 6899614 documento 31  pdf 02001001402017 6899615 documento 32  pdf 02001001402017 6899616 not 1653 91 pdf 02001001402017 6899617 peticao inicial pdf 02000001452017 6901508 20170131 mandado intimacao 1000055 73 2017 4 01 3200 pdf 02000001442017 6907411 20170127 zip 02001001412017 6911163 documento 1  pdf 02001001412017 6911164 documento 2  pdf 02001001412017 6911165 documento 3  pdf 02001001412017 6911166 documento 4  pdf 02001001412017 6911167 documento 5  pdf 02001001412017 6911168 documento 6  pdf 02001001412017 6911169 documento 7  pdf 02001001412017 6911170 documento 8  pdf 02001001412017 6911171 documento 9  pdf 02001001412017 6911172 documento 10  pdf 02001001412017 6911173 documento 11  pdf 02001001412017 6911174 documento 12  pdf 02001001412017 6911175 documento 13  pdf 02001001412017 6911176 documento 14  pdf 02001001412017 6911177 documento 15  pdf 02001001412017 6911178 documento 16  pdf 02001001412017 6911179 documento 17  pdf 02001001412017 6911180 documento 18  pdf 02001001412017 6911181 documento 19  pdf 02001001412017 6911182 documento 20  pdf 02001001412017 6911183 documento 21  pdf 02001001412017 6911184 documento 22  pdf 02001001412017 6911185 documento 23  pdf 02001001412017 6911186 documento 24  pdf 02001001412017 6911187 documento 25  pdf 02001001412017 6911188 documento 26  pdf 02001001412017 6911189 documento 27  pdf 02001001412017 6911190 documento 28  pdf 02001001412017 6911191 documento 29  pdf 02001001412017 6911192 documento 30  pdf 02001001412017 6911193 documento 31  pdf 02001001412017 6911194 documento 32  pdf 02001001412017 6911195 documento 33  pdf 02001001412017 6911196 documento 34  pdf 02001001412017 6911197 documento 35  pdf 02001001412017 6911198 documento 36  pdf 02001001412017 6911199 documento 37  pdf 02001001412017 6911200 documento 38  pdf 02001001412017 6911201 documento 39  pdf 02001001412017 6911202 documento 40  pdf 02001001412017 6911203 documento 41  pdf 02001001412017 6911204 documento 42  pdf 02001001412017 6911205 documento 43  pdf 02001001412017 6911206 documento 44  pdf 02001001412017 6911207 documento 45  pdf 02001001412017 6911208 documento 46  pdf 02001001412017 6911209 documento 47  pdf 02001001412017 6911210 documento 48  pdf 02001001412017 6911211 documento 49  pdf 02001001412017 6911212 documento 50  pdf 02001001412017 6911213 documento 51  pdf 02001001412017 6911214 documento 52  pdf 02001001412017 6911215 documento 53  pdf 02001001412017 6911216 documento 54  pdf 02001001412017 6911217 documento 55  pdf 02001001412017 6911218 documento 56  pdf 02001001412017 6911219 documento 57  pdf 02001001412017 6911220 documento 58  pdf 02001001412017 6911221 documento 59  pdf 02001001412017 6911222 documento 60  pdf 02001001412017 6911223 documento 61  pdf 02001001412017 6911224 documento 62  pdf 02001001412017 6911225 documento pdf 02001001422017 6911424 documento 1  pdf 02001001422017 6911425 documento 2  pdf 02001001422017 6911426 documento 3  pdf 02001001422017 6911427 documento 4  pdf 02001001422017 6911428 documento 5  pdf 02001001422017 6911429 documento 6  pdf 02001001422017 6911430 documento 7  pdf 02001001422017 6911431 documento 8  pdf 02001001422017 6911432 documento 9  pdf 02001001422017 6911433 documento 10  pdf 02001001422017 6911434 documento 11  pdf 02001001422017 6911435 documento 12  pdf 02001001422017 6911437 documento 13  pdf 02001001422017 6911438 documento 14  pdf 02001001422017 6911441 documento 15  pdf 02001001422017 6911443 documento 16  pdf 02001001422017 6911445 documento 17  pdf 02001001422017 6911446 documento 18  pdf 02001001422017 6911448 documento 19  pdf 02001001422017 6911449 documento 20  pdf 02001001422017 6911450 documento 21  pdf 02001001422017 6911451 documento 22  pdf 02001001422017 6911452 documento 23  pdf 02001001422017 6911454 documento 24  pdf 02001001422017 6911455 documento 25  pdf 02001001422017 6911456 documento 26  pdf 02001001422017 6911457 documento 27  pdf 02001001422017 6911458 documento 28  pdf 02001001422017 6911459 documento 29  pdf 02001001422017 6911460 documento 30  pdf 02001001422017 6911461 documento 31  pdf 02001001422017 6911462 documento 32  pdf 02001001422017 6911464 documento 33  pdf 02001001422017 6911465 documento 34  pdf 02001001422017 6911466 documento 35  pdf 02001001422017 6911468 documento 36  pdf 02001001422017 6911469 documento 37  pdf 02001001422017 6911471 documento 38  pdf 02001001422017 6911472 documento 39  pdf 02001001422017 6911474 documento 40  pdf 02001001422017 6911475 documento 41  pdf 02001001422017 6911476 documento 42  pdf 02001001422017 6911478 documento 43  pdf 02001001422017 6911480 documento 44  pdf 02001001422017 6911481 documento 45  pdf 02001001422017 6911483 documento 46  pdf 02001001422017 6911484 documento 47  pdf 02001001422017 6911486 documento 48  pdf 02001001422017 6911487 documento 49  pdf 02001001422017 6911488 documento 50  pdf 02001001422017 6911489 documento 51  pdf 02001001422017 6911490 documento 52  pdf 02001001422017 6911491 documento 53  pdf 02001001422017 6911492 documento 54  pdf 02001001422017 6911493 documento 55  pdf 02001001422017 6911494 documento 56  pdf 02001001422017 6911495 documento 57  pdf 02001001422017 6911496 documento 58  pdf 02001001422017 6911497 documento 59  pdf 02001001422017 6911498 documento 60  pdf 02001001422017 6911499 documento 61  pdf 02001001422017 6911500 documento pdf 02001001432017 6911742 documento 1  pdf 02001001432017 6911743 documento 2  pdf 02001001432017 6911744 documento 3  pdf 02001001432017 6911745 documento 4  pdf 02001001432017 6911746 documento 5  pdf 02001001432017 6911747 documento 6  pdf 02001001432017 6911748 documento 7  pdf 02001001432017 6911749 documento 8  pdf 02001001432017 6911750 documento 9  pdf 02001001432017 6911751 documento 10  pdf 02001001432017 6911752 documento 11  pdf 02001001432017 6911753 documento 12  pdf 02001001432017 6911754 documento 13  pdf 02001001432017 6911755 documento 14  pdf 02001001432017 6911756 documento 15  pdf 02001001432017 6911757 documento 16  pdf 02001001432017 6911759 documento 17  pdf 02001001432017 6911760 documento 18  pdf 02001001432017 6911761 documento 19  pdf 02001001432017 6911762 documento 20  pdf 02001001432017 6911763 documento 21  pdf 02001001432017 6911764 documento 22  pdf 02001001432017 6911765 documento 23  pdf 02001001432017 6911766 documento 24  pdf 02001001432017 6911767 documento 25  pdf 02001001432017 6911768 documento 26  pdf 02001001432017 6911769 documento 27  pdf 02001001432017 6911771 documento 28  pdf 02001001432017 6911773 documento 29  pdf 02001001432017 6911774 documento 30  pdf 02001001432017 6911776 documento 31  pdf 02001001432017 6911777 documento 32  pdf 02001001432017 6911778 documento 33  pdf 02001001432017 6911779 documento 34  pdf 02001001432017 6911780 documento 35  pdf 02001001432017 6911781 documento 36  pdf 02001001432017 6911782 documento 37  pdf 02001001432017 6911783 documento 38  pdf 02001001432017 6911784 documento 39  pdf 02001001432017 6911785 documento 40  pdf 02001001432017 6911786 documento 41  pdf 02001001432017 6911787 documento 42  pdf 02001001432017 6911789 documento 43  pdf 02001001432017 6911790 documento 44  pdf 02001001432017 6911791 documento 45  pdf 02001001432017 6911792 documento 46  pdf 02001001432017 6911793 documento 47  pdf 02001001432017 6911794 documento 48  pdf 02001001432017 6911795 documento 49  pdf 02001001432017 6911796 documento 50  pdf 02001001432017 6911798 documento 51  pdf 02001001432017 6911799 documento 52  pdf 02001001432017 6911800 documento 53  pdf 02001001432017 6911801 documento 54  pdf 02001001432017 6911802 documento 55  pdf 02001001432017 6911803 documento 56  pdf 02001001432017 6911804 documento 57  pdf 02001001432017 6911805 documento 58  pdf 02001001432017 6911806 documento 59  pdf 02001001432017 6911807 documento pdf 02001001442017 6912047 documento 1  pdf 02001001442017 6912048 documento 2  pdf 02001001442017 6912049 documento 3  pdf 02001001442017 6912050 documento 4  pdf 02001001442017 6912051 documento 5  pdf 02001001442017 6912052 documento 6  pdf 02001001442017 6912053 documento 7  pdf 02001001442017 6912054 documento 8  pdf 02001001442017 6912055 documento 9  pdf 02001001442017 6912056 documento 10  pdf 02001001442017 6912057 documento 11  pdf 02001001442017 6912058 documento 12  pdf 02001001442017 6912059 documento 13  pdf 02001001442017 6912060 documento 14  pdf 02001001442017 6912061 documento 15  pdf 02001001442017 6912062 documento 16  pdf 02001001442017 6912063 documento 17  pdf 02001001442017 6912064 documento 18  pdf 02001001442017 6912065 documento 19  pdf 02001001442017 6912066 documento 20  pdf 02001001442017 6912067 documento 21  pdf 02001001442017 6912068 documento 22  pdf 02001001442017 6912069 documento 23  pdf 02001001442017 6912070 documento 24  pdf 02001001442017 6912071 documento 25  pdf 02001001442017 6912072 documento 26  pdf 02001001442017 6912073 documento 27  pdf 02001001442017 6912074 documento 28  pdf 02001001442017 6912075 documento 29  pdf 02001001442017 6912076 documento 30  pdf 02001001442017 6912077 documento 31  pdf 02001001442017 6912078 documento 32  pdf 02001001442017 6912079 documento 33  pdf 02001001442017 6912080 documento 34  pdf 02001001442017 6912081 documento 35  pdf 02001001442017 6912082 documento 36  pdf 02001001442017 6912083 documento 37  pdf 02001001442017 6912084 documento 38  pdf 02001001442017 6912085 documento 39  pdf 02001001442017 6912086 documento 40  pdf 02001001442017 6912088 documento 41  pdf 02001001442017 6912089 documento 42  pdf 02001001442017 6912090 documento 43  pdf 02001001442017 6912091 documento 44  pdf 02001001442017 6912092 documento 45  pdf 02001001442017 6912093 documento 46  pdf 02001001442017 6912094 documento 47  pdf 02001001442017 6912095 documento 48  pdf 02001001442017 6912096 documento 49  pdf 02001001442017 6912097 documento 50  pdf 02001001442017 6912098 documento 51  pdf 02001001442017 6912099 documento 52  pdf 02001001442017 6912100 documento 53  pdf 02001001442017 6912101 documento 54  pdf 02001001442017 6912102 documento 55  pdf 02001001442017 6912103 documento 56  pdf 02001001442017 6912104 documento 57  pdf 02001001442017 6912105 documento 58  pdf 02001001442017 6912106 documento 59  pdf 02001001442017 6912107 documento 60  pdf 02001001442017 6912108 documento 61  pdf 02001001442017 6912109 documento 62  pdf 02001001442017 6912110 documento pdf 02001001452017 6912250 documento 1  pdf 02001001452017 6912251 documento 2  pdf 02001001452017 6912252 documento 3  pdf 02001001452017 6912253 documento 4  pdf 02001001452017 6912254 documento 5  pdf 02001001452017 6912255 documento 6  pdf 02001001452017 6912256 documento 7  pdf 02001001452017 6912257 documento 8  pdf 02001001452017 6912258 documento 9  pdf 02001001452017 6912259 documento 10  pdf 02001001452017 6912260 documento 11  pdf 02001001452017 6912261 documento 12  pdf 02001001452017 6912262 documento 13  pdf 02001001452017 6912263 documento 14  pdf 02001001452017 6912264 documento 15  pdf 02001001452017 6912265 documento 16  pdf 02001001452017 6912266 documento 17  pdf 02001001452017 6912267 documento 18  pdf 02001001452017 6912268 documento 19  pdf 02001001452017 6912269 documento 20  pdf 02001001452017 6912270 documento 21  pdf 02001001452017 6912271 documento 22  pdf 02001001452017 6912272 documento 23  pdf 02001001452017 6912273 documento 24  pdf 02001001452017 6912274 documento 25  pdf 02001001452017 6912275 documento 26  pdf 02001001452017 6912276 documento 27  pdf 02001001452017 6912277 documento 28  pdf 02001001452017 6912278 documento 29  pdf 02001001452017 6912279 documento 30  pdf 02001001452017 6912280 documento 31  pdf 02001001452017 6912281 documento 32  pdf 02001001452017 6912282 documento 33  pdf 02001001452017 6912283 documento 34  pdf 02001001452017 6912284 documento 35  pdf 02001001452017 6912285 documento 36  pdf 02001001452017 6912286 documento 37  pdf 02001001452017 6912287 documento 38  pdf 02001001452017 6912288 documento 39  pdf 02001001452017 6912289 documento 40  pdf 02001001452017 6912290 documento 41  pdf 02001001452017 6912291 documento 42  pdf 02001001452017 6912292 documento 43  pdf 02001001452017 6912293 documento 44  pdf 02001001452017 6912294 documento 45  pdf 02001001452017 6912295 documento 46  pdf 02001001452017 6912296 documento 47  pdf 02001001452017 6912297 documento 48  pdf 02001001452017 6912298 documento 49  pdf 02001001452017 6912300 documento 50  pdf 02001001452017 6912302 documento 51  pdf 02001001452017 6912303 documento 52  pdf 02001001452017 6912304 documento 53  pdf 02001001452017 6912305 documento 54  pdf 02001001452017 6912306 documento 55  pdf 02001001452017 6912307 documento 56  pdf 02001001452017 6912308 documento 57  pdf 02001001452017 6912309 documento 58  pdf 02001001452017 6912310 documento 59  pdf 02001001452017 6912311 documento 60  pdf 02001001452017 6912312 documento 61  pdf 02001001452017 6912313 documento 62  pdf 02001001452017 6912314 documento 63  pdf 02001001452017 6912315 documento 64  pdf 02001001452017 6912316 documento 65  pdf 02001001452017 6912317 documento 66  pdf 02001001452017 6912318 documento 67  pdf 02001001452017 6912319 documento 68  pdf 02001001452017 6912320 documento pdf 02001001462017 6913573 20170202 mandado de citacao pdf 02000001862017 6948972 mandado   38 48 2017 4 01 3202 pdf 02001001482017 6949218 20170208 mandado de citacao pdf 02001001492017 6951636 documento 1  pdf 02001001492017 6951637 documento 2  pdf 02001001492017 6951638 documento 3  pdf 02001001492017 6951639 documento 4  pdf 02001001492017 6951640 documento 5  pdf 02001001492017 6951641 documento 6  pdf 02001001492017 6951642 documento 7  pdf 02001001492017 6951643 documento 8  pdf 02001001492017 6951644 documento 9  pdf 02001001492017 6951645 documento 10  pdf 02001001492017 6951646 documento 11  pdf 02001001492017 6951647 documento 12  pdf 02001001492017 6951648 documento 13  pdf 02001001492017 6951649 documento 14  pdf 02001001492017 6951650 documento 15  pdf 02001001492017 6951651 documento 16  pdf 02001001492017 6951652 documento 17  pdf 02001001492017 6951653 documento 18  pdf 02001001492017 6951654 documento 19  pdf 02001001492017 6951655 documento 20  pdf 02001001492017 6951656 documento 21  pdf 02001001492017 6951657 documento 22  pdf 02001001492017 6951658 documento 23  pdf 02001001492017 6951659 documento 24  pdf 02001001492017 6951660 documento 25  pdf 02001001492017 6951661 documento 26  pdf 02001001492017 6951662 documento 27  pdf 02001001492017 6951663 documento 28  pdf 02001001492017 6951664 documento 29  pdf 02001001492017 6951665 documento 30  pdf 02001001492017 6951666 documento 31  pdf 02001001492017 6951667 documento pdf 02001001532017 6963182 1000062 72 2017 4 01 4200 pdf 02000000552017 6983167 peticao inicial kesia pdf 02000000722017 6983943 peticao inicial ana lucia souza pdf 02001002112017 7020870 documento 1  pdf 02001002112017 7020871 documento 2  pdf 02001002112017 7020872 documento 3  pdf 02001002112017 7020873 documento 4  pdf 02001002112017 7020874 documento 5  pdf 02001002112017 7020875 documento 6  pdf 02001002112017 7020876 documento 7  pdf 02001002112017 7020882 documento 13  pdf 02001002112017 7020884 documento 15  pdf 02001002112017 7020885 documento 16  pdf 02001002112017 7020886 documento 17  pdf 02001002112017 7020887 documento 18  pdf 02001002112017 7020890 documento 21  pdf 02001002112017 7020891 documento 22  pdf 02001002112017 7020892 documento 23  pdf 02001002112017 7020893 documento 24  pdf 02001002112017 7020894 documento 25  pdf 02001002112017 7020895 documento 26  pdf 02001002112017 7020896 documento 27  pdf 02001002112017 7020898 documento 28  pdf 02001002112017 7020899 documento 29  pdf 02001002112017 7020900 documento 30  pdf 02001002112017 7020901 documento 31  pdf 02001002112017 7020902 documento 32  pdf 02001002112017 7020903 documento pdf 02001002052017 7064028 20170213  peticao inicial pdf 02001002152017 7079511 20161226 peticao incial 0002165 71 2016 5 11 0052 pdf 02001002162017 7086876 20161226 peticao inicial 0002166 56 2016 5 11 0052 pdf 02001002032017 7101142 anexo2024475 pdf 02001002032017 7101143 anexo2024476 pdf 02001002032017 7101144 anexo2024477 pdf 02001002032017 7101145 anexo2024478 pdf 02001002032017 7101146 anexo2024479 pdf 02001002032017 7101147 anexo2024480 1  pdf 02000001452017 7124270 1000055 73 2017 4 01 3200 pdf 02001002162017 7124865 peticao inicial 0002166 56 2016 5 11 0052 pdf 02000003842017 7126152 20170223 peticao inicial 00027122820165110015 pdf 02001002052017 7134575 documentacao inicial pdf 02000003182017 7140384 0002333 64 2017 4 01 3200 2 pdf 02000003182017 7140385 0002333 64 2017 4 01 3200 3 pdf 02000003182017 7140386 0002333 64 2017 4 01 3200 4 pdf 02000003182017 7140387 0002333 64 2017 4 01 3200 pdf 02000003182017 7140388 0002333 64 2017 4 01 3200 1 pdf 02000003682017 7143759 peticao inicial 00001750820175110053 pdf 02000003912017 7146104 peticao inicial 00002868920175110053 pdf 02000004022017 7150896 peticao inicial 0000304 30 2017 5 11 0015 pdf 02000002902017 7166429 peticao inicial np00025544720174 013200gr1 zip 02000004132017 7167533 peticao inicial 00000725420175110003 pdf 02000000312017 7201808 1 inicial zip 02000004462017 7201976 mandado 0001516 56 2016 5 11 0101 pdf 02000004472017 7202859 ci 88 2017 1 pdf 02000004472017 7202860 ci 88 2017 2 pdf 02000004472017 7202861 ci 88 2017 3 pdf 02000004472017 7202862 ci 88 2017 4 pdf 02000005252017 7216878 peticao inicial 0000286 30 2017 5 11 0008 adalton da silva pinheiro pdf 02000005252017 7216879 procuracao adalton da silva pinheiro pdf 02000005292017 7229946 peticao inicial 00003155320175110017 clebson barbosa do amaral pdf 02000005292017 7229947 procuracao clebson barbosa do amaral pdf 02000005252017 7232918 adalton da silva pinheiro zip 02000005442017 7234256 peticao inicial pdf 02000000122017 7284093 peticao inicial 00023054620165110007 pdf 02000005772017 7293984 peticao inicial walber farias da silva   00003245120175110005 pdf 02000005792017 7294356 peticao inicial jurandir barbosa da mota   0000332 83 2017 5 11 0019 pdf 02000005802017 7295032 20170316 peticao inicial leomar souza de lisboa   0000581 86 2016 5 11 0401 pdf 02000001362017 7321216 20170210 peticao inicial pdf 02000006222017 7359608 20170317 peticao inicial 00000913320175110012 pdf 02000001862017 7388606 mandado   38 48 2017 4 01 3202 pdf 02000006632017 7390371 20170323 peticao inicial 00020431120165110003 pdf 02000006972017 7432422 20170321 peticao inicial 00004652620175110052 pdf 02000007062017 7460206 peticao inicial pdf 02000007462017 7485173 peticao inicial 0000349 20 2017 5 11 0052 pdf 02000007472017 7485533 peticao inicial 0000353 57 2017 5 11 0052 pdf 02000007632017 7507464 peticao inicial   00004675220175110001 pdf 02001001532017 7595030 20170412 1000062 72 2017 4 01 4200 pdf 02000008202017 7611299 20170413 federal seguros   00820 2017   0224726 83 2011 8 04 0001 1 pdf 02000008202017 7611300 20170413 federal seguros   00820 2017   0224726 83 2011 8 04 0001 18 pdf 02000008202017 7611301 20170413 federal seguros   00820 2017   0224726 83 2011 8 04 0001 17 pdf 02000008202017 7611303 20170413 federal seguros   00820 2017   0224726 83 2011 8 04 0001 15 pdf 02000008202017 7611304 20170413 federal seguros   00820 2017   0224726 83 2011 8 04 0001 14 pdf 02000008202017 7611305 20170413 federal seguros   00820 2017   0224726 83 2011 8 04 0001 13 pdf 02000008202017 7611306 20170413 federal seguros   00820 2017   0224726 83 2011 8 04 0001 12 pdf 02000008202017 7611307 20170413 federal seguros   00820 2017   0224726 83 2011 8 04 0001 11 pdf 02000008202017 7611308 20170413 federal seguros   00820 2017   0224726 83 2011 8 04 0001 10 pdf 02000008202017 7611309 20170413 federal seguros   00820 2017   0224726 83 2011 8 04 0001 9 pdf 02000008202017 7611310 20170413 federal seguros   00820 2017   0224726 83 2011 8 04 0001 8 pdf 02000008202017 7611311 20170413 federal seguros   00820 2017   0224726 83 2011 8 04 0001 7 pdf 02000008202017 7611312 20170413 federal seguros   00820 2017   0224726 83 2011 8 04 0001 6 pdf 02000008202017 7611313 20170413 federal seguros   00820 2017   0224726 83 2011 8 04 0001 5 pdf 02000008202017 7611314 20170413 federal seguros   00820 2017   0224726 83 2011 8 04 0001 4 pdf 02000008202017 7611315 20170413 federal seguros   00820 2017   0224726 83 2011 8 04 0001 3 pdf 02000008202017 7611316 20170413 federal seguros   00820 2017   0224726 83 2011 8 04 0001 2 pdf 02000008762017 7696722 20170424  companh excelsior 0261456 30 2010 8 04 0001  parte 1 pdf 02000008762017 7696723 20170424  companh excelsior 0261456 30 2010 8 04 0001  parte 2 pdf 02000008762017 7696724 20170424  companh excelsior 0261456 30 2010 8 04 0001  parte 3 pdf 02000008762017 7696725 20170424 0261456 30 2010 8 04 0001  parte 4 pdf 02000012462017 8103027 peticao inicial 0000803 08 2017 5 11 0017 pdf'"
      ]
     },
     "execution_count": 291,
     "metadata": {},
     "output_type": "execute_result"
    }
   ],
   "source": [
    "con = ' '.join(data.name)\\\n",
    "         .translate(str.maketrans(string.punctuation, ' '*len(string.punctuation)))\\\n",
    "         .lower()\n",
    "\n",
    "con"
   ]
  },
  {
   "cell_type": "code",
   "execution_count": 292,
   "metadata": {},
   "outputs": [
    {
     "data": {
      "text/plain": [
       "pdf               581\n",
       "documento         477\n",
       "02001001452017     68\n",
       "02001001442017     62\n",
       "02001001412017     62\n",
       "02001001422017     61\n",
       "02001001432017     59\n",
       "peticao            47\n",
       "2017               40\n",
       "inicial            39\n",
       "02001001402017     33\n",
       "4                  31\n",
       "8                  31\n",
       "02001001492017     31\n",
       "02001001382017     26\n",
       "02001001372017     26\n",
       "02001002112017     24\n",
       "5                  23\n",
       "02001001392017     23\n",
       "11                 22\n",
       "dtype: int64"
      ]
     },
     "execution_count": 292,
     "metadata": {},
     "output_type": "execute_result"
    }
   ],
   "source": [
    "count = {}\n",
    "for word in con.split():\n",
    "    if word in count:\n",
    "        count[word] += 1\n",
    "    else:\n",
    "        count[word] = 0\n",
    "\n",
    "pd.Series(count).sort_values(ascending=False).head(20)"
   ]
  },
  {
   "cell_type": "code",
   "execution_count": 293,
   "metadata": {},
   "outputs": [],
   "source": [
    "groups = {'documento':set(), 'peticao':set()}\n",
    "outros = set()\n",
    "#peticao, outros = set(), set()\n",
    "for i in data.name:\n",
    "    ok = False\n",
    "    for g in groups.keys():\n",
    "        if g in i.lower():\n",
    "            groups[g].add(i)\n",
    "            ok = True\n",
    "            break\n",
    "    \n",
    "    if not ok:\n",
    "        outros.add(i)"
   ]
  },
  {
   "cell_type": "code",
   "execution_count": 294,
   "metadata": {},
   "outputs": [
    {
     "data": {
      "text/plain": [
       "documento    478\n",
       "outros        72\n",
       "peticao       49\n",
       "Name: label, dtype: int64"
      ]
     },
     "execution_count": 294,
     "metadata": {},
     "output_type": "execute_result"
    }
   ],
   "source": [
    "def classify(row, groups):\n",
    "    ok = False\n",
    "    for g in groups.keys():\n",
    "        if g in row['name'].lower():\n",
    "            return g\n",
    "    \n",
    "    return 'outros'\n",
    "\n",
    "data['label'] = data.apply(lambda x: classify(x, groups), axis=1)\n",
    "data.label.value_counts()"
   ]
  },
  {
   "cell_type": "code",
   "execution_count": 295,
   "metadata": {},
   "outputs": [
    {
     "data": {
      "text/html": [
       "<div>\n",
       "<style scoped>\n",
       "    .dataframe tbody tr th:only-of-type {\n",
       "        vertical-align: middle;\n",
       "    }\n",
       "\n",
       "    .dataframe tbody tr th {\n",
       "        vertical-align: top;\n",
       "    }\n",
       "\n",
       "    .dataframe thead th {\n",
       "        text-align: right;\n",
       "    }\n",
       "</style>\n",
       "<table border=\"1\" class=\"dataframe\">\n",
       "  <thead>\n",
       "    <tr style=\"text-align: right;\">\n",
       "      <th></th>\n",
       "      <th>words</th>\n",
       "      <th>label</th>\n",
       "    </tr>\n",
       "    <tr>\n",
       "      <th>name</th>\n",
       "      <th></th>\n",
       "      <th></th>\n",
       "    </tr>\n",
       "  </thead>\n",
       "  <tbody>\n",
       "    <tr>\n",
       "      <th>03000000012017_6622932_inicial_lorena.pdf</th>\n",
       "      <td>DA NECESSIDADE E TITULAR  DA DA PRETERIÇÃO EM ...</td>\n",
       "      <td>outros</td>\n",
       "    </tr>\n",
       "    <tr>\n",
       "      <th>03000001632017_6667276_inicial_valquiria.pdf</th>\n",
       "      <td>acionada que O direito que assiste Indenização...</td>\n",
       "      <td>outros</td>\n",
       "    </tr>\n",
       "    <tr>\n",
       "      <th>02001000312017_6699679_20160112_MANDADO_DE_CITACAO.pdf</th>\n",
       "      <td>e que pendem Regiao - e Trabalhasta e quitados...</td>\n",
       "      <td>outros</td>\n",
       "    </tr>\n",
       "    <tr>\n",
       "      <th>02000000182017_6739022_RT_00009552320165110201_DAYANA_DE_SOUZA_CARVALHO.pdf</th>\n",
       "      <td>próprio e o DA MULTA o que o fez DA COMPETÊNCI...</td>\n",
       "      <td>outros</td>\n",
       "    </tr>\n",
       "    <tr>\n",
       "      <th>02000000222017_6758570_PETICAO_INICIAL__ROGERIO_PESSOA_DE_MELO.pdf</th>\n",
       "      <td>que quebra caixa não caixa que eram caixa para...</td>\n",
       "      <td>peticao</td>\n",
       "    </tr>\n",
       "  </tbody>\n",
       "</table>\n",
       "</div>"
      ],
      "text/plain": [
       "                                                                                                words  \\\n",
       "name                                                                                                    \n",
       "03000000012017_6622932_inicial_lorena.pdf           DA NECESSIDADE E TITULAR  DA DA PRETERIÇÃO EM ...   \n",
       "03000001632017_6667276_inicial_valquiria.pdf        acionada que O direito que assiste Indenização...   \n",
       "02001000312017_6699679_20160112_MANDADO_DE_CITA...  e que pendem Regiao - e Trabalhasta e quitados...   \n",
       "02000000182017_6739022_RT_00009552320165110201_...  próprio e o DA MULTA o que o fez DA COMPETÊNCI...   \n",
       "02000000222017_6758570_PETICAO_INICIAL__ROGERIO...  que quebra caixa não caixa que eram caixa para...   \n",
       "\n",
       "                                                      label  \n",
       "name                                                         \n",
       "03000000012017_6622932_inicial_lorena.pdf            outros  \n",
       "03000001632017_6667276_inicial_valquiria.pdf         outros  \n",
       "02001000312017_6699679_20160112_MANDADO_DE_CITA...   outros  \n",
       "02000000182017_6739022_RT_00009552320165110201_...   outros  \n",
       "02000000222017_6758570_PETICAO_INICIAL__ROGERIO...  peticao  "
      ]
     },
     "execution_count": 295,
     "metadata": {},
     "output_type": "execute_result"
    }
   ],
   "source": [
    "data.set_index('name', inplace=True)\n",
    "data.drop('cod', axis=1, inplace=True)\n",
    "data.head()"
   ]
  },
  {
   "cell_type": "code",
   "execution_count": 296,
   "metadata": {},
   "outputs": [],
   "source": [
    "words = data.words\n",
    "label = data.label"
   ]
  },
  {
   "cell_type": "code",
   "execution_count": 297,
   "metadata": {},
   "outputs": [
    {
     "data": {
      "text/plain": [
       "(599, 46310)"
      ]
     },
     "execution_count": 297,
     "metadata": {},
     "output_type": "execute_result"
    }
   ],
   "source": [
    "vec = TfidfVectorizer(stop_words=stopwords.words('portuguese'), max_df=.8)\n",
    "words = vec.fit_transform(words)\n",
    "words.shape"
   ]
  },
  {
   "cell_type": "code",
   "execution_count": 298,
   "metadata": {},
   "outputs": [
    {
     "data": {
      "text/plain": [
       "(599, 2)"
      ]
     },
     "execution_count": 298,
     "metadata": {},
     "output_type": "execute_result"
    }
   ],
   "source": [
    "svd = TruncatedSVD()\n",
    "words = svd.fit_transform(words)\n",
    "words.shape"
   ]
  },
  {
   "cell_type": "code",
   "execution_count": 299,
   "metadata": {},
   "outputs": [
    {
     "data": {
      "text/plain": [
       "DescribeResult(nobs=599, minmax=(array([ 0.28530245, -0.34790008]), array([0.99999681, 0.95843754])), mean=array([0.79971852, 0.38271868]), variance=array([0.04219279, 0.17214173]), skewness=array([-1.15403165, -0.42044624]), kurtosis=array([ 0.33974556, -1.14804697]))"
      ]
     },
     "execution_count": 299,
     "metadata": {},
     "output_type": "execute_result"
    }
   ],
   "source": [
    "words = Normalizer().fit_transform(words)\n",
    "stats.describe(words)"
   ]
  },
  {
   "cell_type": "code",
   "execution_count": 300,
   "metadata": {},
   "outputs": [],
   "source": [
    "x, y = [], []\n",
    "for i in range(len(words)):\n",
    "    x.append(words[i][0])\n",
    "    y.append(words[i][1])"
   ]
  },
  {
   "cell_type": "code",
   "execution_count": 301,
   "metadata": {},
   "outputs": [
    {
     "data": {
      "text/plain": [
       "<matplotlib.collections.PathCollection at 0x7f332739eb00>"
      ]
     },
     "execution_count": 301,
     "metadata": {},
     "output_type": "execute_result"
    },
    {
     "data": {
      "image/png": "[encoded data removed]",
      "text/plain": [
       "<Figure size 432x288 with 1 Axes>"
      ]
     },
     "metadata": {},
     "output_type": "display_data"
    }
   ],
   "source": [
    "plt.scatter(x, y, c=pd.factorize(label)[0], cmap='viridis', alpha=1)"
   ]
  },
  {
   "cell_type": "code",
   "execution_count": 302,
   "metadata": {},
   "outputs": [
    {
     "name": "stdout",
     "output_type": "stream",
     "text": [
      "Clusters:\n",
      "2    246\n",
      "1    180\n",
      "0    173\n",
      "dtype: int64\n"
     ]
    }
   ],
   "source": [
    "cls = KMeans(n_clusters=3, n_init=10, random_state=0).fit(words)\n",
    "predictions = cls.predict(words)\n",
    "print('Clusters:')\n",
    "print(pd.Series(cls.labels_).value_counts())"
   ]
  },
  {
   "cell_type": "code",
   "execution_count": 303,
   "metadata": {},
   "outputs": [
    {
     "data": {
      "text/plain": [
       "0    478\n",
       "1     72\n",
       "2     49\n",
       "Name: label, dtype: int64"
      ]
     },
     "execution_count": 303,
     "metadata": {},
     "output_type": "execute_result"
    }
   ],
   "source": [
    "d = dict(zip(data.label.value_counts().index, np.unique(cls.labels_)))\n",
    "label = pd.Series(label.map(d))\n",
    "label.value_counts()"
   ]
  },
  {
   "cell_type": "code",
   "execution_count": 304,
   "metadata": {},
   "outputs": [
    {
     "name": "stdout",
     "output_type": "stream",
     "text": [
      "Cluster documento\n",
      "paragrafo\n",
      "nao\n",
      "empregado\n",
      "sera\n",
      "empregados\n",
      "ser\n",
      "serao\n",
      "horas\n",
      "pagamento\n",
      "primeiro\n",
      "\n",
      "\n",
      "Cluster outros\n",
      "concurso\n",
      "público\n",
      "direito\n",
      "aprovados\n",
      "reclamante\n",
      "nomeação\n",
      "reclamada\n",
      "contratação\n",
      "candidatos\n",
      "cargo\n",
      "\n",
      "\n",
      "Cluster peticao\n",
      "paragrafo\n",
      "concurso\n",
      "empregado\n",
      "nao\n",
      "público\n",
      "ser\n",
      "reclamante\n",
      "direito\n",
      "empregados\n",
      "sera\n",
      "\n",
      "\n"
     ]
    }
   ],
   "source": [
    "original_centroids = svd.inverse_transform(cls.cluster_centers_)\n",
    "centroids = original_centroids.argsort()[:, ::-1]\n",
    "for i in range(len(label.value_counts())):\n",
    "    print('Cluster', list(d.keys())[i]),\n",
    "    for j in centroids[i, :10]:\n",
    "        print(vec.get_feature_names()[j]),\n",
    "    print('\\n')"
   ]
  },
  {
   "cell_type": "code",
   "execution_count": 305,
   "metadata": {},
   "outputs": [
    {
     "name": "stdout",
     "output_type": "stream",
     "text": [
      "             precision    recall  f1-score   support\n",
      "\n",
      "          0       0.72      0.26      0.38       478\n",
      "          1       0.01      0.01      0.01        72\n",
      "          2       0.17      0.86      0.28        49\n",
      "\n",
      "avg / total       0.59      0.28      0.33       599\n",
      "\n",
      "[[124 178 176]\n",
      " [ 43   1  28]\n",
      " [  6   1  42]]\n"
     ]
    }
   ],
   "source": [
    "print(metrics.classification_report(label, predictions))\n",
    "print(metrics.confusion_matrix(label, predictions))"
   ]
  },
  {
   "cell_type": "code",
   "execution_count": 306,
   "metadata": {},
   "outputs": [
    {
     "data": {
      "image/png": "[encoded data removed]",
      "text/plain": [
       "<Figure size 432x288 with 1 Axes>"
      ]
     },
     "metadata": {},
     "output_type": "display_data"
    }
   ],
   "source": [
    "plt.scatter(x, y, c=cls.labels_, cmap='viridis', alpha=.1)\n",
    "for i in cls.cluster_centers_:\n",
    "    plt.plot(i[0], i[1], 'x', color='red')"
   ]
  }
 ],
 "metadata": {
  "kernelspec": {
   "display_name": "Python 3",
   "language": "python",
   "name": "python3"
  },
  "language_info": {
   "codemirror_mode": {
    "name": "ipython",
    "version": 3
   },
   "file_extension": ".py",
   "mimetype": "text/x-python",
   "name": "python",
   "nbconvert_exporter": "python",
   "pygments_lexer": "ipython3",
   "version": "3.6.6"
  }
 },
 "nbformat": 4,
 "nbformat_minor": 2
}
