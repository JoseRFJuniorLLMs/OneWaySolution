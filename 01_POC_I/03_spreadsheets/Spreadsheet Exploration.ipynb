{
 "cells": [
  {
   "cell_type": "markdown",
   "metadata": {},
   "source": [
    "## Libraries"
   ]
  },
  {
   "cell_type": "code",
   "execution_count": 6,
   "metadata": {},
   "outputs": [],
   "source": [
    "import pandas as pd"
   ]
  },
  {
   "cell_type": "markdown",
   "metadata": {},
   "source": [
    "Just pandas library was used in this section."
   ]
  },
  {
   "cell_type": "markdown",
   "metadata": {},
   "source": [
    "## Spreadsheet"
   ]
  },
  {
   "cell_type": "code",
   "execution_count": 7,
   "metadata": {},
   "outputs": [
    {
     "data": {
      "text/html": [
       "<div>\n",
       "<style scoped>\n",
       "    .dataframe tbody tr th:only-of-type {\n",
       "        vertical-align: middle;\n",
       "    }\n",
       "\n",
       "    .dataframe tbody tr th {\n",
       "        vertical-align: top;\n",
       "    }\n",
       "\n",
       "    .dataframe thead th {\n",
       "        text-align: right;\n",
       "    }\n",
       "</style>\n",
       "<table border=\"1\" class=\"dataframe\">\n",
       "  <thead>\n",
       "    <tr style=\"text-align: right;\">\n",
       "      <th></th>\n",
       "      <th>iSequencial GED</th>\n",
       "      <th>Expediente</th>\n",
       "      <th>iCodDocumento</th>\n",
       "      <th>Nome do Arquivo</th>\n",
       "    </tr>\n",
       "  </thead>\n",
       "  <tbody>\n",
       "    <tr>\n",
       "      <th>0</th>\n",
       "      <td>6622932</td>\n",
       "      <td>03.000.00001/2017</td>\n",
       "      <td>5070</td>\n",
       "      <td>03000000012017_6622932_inicial_lorena.pdf</td>\n",
       "    </tr>\n",
       "    <tr>\n",
       "      <th>1</th>\n",
       "      <td>6626319</td>\n",
       "      <td>16.000.00003/2017</td>\n",
       "      <td>5070</td>\n",
       "      <td>16000000032017_6626319_p.i..pdf</td>\n",
       "    </tr>\n",
       "    <tr>\n",
       "      <th>2</th>\n",
       "      <td>6626401</td>\n",
       "      <td>16.000.00004/2017</td>\n",
       "      <td>5070</td>\n",
       "      <td>16000000042017_6626401_p.i..pdf</td>\n",
       "    </tr>\n",
       "    <tr>\n",
       "      <th>3</th>\n",
       "      <td>6626489</td>\n",
       "      <td>11.000.00001/2017</td>\n",
       "      <td>5070</td>\n",
       "      <td>11000000012017_6626489_00122055920165030077.pdf</td>\n",
       "    </tr>\n",
       "    <tr>\n",
       "      <th>4</th>\n",
       "      <td>6627051</td>\n",
       "      <td>04.000.00001/2017</td>\n",
       "      <td>5083</td>\n",
       "      <td>04000000012017_6627051_NP00017480420165100002G...</td>\n",
       "    </tr>\n",
       "  </tbody>\n",
       "</table>\n",
       "</div>"
      ],
      "text/plain": [
       "   iSequencial GED         Expediente  iCodDocumento  \\\n",
       "0          6622932  03.000.00001/2017           5070   \n",
       "1          6626319  16.000.00003/2017           5070   \n",
       "2          6626401  16.000.00004/2017           5070   \n",
       "3          6626489  11.000.00001/2017           5070   \n",
       "4          6627051  04.000.00001/2017           5083   \n",
       "\n",
       "                                     Nome do Arquivo  \n",
       "0         03000000012017_6622932_inicial_lorena.pdf   \n",
       "1                   16000000032017_6626319_p.i..pdf   \n",
       "2                   16000000042017_6626401_p.i..pdf   \n",
       "3   11000000012017_6626489_00122055920165030077.pdf   \n",
       "4  04000000012017_6627051_NP00017480420165100002G...  "
      ]
     },
     "execution_count": 7,
     "metadata": {},
     "output_type": "execute_result"
    }
   ],
   "source": [
    "path = '../01_source/RelaÆo de expedientes para capturar arquivos no GED_resposta.xls'\n",
    "data = pd.read_excel(path, sheet_name='REL. DOCUMENTOS COPIADOS')\n",
    "data.head()"
   ]
  },
  {
   "cell_type": "markdown",
   "metadata": {},
   "source": [
    "Above was selected the second sheet (\"REL. DOCUMENTOS COPIADOS\") of the [provided worksheet](../01_source/RelaÆo%20de%20expedientes%20para%20capturar%20arquivos%20no%20GED_resposta.xls \"\") and transformed it into a pandas DataFrame."
   ]
  },
  {
   "cell_type": "code",
   "execution_count": 8,
   "metadata": {},
   "outputs": [
    {
     "data": {
      "text/plain": [
       "(2126, 4)"
      ]
     },
     "execution_count": 8,
     "metadata": {},
     "output_type": "execute_result"
    }
   ],
   "source": [
    "data.shape"
   ]
  },
  {
   "cell_type": "code",
   "execution_count": 9,
   "metadata": {
    "scrolled": true
   },
   "outputs": [
    {
     "name": "stdout",
     "output_type": "stream",
     "text": [
      "<class 'pandas.core.frame.DataFrame'>\n",
      "RangeIndex: 2126 entries, 0 to 2125\n",
      "Data columns (total 4 columns):\n",
      "iSequencial GED    2126 non-null int64\n",
      "Expediente         2126 non-null object\n",
      "iCodDocumento      2126 non-null int64\n",
      "Nome do Arquivo    2126 non-null object\n",
      "dtypes: int64(2), object(2)\n",
      "memory usage: 66.5+ KB\n"
     ]
    }
   ],
   "source": [
    "data.info()"
   ]
  },
  {
   "cell_type": "markdown",
   "metadata": {},
   "source": [
    "The DataFrame dimensions and its columns were studied. It contains 2126 lines and 4 columns: 'iSequencial GED', 'Expediente', 'iCodDocumento' and 'Nome do Arquivo'. The first and the third are int64 type, while the others are object type, and apparently no nulls values were identified."
   ]
  },
  {
   "cell_type": "markdown",
   "metadata": {},
   "source": [
    "## Data Exploration"
   ]
  },
  {
   "cell_type": "code",
   "execution_count": 12,
   "metadata": {},
   "outputs": [
    {
     "data": {
      "text/plain": [
       "array([5070, 5083])"
      ]
     },
     "execution_count": 12,
     "metadata": {},
     "output_type": "execute_result"
    }
   ],
   "source": [
    "data['iCodDocumento'].unique()"
   ]
  },
  {
   "cell_type": "markdown",
   "metadata": {},
   "source": [
    "For the column 'iCodDocumento', it was analyzed for identification of unique values and only two values were found, having this in view it is possible to use it as a categorical variable and as a label for a prediction process. "
   ]
  },
  {
   "cell_type": "code",
   "execution_count": 10,
   "metadata": {},
   "outputs": [
    {
     "data": {
      "text/plain": [
       "True"
      ]
     },
     "execution_count": 10,
     "metadata": {},
     "output_type": "execute_result"
    }
   ],
   "source": [
    "data['iSequencial GED'].nunique() == data.shape[0]"
   ]
  },
  {
   "cell_type": "code",
   "execution_count": 11,
   "metadata": {},
   "outputs": [
    {
     "data": {
      "text/plain": [
       "False"
      ]
     },
     "execution_count": 11,
     "metadata": {},
     "output_type": "execute_result"
    }
   ],
   "source": [
    "data['Expediente'].nunique() == data.shape[0]"
   ]
  },
  {
   "cell_type": "code",
   "execution_count": 13,
   "metadata": {},
   "outputs": [
    {
     "data": {
      "text/plain": [
       "True"
      ]
     },
     "execution_count": 13,
     "metadata": {},
     "output_type": "execute_result"
    }
   ],
   "source": [
    "data['Nome do Arquivo'].nunique() == data.shape[0]"
   ]
  },
  {
   "cell_type": "code",
   "execution_count": 14,
   "metadata": {},
   "outputs": [
    {
     "data": {
      "text/plain": [
       "Expediente\n",
       "11.003.00037/2017    2\n",
       "02.000.00145/2017    2\n",
       "10.000.00198/2017    2\n",
       "04.000.00780/2017    2\n",
       "10.000.00110/2017    2\n",
       "Name: iCodDocumento, dtype: int64"
      ]
     },
     "execution_count": 14,
     "metadata": {},
     "output_type": "execute_result"
    }
   ],
   "source": [
    "data.groupby('Expediente').iCodDocumento.nunique().sort_values(ascending=False).head()"
   ]
  },
  {
   "cell_type": "markdown",
   "metadata": {},
   "source": [
    "The other three columns were tested as candidates to be an identification column. As shown above, it seems that 'iSequencial GED' and 'Nome do Arquivo' can be used as identification columns, whereas 'Expediente' appears to have duplicated values."
   ]
  },
  {
   "cell_type": "markdown",
   "metadata": {},
   "source": [
    "## Dataset"
   ]
  },
  {
   "cell_type": "code",
   "execution_count": 15,
   "metadata": {},
   "outputs": [
    {
     "data": {
      "text/html": [
       "<div>\n",
       "<style scoped>\n",
       "    .dataframe tbody tr th:only-of-type {\n",
       "        vertical-align: middle;\n",
       "    }\n",
       "\n",
       "    .dataframe tbody tr th {\n",
       "        vertical-align: top;\n",
       "    }\n",
       "\n",
       "    .dataframe thead th {\n",
       "        text-align: right;\n",
       "    }\n",
       "</style>\n",
       "<table border=\"1\" class=\"dataframe\">\n",
       "  <thead>\n",
       "    <tr style=\"text-align: right;\">\n",
       "      <th></th>\n",
       "      <th>iCodDocumento</th>\n",
       "    </tr>\n",
       "    <tr>\n",
       "      <th>Nome do Arquivo</th>\n",
       "      <th></th>\n",
       "    </tr>\n",
       "  </thead>\n",
       "  <tbody>\n",
       "    <tr>\n",
       "      <th>03000000012017_6622932_inicial_lorena.pdf</th>\n",
       "      <td>5070</td>\n",
       "    </tr>\n",
       "    <tr>\n",
       "      <th>16000000032017_6626319_p.i..pdf</th>\n",
       "      <td>5070</td>\n",
       "    </tr>\n",
       "    <tr>\n",
       "      <th>16000000042017_6626401_p.i..pdf</th>\n",
       "      <td>5070</td>\n",
       "    </tr>\n",
       "    <tr>\n",
       "      <th>11000000012017_6626489_00122055920165030077.pdf</th>\n",
       "      <td>5070</td>\n",
       "    </tr>\n",
       "    <tr>\n",
       "      <th>04000000012017_6627051_NP00017480420165100002GR1_DT16092016_CD5083.pdf</th>\n",
       "      <td>5083</td>\n",
       "    </tr>\n",
       "  </tbody>\n",
       "</table>\n",
       "</div>"
      ],
      "text/plain": [
       "                                                    iCodDocumento\n",
       "Nome do Arquivo                                                  \n",
       "03000000012017_6622932_inicial_lorena.pdf                    5070\n",
       "16000000032017_6626319_p.i..pdf                              5070\n",
       "16000000042017_6626401_p.i..pdf                              5070\n",
       "11000000012017_6626489_00122055920165030077.pdf              5070\n",
       "04000000012017_6627051_NP00017480420165100002GR...           5083"
      ]
     },
     "execution_count": 15,
     "metadata": {},
     "output_type": "execute_result"
    }
   ],
   "source": [
    "data.drop(['iSequencial GED', 'Expediente'], axis=1, inplace=True)\n",
    "data.set_index(['Nome do Arquivo'], inplace=True)\n",
    "data.head()"
   ]
  },
  {
   "cell_type": "code",
   "execution_count": 16,
   "metadata": {},
   "outputs": [],
   "source": [
    "data.to_csv('xls-dataset.csv', sep = ';')"
   ]
  },
  {
   "cell_type": "markdown",
   "metadata": {},
   "source": [
    "In the end, 'Nome do Arquivo' was selected as a line indentification and converted into index. 'iSequencial GED' and 'Expediente' were dropped. The result DataFrame with 'Nome do Arquivo' as index and 'iCodDocumento' as label was saved into a [csv file](./xls-dataset.csv \"xls dataset\")."
   ]
  }
 ],
 "metadata": {
  "kernelspec": {
   "display_name": "Python 3",
   "language": "python",
   "name": "python3"
  },
  "language_info": {
   "codemirror_mode": {
    "name": "ipython",
    "version": 3
   },
   "file_extension": ".py",
   "mimetype": "text/x-python",
   "name": "python",
   "nbconvert_exporter": "python",
   "pygments_lexer": "ipython3",
   "version": "3.7.0"
  }
 },
 "nbformat": 4,
 "nbformat_minor": 2
}
