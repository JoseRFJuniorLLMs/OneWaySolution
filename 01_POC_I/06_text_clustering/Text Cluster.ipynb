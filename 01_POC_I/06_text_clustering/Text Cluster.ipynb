{
 "cells": [
  {
   "cell_type": "markdown",
   "metadata": {},
   "source": [
    "## Libraries"
   ]
  },
  {
   "cell_type": "code",
   "execution_count": 1,
   "metadata": {},
   "outputs": [],
   "source": [
    "import numpy as np\n",
    "import pandas as pd\n",
    "import string\n",
    "\n",
    "from sklearn.model_selection import StratifiedShuffleSplit\n",
    "from sklearn.feature_extraction.text import TfidfVectorizer\n",
    "from sklearn.decomposition import TruncatedSVD\n",
    "from sklearn.preprocessing import Normalizer\n",
    "from sklearn.cluster import KMeans\n",
    "from sklearn import metrics\n",
    "\n",
    "from nltk.corpus import stopwords\n",
    "from scipy import stats\n",
    "\n",
    "%matplotlib inline\n",
    "import matplotlib.pyplot as plt\n",
    "plt.style.use('seaborn-whitegrid')"
   ]
  },
  {
   "cell_type": "markdown",
   "metadata": {},
   "source": [
    "In this part, numpy, pandas, string, sklearn, nltk, scipy and matplotlib libraries were used."
   ]
  },
  {
   "cell_type": "markdown",
   "metadata": {},
   "source": [
    "## Dataset"
   ]
  },
  {
   "cell_type": "code",
   "execution_count": 2,
   "metadata": {},
   "outputs": [
    {
     "data": {
      "text/html": [
       "<div>\n",
       "<style scoped>\n",
       "    .dataframe tbody tr th:only-of-type {\n",
       "        vertical-align: middle;\n",
       "    }\n",
       "\n",
       "    .dataframe tbody tr th {\n",
       "        vertical-align: top;\n",
       "    }\n",
       "\n",
       "    .dataframe thead th {\n",
       "        text-align: right;\n",
       "    }\n",
       "</style>\n",
       "<table border=\"1\" class=\"dataframe\">\n",
       "  <thead>\n",
       "    <tr style=\"text-align: right;\">\n",
       "      <th></th>\n",
       "      <th>name</th>\n",
       "      <th>cod</th>\n",
       "      <th>words</th>\n",
       "    </tr>\n",
       "  </thead>\n",
       "  <tbody>\n",
       "    <tr>\n",
       "      <th>0</th>\n",
       "      <td>03000000012017_6622932_inicial_lorena.pdf</td>\n",
       "      <td>5070</td>\n",
       "      <td>DA NECESSIDADE E TITULAR  DA DA PRETERIÇÃO EM ...</td>\n",
       "    </tr>\n",
       "    <tr>\n",
       "      <th>1</th>\n",
       "      <td>03000001632017_6667276_inicial_valquiria.pdf</td>\n",
       "      <td>5070</td>\n",
       "      <td>acionada que O direito que assiste Indenização...</td>\n",
       "    </tr>\n",
       "    <tr>\n",
       "      <th>2</th>\n",
       "      <td>02001000312017_6699679_20160112_MANDADO_DE_CIT...</td>\n",
       "      <td>5070</td>\n",
       "      <td>e que pendem Regiao - e Trabalhasta e quitados...</td>\n",
       "    </tr>\n",
       "    <tr>\n",
       "      <th>3</th>\n",
       "      <td>02000000182017_6739022_RT_00009552320165110201...</td>\n",
       "      <td>5070</td>\n",
       "      <td>próprio e o DA MULTA o que o fez DA COMPETÊNCI...</td>\n",
       "    </tr>\n",
       "    <tr>\n",
       "      <th>4</th>\n",
       "      <td>02000000222017_6758570_PETICAO_INICIAL__ROGERI...</td>\n",
       "      <td>5070</td>\n",
       "      <td>que quebra caixa não caixa que eram caixa para...</td>\n",
       "    </tr>\n",
       "  </tbody>\n",
       "</table>\n",
       "</div>"
      ],
      "text/plain": [
       "                                                name   cod  \\\n",
       "0          03000000012017_6622932_inicial_lorena.pdf  5070   \n",
       "1       03000001632017_6667276_inicial_valquiria.pdf  5070   \n",
       "2  02001000312017_6699679_20160112_MANDADO_DE_CIT...  5070   \n",
       "3  02000000182017_6739022_RT_00009552320165110201...  5070   \n",
       "4  02000000222017_6758570_PETICAO_INICIAL__ROGERI...  5070   \n",
       "\n",
       "                                               words  \n",
       "0  DA NECESSIDADE E TITULAR  DA DA PRETERIÇÃO EM ...  \n",
       "1  acionada que O direito que assiste Indenização...  \n",
       "2  e que pendem Regiao - e Trabalhasta e quitados...  \n",
       "3  próprio e o DA MULTA o que o fez DA COMPETÊNCI...  \n",
       "4  que quebra caixa não caixa que eram caixa para...  "
      ]
     },
     "execution_count": 2,
     "metadata": {},
     "output_type": "execute_result"
    }
   ],
   "source": [
    "data = pd.read_csv('../05_machine_learning/clean_data.csv', ';')\n",
    "data.head()"
   ]
  },
  {
   "cell_type": "markdown",
   "metadata": {},
   "source": [
    "The final and cleaned dataset built on stage 05 was loaded and previewed. The purpouse of the study is to try to predict the document type according to its keyphrases. However, documents type were not given, so it will be based on document names."
   ]
  },
  {
   "cell_type": "code",
   "execution_count": 3,
   "metadata": {},
   "outputs": [
    {
     "data": {
      "text/plain": [
       "'03000000012017 6622932 inicial lorena pdf 03000001632017 6667276 inicial valquiria pdf 02001000312017 6699679 20160112 mandado de citacao pdf 02000000182017 6739022 rt 00009552320165110201 dayana de souza carvalho pdf 02000000222017 6758570 peticao inicial  rogerio pessoa de melo pdf 02000000212017 6758941 peticao inicial renata pdf 02000000302017 6761978 mandado de intimacao   proc 16374 70 2016 4 01 3200 pdf 02001000322017 6773442 peticao inicial np00051123320164014200gr1 zip 02001000562017 6773444 1 peticao np00064772520164014200gr1 zip 02001000562017 6773445 2 peticao np00064772520164014200gr1 zip 02001000572017 6773446 peticao np00059784120164014200gr1 zip 02001000582017 6773447 peticao np00064755520164014200gr1 zip 02001000592017 6773448 peticao np00063248920164014200gr1 zip 02001000602017 6773449 peticao np00063802520164014200gr1 zip 02001000612017 6773450 peticao np00058753420164014200gr1 zip 02001000652017 6773454 peticao np00058675720164014200gr1 zip 02001000662017 6773455 pe'"
      ]
     },
     "execution_count": 3,
     "metadata": {},
     "output_type": "execute_result"
    }
   ],
   "source": [
    "con = ' '.join(data.name)\\\n",
    "         .translate(str.maketrans(string.punctuation, ' '*len(string.punctuation)))\\\n",
    "         .lower()\n",
    "\n",
    "con[:1000]"
   ]
  },
  {
   "cell_type": "markdown",
   "metadata": {},
   "source": [
    "All document names were concatenated in a string united by a space, special characteres were removed and all words were changed to lower case. A preview is avaliable above."
   ]
  },
  {
   "cell_type": "code",
   "execution_count": 4,
   "metadata": {},
   "outputs": [
    {
     "data": {
      "text/plain": [
       "pdf               581\n",
       "documento         477\n",
       "02001001452017     68\n",
       "02001001442017     62\n",
       "02001001412017     62\n",
       "02001001422017     61\n",
       "02001001432017     59\n",
       "peticao            47\n",
       "2017               40\n",
       "inicial            39\n",
       "02001001402017     33\n",
       "4                  31\n",
       "8                  31\n",
       "02001001492017     31\n",
       "02001001382017     26\n",
       "02001001372017     26\n",
       "02001002112017     24\n",
       "5                  23\n",
       "02001001392017     23\n",
       "11                 22\n",
       "dtype: int64"
      ]
     },
     "execution_count": 4,
     "metadata": {},
     "output_type": "execute_result"
    }
   ],
   "source": [
    "count = {}\n",
    "for word in con.split():\n",
    "    if word in count:\n",
    "        count[word] += 1\n",
    "    else:\n",
    "        count[word] = 0\n",
    "\n",
    "pd.Series(count).sort_values(ascending=False).head(20)"
   ]
  },
  {
   "cell_type": "markdown",
   "metadata": {},
   "source": [
    "The frequency of words on document names was calculated and ranked. Based on this, just two words were selected to tipify a document: 'documento' and 'peticao'."
   ]
  },
  {
   "cell_type": "code",
   "execution_count": 5,
   "metadata": {},
   "outputs": [],
   "source": [
    "groups = {'documento':set(), 'peticao':set()}\n",
    "outros = set()\n",
    "#peticao, outros = set(), set()\n",
    "for i in data.name:\n",
    "    ok = False\n",
    "    for g in groups.keys():\n",
    "        if g in i.lower():\n",
    "            groups[g].add(i)\n",
    "            ok = True\n",
    "            break\n",
    "    \n",
    "    if not ok:\n",
    "        outros.add(i)"
   ]
  },
  {
   "cell_type": "code",
   "execution_count": 6,
   "metadata": {},
   "outputs": [
    {
     "data": {
      "text/plain": [
       "documento    478\n",
       "outros        72\n",
       "peticao       49\n",
       "Name: label, dtype: int64"
      ]
     },
     "execution_count": 6,
     "metadata": {},
     "output_type": "execute_result"
    }
   ],
   "source": [
    "def classify(row, groups):\n",
    "    ok = False\n",
    "    for g in groups.keys():\n",
    "        if g in row['name'].lower():\n",
    "            return g\n",
    "    \n",
    "    return 'outros'\n",
    "\n",
    "data['label'] = data.apply(lambda x: classify(x, groups), axis=1)\n",
    "data.label.value_counts()"
   ]
  },
  {
   "cell_type": "markdown",
   "metadata": {},
   "source": [
    "Three sets were defined and filled with documents name: 'documento', 'peticao' and 'outros'. If a file had the word 'documento' on its name, that document would go to the set 'documento', same process for those who had 'peticao' in the name and all others went to the set 'outros'. The amount of each set were given above."
   ]
  },
  {
   "cell_type": "code",
   "execution_count": 7,
   "metadata": {},
   "outputs": [],
   "source": [
    "words = data.words\n",
    "label = data.label"
   ]
  },
  {
   "cell_type": "code",
   "execution_count": 8,
   "metadata": {},
   "outputs": [
    {
     "data": {
      "text/html": [
       "<div>\n",
       "<style scoped>\n",
       "    .dataframe tbody tr th:only-of-type {\n",
       "        vertical-align: middle;\n",
       "    }\n",
       "\n",
       "    .dataframe tbody tr th {\n",
       "        vertical-align: top;\n",
       "    }\n",
       "\n",
       "    .dataframe thead th {\n",
       "        text-align: right;\n",
       "    }\n",
       "</style>\n",
       "<table border=\"1\" class=\"dataframe\">\n",
       "  <thead>\n",
       "    <tr style=\"text-align: right;\">\n",
       "      <th></th>\n",
       "      <th>words</th>\n",
       "      <th>label</th>\n",
       "    </tr>\n",
       "    <tr>\n",
       "      <th>name</th>\n",
       "      <th></th>\n",
       "      <th></th>\n",
       "    </tr>\n",
       "  </thead>\n",
       "  <tbody>\n",
       "    <tr>\n",
       "      <th>03000000012017_6622932_inicial_lorena.pdf</th>\n",
       "      <td>DA NECESSIDADE E TITULAR  DA DA PRETERIÇÃO EM ...</td>\n",
       "      <td>outros</td>\n",
       "    </tr>\n",
       "    <tr>\n",
       "      <th>03000001632017_6667276_inicial_valquiria.pdf</th>\n",
       "      <td>acionada que O direito que assiste Indenização...</td>\n",
       "      <td>outros</td>\n",
       "    </tr>\n",
       "    <tr>\n",
       "      <th>02001000312017_6699679_20160112_MANDADO_DE_CITACAO.pdf</th>\n",
       "      <td>e que pendem Regiao - e Trabalhasta e quitados...</td>\n",
       "      <td>outros</td>\n",
       "    </tr>\n",
       "    <tr>\n",
       "      <th>02000000182017_6739022_RT_00009552320165110201_DAYANA_DE_SOUZA_CARVALHO.pdf</th>\n",
       "      <td>próprio e o DA MULTA o que o fez DA COMPETÊNCI...</td>\n",
       "      <td>outros</td>\n",
       "    </tr>\n",
       "    <tr>\n",
       "      <th>02000000222017_6758570_PETICAO_INICIAL__ROGERIO_PESSOA_DE_MELO.pdf</th>\n",
       "      <td>que quebra caixa não caixa que eram caixa para...</td>\n",
       "      <td>peticao</td>\n",
       "    </tr>\n",
       "  </tbody>\n",
       "</table>\n",
       "</div>"
      ],
      "text/plain": [
       "                                                                                                words  \\\n",
       "name                                                                                                    \n",
       "03000000012017_6622932_inicial_lorena.pdf           DA NECESSIDADE E TITULAR  DA DA PRETERIÇÃO EM ...   \n",
       "03000001632017_6667276_inicial_valquiria.pdf        acionada que O direito que assiste Indenização...   \n",
       "02001000312017_6699679_20160112_MANDADO_DE_CITA...  e que pendem Regiao - e Trabalhasta e quitados...   \n",
       "02000000182017_6739022_RT_00009552320165110201_...  próprio e o DA MULTA o que o fez DA COMPETÊNCI...   \n",
       "02000000222017_6758570_PETICAO_INICIAL__ROGERIO...  que quebra caixa não caixa que eram caixa para...   \n",
       "\n",
       "                                                      label  \n",
       "name                                                         \n",
       "03000000012017_6622932_inicial_lorena.pdf            outros  \n",
       "03000001632017_6667276_inicial_valquiria.pdf         outros  \n",
       "02001000312017_6699679_20160112_MANDADO_DE_CITA...   outros  \n",
       "02000000182017_6739022_RT_00009552320165110201_...   outros  \n",
       "02000000222017_6758570_PETICAO_INICIAL__ROGERIO...  peticao  "
      ]
     },
     "execution_count": 8,
     "metadata": {},
     "output_type": "execute_result"
    }
   ],
   "source": [
    "data.set_index('name', inplace=True)\n",
    "data.drop('cod', axis=1, inplace=True)\n",
    "data.head()"
   ]
  },
  {
   "cell_type": "markdown",
   "metadata": {},
   "source": [
    "Names were set as index and field 'cod' was dropped, since the purpouse is to predict labels just using the words."
   ]
  },
  {
   "cell_type": "markdown",
   "metadata": {},
   "source": [
    "## Machine Learning"
   ]
  },
  {
   "cell_type": "code",
   "execution_count": 9,
   "metadata": {},
   "outputs": [
    {
     "data": {
      "text/plain": [
       "(599, 1783)"
      ]
     },
     "execution_count": 9,
     "metadata": {},
     "output_type": "execute_result"
    }
   ],
   "source": [
    "stopw = ['nao', 'ser', 'sera', 'serao']\n",
    "vec = TfidfVectorizer(stop_words=stopwords.words('portuguese')+stopw, max_df = .4, min_df=50)\n",
    "words = vec.fit_transform(words)\n",
    "words.shape"
   ]
  },
  {
   "cell_type": "markdown",
   "metadata": {},
   "source": [
    "Stop words were removed from the corpus using nltk portuguese stopwords and some other added manually.  \n",
    "TfidfVectorizer was used to vectorize and calculate the term frequency inverse document frequency of the words, more informations [here](https://en.wikipedia.org/wiki/Tf%E2%80%93idf) and [here](http://scikit-learn.org/stable/modules/generated/sklearn.feature_extraction.text.TfidfVectorizer.html).  \n",
    "Words that appears in approximately more than 40% and less than 8% of the documents amount were withdraw."
   ]
  },
  {
   "cell_type": "code",
   "execution_count": 10,
   "metadata": {},
   "outputs": [
    {
     "data": {
      "text/plain": [
       "(599, 2)"
      ]
     },
     "execution_count": 10,
     "metadata": {},
     "output_type": "execute_result"
    }
   ],
   "source": [
    "svd = TruncatedSVD()\n",
    "words = svd.fit_transform(words)\n",
    "words.shape"
   ]
  },
  {
   "cell_type": "markdown",
   "metadata": {},
   "source": [
    "Due to the dimensionality of the tf-idf matrix, TruncatedSVD function was used to reduce it to 2 columns and make it possible to plot the documents on a 2D graph."
   ]
  },
  {
   "cell_type": "code",
   "execution_count": 11,
   "metadata": {},
   "outputs": [
    {
     "data": {
      "text/plain": [
       "DescribeResult(nobs=599, minmax=(array([ 0.        , -0.42792188]), array([0.99999765, 0.96392106])), mean=array([0.76802652, 0.37846437]), variance=array([0.04742054, 0.21156456]), skewness=array([-1.01657343, -0.49350647]), kurtosis=array([ 0.35454758, -1.23883969]))"
      ]
     },
     "execution_count": 11,
     "metadata": {},
     "output_type": "execute_result"
    }
   ],
   "source": [
    "words = Normalizer().fit_transform(words)\n",
    "stats.describe(words)"
   ]
  },
  {
   "cell_type": "markdown",
   "metadata": {},
   "source": [
    "Since KMeans is based on edit distance which is sensitive about the variance of the data, the dataset was normalized using Normalizer function from sklearn, more about [here](http://scikit-learn.org/stable/modules/generated/sklearn.preprocessing.Normalizer.html)."
   ]
  },
  {
   "cell_type": "code",
   "execution_count": 12,
   "metadata": {},
   "outputs": [],
   "source": [
    "x, y = [], []\n",
    "for i in range(len(words)):\n",
    "    x.append(words[i][0])\n",
    "    y.append(words[i][1])"
   ]
  },
  {
   "cell_type": "code",
   "execution_count": 13,
   "metadata": {},
   "outputs": [
    {
     "data": {
      "text/plain": [
       "<matplotlib.collections.PathCollection at 0x7f8a2c602f28>"
      ]
     },
     "execution_count": 13,
     "metadata": {},
     "output_type": "execute_result"
    },
    {
     "data": {
      "image/png": "[encoded data removed]",
      "text/plain": [
       "<Figure size 432x288 with 1 Axes>"
      ]
     },
     "metadata": {},
     "output_type": "display_data"
    }
   ],
   "source": [
    "plt.scatter(x, y, c=pd.factorize(label)[0], cmap='viridis', alpha=1)"
   ]
  },
  {
   "cell_type": "markdown",
   "metadata": {},
   "source": [
    "Documents from the normalized dataset were plotted on a scatter plot, showed above.  \n",
    "Where each point represents a document and each color represents one of the defined type."
   ]
  },
  {
   "cell_type": "code",
   "execution_count": 14,
   "metadata": {},
   "outputs": [
    {
     "name": "stdout",
     "output_type": "stream",
     "text": [
      "Clusters:\n",
      "0    256\n",
      "1    176\n",
      "2    167\n",
      "dtype: int64\n"
     ]
    }
   ],
   "source": [
    "cls = KMeans(n_clusters=3, n_init=10, random_state=0).fit(words)\n",
    "predictions = cls.predict(words)\n",
    "print('Clusters:')\n",
    "print(pd.Series(cls.labels_).value_counts())"
   ]
  },
  {
   "cell_type": "markdown",
   "metadata": {},
   "source": [
    "KMeans algorithm was chosen to cluster the data into three clusters. This process occurs 10 times and the algorithm selects the best one. The number of points in each cluster is showed above."
   ]
  },
  {
   "cell_type": "code",
   "execution_count": 15,
   "metadata": {},
   "outputs": [
    {
     "data": {
      "text/plain": [
       "0    478\n",
       "1     72\n",
       "2     49\n",
       "Name: label, dtype: int64"
      ]
     },
     "execution_count": 15,
     "metadata": {},
     "output_type": "execute_result"
    }
   ],
   "source": [
    "d = dict(zip(data.label.value_counts().index, pd.Series(cls.labels_).value_counts().index.tolist()))\n",
    "label = pd.Series(label.map(d))\n",
    "label.value_counts()"
   ]
  },
  {
   "cell_type": "markdown",
   "metadata": {},
   "source": [
    "The document types were mapped according to their quantity to match the algorithm clusters."
   ]
  },
  {
   "cell_type": "code",
   "execution_count": 16,
   "metadata": {},
   "outputs": [
    {
     "name": "stdout",
     "output_type": "stream",
     "text": [
      "Cluster documento\n",
      "paragrafo\n",
      "empregado\n",
      "clausula\n",
      "horas\n",
      "cpf\n",
      "jornada\n",
      "primeiro\n",
      "unidade\n",
      "trabalha\n",
      "santos\n",
      "\n",
      "\n",
      "Cluster outros\n",
      "aprovados\n",
      "reclamante\n",
      "reclamada\n",
      "nomeação\n",
      "contratação\n",
      "terceirização\n",
      "preterição\n",
      "vagas\n",
      "expectativa\n",
      "aprovado\n",
      "\n",
      "\n",
      "Cluster peticao\n",
      "paragrafo\n",
      "reclamante\n",
      "empregado\n",
      "reclamada\n",
      "aprovados\n",
      "horas\n",
      "contratação\n",
      "nomeação\n",
      "jornada\n",
      "cef\n",
      "\n",
      "\n"
     ]
    }
   ],
   "source": [
    "original_centroids = svd.inverse_transform(cls.cluster_centers_)\n",
    "centroids = original_centroids.argsort()[:, ::-1]\n",
    "for i in range(len(label.value_counts())):\n",
    "    print('Cluster', list(d.keys())[i]),\n",
    "    for j in centroids[i, :10]:\n",
    "        print(vec.get_feature_names()[j]),\n",
    "    print('\\n')"
   ]
  },
  {
   "cell_type": "markdown",
   "metadata": {},
   "source": [
    "A top 10 of the words that most influence each cluster was showed."
   ]
  },
  {
   "cell_type": "code",
   "execution_count": 17,
   "metadata": {},
   "outputs": [
    {
     "name": "stdout",
     "output_type": "stream",
     "text": [
      "             precision    recall  f1-score   support\n",
      "\n",
      "          0       0.80      0.43      0.56       478\n",
      "          1       0.01      0.01      0.01        72\n",
      "          2       0.24      0.82      0.37        49\n",
      "\n",
      "avg / total       0.66      0.41      0.47       599\n",
      "\n",
      "[[204 174 100]\n",
      " [ 44   1  27]\n",
      " [  8   1  40]]\n"
     ]
    }
   ],
   "source": [
    "print(metrics.classification_report(label, predictions))\n",
    "print(metrics.confusion_matrix(label, predictions))"
   ]
  },
  {
   "cell_type": "markdown",
   "metadata": {},
   "source": [
    "Some metrics were given to a better understanding of the model. Taking into account that only the label 'peticao' represents a type of document in fact, and that 'documento' and 'outros' may have different types of documents, the metric that was taken into account to evaluate the success of this study was the recall of the cluster 'peticao'.  \n",
    "Thus, it is considered a success the mark of 82%, where 40 documents of 49 were correctly classified as 'peticao'."
   ]
  },
  {
   "cell_type": "code",
   "execution_count": 18,
   "metadata": {},
   "outputs": [
    {
     "data": {
      "image/png": "[encoded data removed]",
      "text/plain": [
       "<Figure size 432x288 with 1 Axes>"
      ]
     },
     "metadata": {},
     "output_type": "display_data"
    }
   ],
   "source": [
    "plt.scatter(x, y, c=cls.labels_, cmap='viridis', alpha=.1)\n",
    "for i in cls.cluster_centers_:\n",
    "    plt.plot(i[0], i[1], 'x', color='red')"
   ]
  },
  {
   "cell_type": "markdown",
   "metadata": {},
   "source": [
    "Above the clusters and its centroids were avaliable on graph."
   ]
  }
 ],
 "metadata": {
  "kernelspec": {
   "display_name": "Python 3",
   "language": "python",
   "name": "python3"
  },
  "language_info": {
   "codemirror_mode": {
    "name": "ipython",
    "version": 3
   },
   "file_extension": ".py",
   "mimetype": "text/x-python",
   "name": "python",
   "nbconvert_exporter": "python",
   "pygments_lexer": "ipython3",
   "version": "3.7.0"
  }
 },
 "nbformat": 4,
 "nbformat_minor": 2
}
